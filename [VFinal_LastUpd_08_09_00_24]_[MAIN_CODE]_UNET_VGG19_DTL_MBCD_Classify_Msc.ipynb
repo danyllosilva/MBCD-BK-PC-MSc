{
  "cells": [
    {
      "cell_type": "code",
      "execution_count": null,
      "metadata": {
        "colab": {
          "base_uri": "https://localhost:8080/"
        },
        "id": "3-42paEyWjyL",
        "outputId": "4add32ba-4ede-4ad2-df32-f79f28532f1e"
      },
      "outputs": [
        {
          "output_type": "stream",
          "name": "stdout",
          "text": [
            "Mounted at /content/gdrive\n"
          ]
        }
      ],
      "source": [
        "from google.colab import drive\n",
        "drive.mount ('/content/gdrive', force_remount=True)\n",
        "# PCam Dataset\n",
        "!mkdir '/content/train-pcam'\n",
        "!mkdir '/content/test-pcam'\n",
        "!unzip -qq '/content/gdrive/MyDrive/train-pcam' -d '/content/train-pcam'\n",
        "!unzip -qq '/content/gdrive/MyDrive/test-pcam'  -d '/content/test-pcam'\n",
        "# BreakHis Dataset\n",
        "!mkdir '/content/bh'\n",
        "!unzip -qq '/content/gdrive/MyDrive/BreaKHis_v1.zip'  -d '/content/BH'\n",
        "!unzip -qq '/content/gdrive/MyDrive/Folds.csv.zip'  -d '/content/BH'"
      ],
      "id": "3-42paEyWjyL"
    },
    {
      "cell_type": "markdown",
      "source": [
        "# 1st Phase - Ensemble + Transfer Learning ImageNet - BreakHis"
      ],
      "metadata": {
        "id": "iOjFlTTNLeoJ"
      },
      "id": "iOjFlTTNLeoJ"
    },
    {
      "cell_type": "markdown",
      "metadata": {
        "id": "3NwpQgbAyBNy"
      },
      "source": [
        "## BH SECTION"
      ],
      "id": "3NwpQgbAyBNy"
    },
    {
      "cell_type": "markdown",
      "metadata": {
        "id": "EWWClZWOyVUT"
      },
      "source": [
        "### IMPORTING LIBRARIES"
      ],
      "id": "EWWClZWOyVUT"
    },
    {
      "cell_type": "code",
      "execution_count": null,
      "metadata": {
        "id": "86oxBF0lyN00"
      },
      "outputs": [],
      "source": [
        "# importing libraries\n",
        "\n",
        "import warnings\n",
        "warnings.filterwarnings('ignore')\n",
        "\n",
        "import numpy as np # linear algebra\n",
        "import pandas as pd # data processing, CSV file I/O (e.g. pd.read_csv)\n",
        "import os, time, tqdm\n",
        "import matplotlib.pyplot as plt\n",
        "import seaborn as sns\n",
        "from sklearn.metrics import *\n",
        "import tensorflow as tf\n",
        "from functools import partial\n",
        "# import keras\n",
        "from tensorflow.keras import layers\n",
        "import albumentations as A\n",
        "import tensorflow_hub as hub\n",
        "from tensorflow.keras.layers import Input, Dense, Flatten, Dropout\n",
        "from tensorflow.keras.models import Model\n",
        "from tensorflow.keras.applications.resnet50 import ResNet50\n",
        "from tensorflow.keras.callbacks import CSVLogger\n",
        "from tensorflow.keras.optimizers import Adam\n",
        "from tensorflow.keras.losses import BinaryCrossentropy\n",
        "from tensorflow.keras.metrics import Precision, Recall\n",
        "from sklearn.metrics import classification_report, f1_score\n",
        "from sklearn.model_selection import KFold"
      ],
      "id": "86oxBF0lyN00"
    },
    {
      "cell_type": "markdown",
      "metadata": {
        "id": "Z9wsJ3JeJW-G"
      },
      "source": [
        "### GPU CONFIRMATION"
      ],
      "id": "Z9wsJ3JeJW-G"
    },
    {
      "cell_type": "code",
      "execution_count": null,
      "metadata": {
        "colab": {
          "base_uri": "https://localhost:8080/"
        },
        "id": "eeV04VJgJbyo",
        "outputId": "7a11e08e-e89d-4a86-d231-fc0dd7d7daa7"
      },
      "outputs": [
        {
          "output_type": "stream",
          "name": "stdout",
          "text": [
            "Fri Sep  8 05:00:59 2023       \n",
            "+-----------------------------------------------------------------------------+\n",
            "| NVIDIA-SMI 525.105.17   Driver Version: 525.105.17   CUDA Version: 12.0     |\n",
            "|-------------------------------+----------------------+----------------------+\n",
            "| GPU  Name        Persistence-M| Bus-Id        Disp.A | Volatile Uncorr. ECC |\n",
            "| Fan  Temp  Perf  Pwr:Usage/Cap|         Memory-Usage | GPU-Util  Compute M. |\n",
            "|                               |                      |               MIG M. |\n",
            "|===============================+======================+======================|\n",
            "|   0  NVIDIA A100-SXM...  Off  | 00000000:00:04.0 Off |                    0 |\n",
            "| N/A   33C    P0    45W / 400W |      0MiB / 40960MiB |      0%      Default |\n",
            "|                               |                      |             Disabled |\n",
            "+-------------------------------+----------------------+----------------------+\n",
            "                                                                               \n",
            "+-----------------------------------------------------------------------------+\n",
            "| Processes:                                                                  |\n",
            "|  GPU   GI   CI        PID   Type   Process name                  GPU Memory |\n",
            "|        ID   ID                                                   Usage      |\n",
            "|=============================================================================|\n",
            "|  No running processes found                                                 |\n",
            "+-----------------------------------------------------------------------------+\n"
          ]
        }
      ],
      "source": [
        "!nvidia-smi"
      ],
      "id": "eeV04VJgJbyo"
    },
    {
      "cell_type": "markdown",
      "metadata": {
        "id": "AumQpXGLJgzD"
      },
      "source": [
        "### LOADING DATASET"
      ],
      "id": "AumQpXGLJgzD"
    },
    {
      "cell_type": "code",
      "execution_count": null,
      "metadata": {
        "colab": {
          "base_uri": "https://localhost:8080/"
        },
        "id": "jIApXNUwJibR",
        "outputId": "57775924-d54b-41d6-8913-96acae87d076"
      },
      "outputs": [
        {
          "output_type": "stream",
          "name": "stdout",
          "text": [
            "['malignant', 'benign']\n"
          ]
        }
      ],
      "source": [
        "image_dir = '/content/BH/' #TRAIN_DIR\n",
        "data_path = '/content/BH/Folds.csv' #TEST_DIR\n",
        "\n",
        "# experimental API for making data pipelines\n",
        "tf.data.experimental.AUTOTUNE\n",
        "\n",
        "# defining the class names\n",
        "class_names = ['malignant', 'benign']\n",
        "print(class_names)"
      ],
      "id": "jIApXNUwJibR"
    },
    {
      "cell_type": "code",
      "execution_count": null,
      "metadata": {
        "colab": {
          "base_uri": "https://localhost:8080/",
          "height": 206
        },
        "id": "Guviui_cqapj",
        "outputId": "d457a133-db9f-432b-ae6b-b28a85d5b5c8"
      },
      "outputs": [
        {
          "output_type": "execute_result",
          "data": {
            "text/plain": [
              "   fold  mag    grp                                           filename\n",
              "0     1  100  train  BreaKHis_v1/histology_slides/breast/benign/SOB...\n",
              "1     1  100  train  BreaKHis_v1/histology_slides/breast/benign/SOB...\n",
              "2     1  100  train  BreaKHis_v1/histology_slides/breast/benign/SOB...\n",
              "3     1  100  train  BreaKHis_v1/histology_slides/breast/benign/SOB...\n",
              "4     1  100  train  BreaKHis_v1/histology_slides/breast/benign/SOB..."
            ],
            "text/html": [
              "\n",
              "  <div id=\"df-2d124184-7f95-4b94-96b3-702994ebbe5c\" class=\"colab-df-container\">\n",
              "    <div>\n",
              "<style scoped>\n",
              "    .dataframe tbody tr th:only-of-type {\n",
              "        vertical-align: middle;\n",
              "    }\n",
              "\n",
              "    .dataframe tbody tr th {\n",
              "        vertical-align: top;\n",
              "    }\n",
              "\n",
              "    .dataframe thead th {\n",
              "        text-align: right;\n",
              "    }\n",
              "</style>\n",
              "<table border=\"1\" class=\"dataframe\">\n",
              "  <thead>\n",
              "    <tr style=\"text-align: right;\">\n",
              "      <th></th>\n",
              "      <th>fold</th>\n",
              "      <th>mag</th>\n",
              "      <th>grp</th>\n",
              "      <th>filename</th>\n",
              "    </tr>\n",
              "  </thead>\n",
              "  <tbody>\n",
              "    <tr>\n",
              "      <th>0</th>\n",
              "      <td>1</td>\n",
              "      <td>100</td>\n",
              "      <td>train</td>\n",
              "      <td>BreaKHis_v1/histology_slides/breast/benign/SOB...</td>\n",
              "    </tr>\n",
              "    <tr>\n",
              "      <th>1</th>\n",
              "      <td>1</td>\n",
              "      <td>100</td>\n",
              "      <td>train</td>\n",
              "      <td>BreaKHis_v1/histology_slides/breast/benign/SOB...</td>\n",
              "    </tr>\n",
              "    <tr>\n",
              "      <th>2</th>\n",
              "      <td>1</td>\n",
              "      <td>100</td>\n",
              "      <td>train</td>\n",
              "      <td>BreaKHis_v1/histology_slides/breast/benign/SOB...</td>\n",
              "    </tr>\n",
              "    <tr>\n",
              "      <th>3</th>\n",
              "      <td>1</td>\n",
              "      <td>100</td>\n",
              "      <td>train</td>\n",
              "      <td>BreaKHis_v1/histology_slides/breast/benign/SOB...</td>\n",
              "    </tr>\n",
              "    <tr>\n",
              "      <th>4</th>\n",
              "      <td>1</td>\n",
              "      <td>100</td>\n",
              "      <td>train</td>\n",
              "      <td>BreaKHis_v1/histology_slides/breast/benign/SOB...</td>\n",
              "    </tr>\n",
              "  </tbody>\n",
              "</table>\n",
              "</div>\n",
              "    <div class=\"colab-df-buttons\">\n",
              "\n",
              "  <div class=\"colab-df-container\">\n",
              "    <button class=\"colab-df-convert\" onclick=\"convertToInteractive('df-2d124184-7f95-4b94-96b3-702994ebbe5c')\"\n",
              "            title=\"Convert this dataframe to an interactive table.\"\n",
              "            style=\"display:none;\">\n",
              "\n",
              "  <svg xmlns=\"http://www.w3.org/2000/svg\" height=\"24px\" viewBox=\"0 -960 960 960\">\n",
              "    <path d=\"M120-120v-720h720v720H120Zm60-500h600v-160H180v160Zm220 220h160v-160H400v160Zm0 220h160v-160H400v160ZM180-400h160v-160H180v160Zm440 0h160v-160H620v160ZM180-180h160v-160H180v160Zm440 0h160v-160H620v160Z\"/>\n",
              "  </svg>\n",
              "    </button>\n",
              "\n",
              "  <style>\n",
              "    .colab-df-container {\n",
              "      display:flex;\n",
              "      gap: 12px;\n",
              "    }\n",
              "\n",
              "    .colab-df-convert {\n",
              "      background-color: #E8F0FE;\n",
              "      border: none;\n",
              "      border-radius: 50%;\n",
              "      cursor: pointer;\n",
              "      display: none;\n",
              "      fill: #1967D2;\n",
              "      height: 32px;\n",
              "      padding: 0 0 0 0;\n",
              "      width: 32px;\n",
              "    }\n",
              "\n",
              "    .colab-df-convert:hover {\n",
              "      background-color: #E2EBFA;\n",
              "      box-shadow: 0px 1px 2px rgba(60, 64, 67, 0.3), 0px 1px 3px 1px rgba(60, 64, 67, 0.15);\n",
              "      fill: #174EA6;\n",
              "    }\n",
              "\n",
              "    .colab-df-buttons div {\n",
              "      margin-bottom: 4px;\n",
              "    }\n",
              "\n",
              "    [theme=dark] .colab-df-convert {\n",
              "      background-color: #3B4455;\n",
              "      fill: #D2E3FC;\n",
              "    }\n",
              "\n",
              "    [theme=dark] .colab-df-convert:hover {\n",
              "      background-color: #434B5C;\n",
              "      box-shadow: 0px 1px 3px 1px rgba(0, 0, 0, 0.15);\n",
              "      filter: drop-shadow(0px 1px 2px rgba(0, 0, 0, 0.3));\n",
              "      fill: #FFFFFF;\n",
              "    }\n",
              "  </style>\n",
              "\n",
              "    <script>\n",
              "      const buttonEl =\n",
              "        document.querySelector('#df-2d124184-7f95-4b94-96b3-702994ebbe5c button.colab-df-convert');\n",
              "      buttonEl.style.display =\n",
              "        google.colab.kernel.accessAllowed ? 'block' : 'none';\n",
              "\n",
              "      async function convertToInteractive(key) {\n",
              "        const element = document.querySelector('#df-2d124184-7f95-4b94-96b3-702994ebbe5c');\n",
              "        const dataTable =\n",
              "          await google.colab.kernel.invokeFunction('convertToInteractive',\n",
              "                                                    [key], {});\n",
              "        if (!dataTable) return;\n",
              "\n",
              "        const docLinkHtml = 'Like what you see? Visit the ' +\n",
              "          '<a target=\"_blank\" href=https://colab.research.google.com/notebooks/data_table.ipynb>data table notebook</a>'\n",
              "          + ' to learn more about interactive tables.';\n",
              "        element.innerHTML = '';\n",
              "        dataTable['output_type'] = 'display_data';\n",
              "        await google.colab.output.renderOutput(dataTable, element);\n",
              "        const docLink = document.createElement('div');\n",
              "        docLink.innerHTML = docLinkHtml;\n",
              "        element.appendChild(docLink);\n",
              "      }\n",
              "    </script>\n",
              "  </div>\n",
              "\n",
              "\n",
              "<div id=\"df-802b7576-24d2-4f72-ab3a-250aef7c00ee\">\n",
              "  <button class=\"colab-df-quickchart\" onclick=\"quickchart('df-802b7576-24d2-4f72-ab3a-250aef7c00ee')\"\n",
              "            title=\"Suggest charts.\"\n",
              "            style=\"display:none;\">\n",
              "\n",
              "<svg xmlns=\"http://www.w3.org/2000/svg\" height=\"24px\"viewBox=\"0 0 24 24\"\n",
              "     width=\"24px\">\n",
              "    <g>\n",
              "        <path d=\"M19 3H5c-1.1 0-2 .9-2 2v14c0 1.1.9 2 2 2h14c1.1 0 2-.9 2-2V5c0-1.1-.9-2-2-2zM9 17H7v-7h2v7zm4 0h-2V7h2v10zm4 0h-2v-4h2v4z\"/>\n",
              "    </g>\n",
              "</svg>\n",
              "  </button>\n",
              "\n",
              "<style>\n",
              "  .colab-df-quickchart {\n",
              "      --bg-color: #E8F0FE;\n",
              "      --fill-color: #1967D2;\n",
              "      --hover-bg-color: #E2EBFA;\n",
              "      --hover-fill-color: #174EA6;\n",
              "      --disabled-fill-color: #AAA;\n",
              "      --disabled-bg-color: #DDD;\n",
              "  }\n",
              "\n",
              "  [theme=dark] .colab-df-quickchart {\n",
              "      --bg-color: #3B4455;\n",
              "      --fill-color: #D2E3FC;\n",
              "      --hover-bg-color: #434B5C;\n",
              "      --hover-fill-color: #FFFFFF;\n",
              "      --disabled-bg-color: #3B4455;\n",
              "      --disabled-fill-color: #666;\n",
              "  }\n",
              "\n",
              "  .colab-df-quickchart {\n",
              "    background-color: var(--bg-color);\n",
              "    border: none;\n",
              "    border-radius: 50%;\n",
              "    cursor: pointer;\n",
              "    display: none;\n",
              "    fill: var(--fill-color);\n",
              "    height: 32px;\n",
              "    padding: 0;\n",
              "    width: 32px;\n",
              "  }\n",
              "\n",
              "  .colab-df-quickchart:hover {\n",
              "    background-color: var(--hover-bg-color);\n",
              "    box-shadow: 0 1px 2px rgba(60, 64, 67, 0.3), 0 1px 3px 1px rgba(60, 64, 67, 0.15);\n",
              "    fill: var(--button-hover-fill-color);\n",
              "  }\n",
              "\n",
              "  .colab-df-quickchart-complete:disabled,\n",
              "  .colab-df-quickchart-complete:disabled:hover {\n",
              "    background-color: var(--disabled-bg-color);\n",
              "    fill: var(--disabled-fill-color);\n",
              "    box-shadow: none;\n",
              "  }\n",
              "\n",
              "  .colab-df-spinner {\n",
              "    border: 2px solid var(--fill-color);\n",
              "    border-color: transparent;\n",
              "    border-bottom-color: var(--fill-color);\n",
              "    animation:\n",
              "      spin 1s steps(1) infinite;\n",
              "  }\n",
              "\n",
              "  @keyframes spin {\n",
              "    0% {\n",
              "      border-color: transparent;\n",
              "      border-bottom-color: var(--fill-color);\n",
              "      border-left-color: var(--fill-color);\n",
              "    }\n",
              "    20% {\n",
              "      border-color: transparent;\n",
              "      border-left-color: var(--fill-color);\n",
              "      border-top-color: var(--fill-color);\n",
              "    }\n",
              "    30% {\n",
              "      border-color: transparent;\n",
              "      border-left-color: var(--fill-color);\n",
              "      border-top-color: var(--fill-color);\n",
              "      border-right-color: var(--fill-color);\n",
              "    }\n",
              "    40% {\n",
              "      border-color: transparent;\n",
              "      border-right-color: var(--fill-color);\n",
              "      border-top-color: var(--fill-color);\n",
              "    }\n",
              "    60% {\n",
              "      border-color: transparent;\n",
              "      border-right-color: var(--fill-color);\n",
              "    }\n",
              "    80% {\n",
              "      border-color: transparent;\n",
              "      border-right-color: var(--fill-color);\n",
              "      border-bottom-color: var(--fill-color);\n",
              "    }\n",
              "    90% {\n",
              "      border-color: transparent;\n",
              "      border-bottom-color: var(--fill-color);\n",
              "    }\n",
              "  }\n",
              "</style>\n",
              "\n",
              "  <script>\n",
              "    async function quickchart(key) {\n",
              "      const quickchartButtonEl =\n",
              "        document.querySelector('#' + key + ' button');\n",
              "      quickchartButtonEl.disabled = true;  // To prevent multiple clicks.\n",
              "      quickchartButtonEl.classList.add('colab-df-spinner');\n",
              "      try {\n",
              "        const charts = await google.colab.kernel.invokeFunction(\n",
              "            'suggestCharts', [key], {});\n",
              "      } catch (error) {\n",
              "        console.error('Error during call to suggestCharts:', error);\n",
              "      }\n",
              "      quickchartButtonEl.classList.remove('colab-df-spinner');\n",
              "      quickchartButtonEl.classList.add('colab-df-quickchart-complete');\n",
              "    }\n",
              "    (() => {\n",
              "      let quickchartButtonEl =\n",
              "        document.querySelector('#df-802b7576-24d2-4f72-ab3a-250aef7c00ee button');\n",
              "      quickchartButtonEl.style.display =\n",
              "        google.colab.kernel.accessAllowed ? 'block' : 'none';\n",
              "    })();\n",
              "  </script>\n",
              "</div>\n",
              "    </div>\n",
              "  </div>\n"
            ]
          },
          "metadata": {},
          "execution_count": 5
        }
      ],
      "source": [
        "# loading the data\n",
        "data = pd.read_csv(data_path)\n",
        "data.head(5)"
      ],
      "id": "Guviui_cqapj"
    },
    {
      "cell_type": "code",
      "execution_count": null,
      "metadata": {
        "colab": {
          "base_uri": "https://localhost:8080/"
        },
        "id": "4XU7hMZAqjIQ",
        "outputId": "1ad10772-1604-4296-f7db-489a747fb17b"
      },
      "outputs": [
        {
          "output_type": "execute_result",
          "data": {
            "text/plain": [
              "1    7909\n",
              "2    7909\n",
              "3    7909\n",
              "4    7909\n",
              "5    7909\n",
              "Name: fold, dtype: int64"
            ]
          },
          "metadata": {},
          "execution_count": 6
        }
      ],
      "source": [
        "data['fold'].value_counts()"
      ],
      "id": "4XU7hMZAqjIQ"
    },
    {
      "cell_type": "markdown",
      "metadata": {
        "id": "dAZR6vUKqpEf"
      },
      "source": [
        "### DATA STRUCTURE"
      ],
      "id": "dAZR6vUKqpEf"
    },
    {
      "cell_type": "code",
      "execution_count": null,
      "metadata": {
        "id": "PB4zyxsyqnEb"
      },
      "outputs": [],
      "source": [
        "# renaming and structuring the columns for better data understanding\n",
        "data = data.rename(columns={'filename': 'path'})\n",
        "data['label'] = data.path.apply(lambda x: x.split('/')[3])\n",
        "data['label_int'] = data.label.apply(lambda x: class_names.index(x))\n",
        "data['filename'] = data.path.apply(lambda x: x.split('/')[-1])"
      ],
      "id": "PB4zyxsyqnEb"
    },
    {
      "cell_type": "code",
      "execution_count": null,
      "metadata": {
        "colab": {
          "base_uri": "https://localhost:8080/",
          "height": 238
        },
        "id": "0euhOWrGNset",
        "outputId": "a400d9a5-93f6-4ecf-ebb0-83280dbb89e2"
      },
      "outputs": [
        {
          "output_type": "execute_result",
          "data": {
            "text/plain": [
              "   fold  mag    grp                                               path  \\\n",
              "0     1  100  train  BreaKHis_v1/histology_slides/breast/benign/SOB...   \n",
              "1     1  100  train  BreaKHis_v1/histology_slides/breast/benign/SOB...   \n",
              "2     1  100  train  BreaKHis_v1/histology_slides/breast/benign/SOB...   \n",
              "3     1  100  train  BreaKHis_v1/histology_slides/breast/benign/SOB...   \n",
              "4     1  100  train  BreaKHis_v1/histology_slides/breast/benign/SOB...   \n",
              "5     1  100  train  BreaKHis_v1/histology_slides/breast/benign/SOB...   \n",
              "\n",
              "    label  label_int                        filename  \n",
              "0  benign          1  SOB_B_A-14-22549AB-100-001.png  \n",
              "1  benign          1  SOB_B_A-14-22549AB-100-002.png  \n",
              "2  benign          1  SOB_B_A-14-22549AB-100-003.png  \n",
              "3  benign          1  SOB_B_A-14-22549AB-100-004.png  \n",
              "4  benign          1  SOB_B_A-14-22549AB-100-005.png  \n",
              "5  benign          1  SOB_B_A-14-22549AB-100-006.png  "
            ],
            "text/html": [
              "\n",
              "  <div id=\"df-bf1c2ed1-77f7-4ae0-b5e1-daada246d36c\" class=\"colab-df-container\">\n",
              "    <div>\n",
              "<style scoped>\n",
              "    .dataframe tbody tr th:only-of-type {\n",
              "        vertical-align: middle;\n",
              "    }\n",
              "\n",
              "    .dataframe tbody tr th {\n",
              "        vertical-align: top;\n",
              "    }\n",
              "\n",
              "    .dataframe thead th {\n",
              "        text-align: right;\n",
              "    }\n",
              "</style>\n",
              "<table border=\"1\" class=\"dataframe\">\n",
              "  <thead>\n",
              "    <tr style=\"text-align: right;\">\n",
              "      <th></th>\n",
              "      <th>fold</th>\n",
              "      <th>mag</th>\n",
              "      <th>grp</th>\n",
              "      <th>path</th>\n",
              "      <th>label</th>\n",
              "      <th>label_int</th>\n",
              "      <th>filename</th>\n",
              "    </tr>\n",
              "  </thead>\n",
              "  <tbody>\n",
              "    <tr>\n",
              "      <th>0</th>\n",
              "      <td>1</td>\n",
              "      <td>100</td>\n",
              "      <td>train</td>\n",
              "      <td>BreaKHis_v1/histology_slides/breast/benign/SOB...</td>\n",
              "      <td>benign</td>\n",
              "      <td>1</td>\n",
              "      <td>SOB_B_A-14-22549AB-100-001.png</td>\n",
              "    </tr>\n",
              "    <tr>\n",
              "      <th>1</th>\n",
              "      <td>1</td>\n",
              "      <td>100</td>\n",
              "      <td>train</td>\n",
              "      <td>BreaKHis_v1/histology_slides/breast/benign/SOB...</td>\n",
              "      <td>benign</td>\n",
              "      <td>1</td>\n",
              "      <td>SOB_B_A-14-22549AB-100-002.png</td>\n",
              "    </tr>\n",
              "    <tr>\n",
              "      <th>2</th>\n",
              "      <td>1</td>\n",
              "      <td>100</td>\n",
              "      <td>train</td>\n",
              "      <td>BreaKHis_v1/histology_slides/breast/benign/SOB...</td>\n",
              "      <td>benign</td>\n",
              "      <td>1</td>\n",
              "      <td>SOB_B_A-14-22549AB-100-003.png</td>\n",
              "    </tr>\n",
              "    <tr>\n",
              "      <th>3</th>\n",
              "      <td>1</td>\n",
              "      <td>100</td>\n",
              "      <td>train</td>\n",
              "      <td>BreaKHis_v1/histology_slides/breast/benign/SOB...</td>\n",
              "      <td>benign</td>\n",
              "      <td>1</td>\n",
              "      <td>SOB_B_A-14-22549AB-100-004.png</td>\n",
              "    </tr>\n",
              "    <tr>\n",
              "      <th>4</th>\n",
              "      <td>1</td>\n",
              "      <td>100</td>\n",
              "      <td>train</td>\n",
              "      <td>BreaKHis_v1/histology_slides/breast/benign/SOB...</td>\n",
              "      <td>benign</td>\n",
              "      <td>1</td>\n",
              "      <td>SOB_B_A-14-22549AB-100-005.png</td>\n",
              "    </tr>\n",
              "    <tr>\n",
              "      <th>5</th>\n",
              "      <td>1</td>\n",
              "      <td>100</td>\n",
              "      <td>train</td>\n",
              "      <td>BreaKHis_v1/histology_slides/breast/benign/SOB...</td>\n",
              "      <td>benign</td>\n",
              "      <td>1</td>\n",
              "      <td>SOB_B_A-14-22549AB-100-006.png</td>\n",
              "    </tr>\n",
              "  </tbody>\n",
              "</table>\n",
              "</div>\n",
              "    <div class=\"colab-df-buttons\">\n",
              "\n",
              "  <div class=\"colab-df-container\">\n",
              "    <button class=\"colab-df-convert\" onclick=\"convertToInteractive('df-bf1c2ed1-77f7-4ae0-b5e1-daada246d36c')\"\n",
              "            title=\"Convert this dataframe to an interactive table.\"\n",
              "            style=\"display:none;\">\n",
              "\n",
              "  <svg xmlns=\"http://www.w3.org/2000/svg\" height=\"24px\" viewBox=\"0 -960 960 960\">\n",
              "    <path d=\"M120-120v-720h720v720H120Zm60-500h600v-160H180v160Zm220 220h160v-160H400v160Zm0 220h160v-160H400v160ZM180-400h160v-160H180v160Zm440 0h160v-160H620v160ZM180-180h160v-160H180v160Zm440 0h160v-160H620v160Z\"/>\n",
              "  </svg>\n",
              "    </button>\n",
              "\n",
              "  <style>\n",
              "    .colab-df-container {\n",
              "      display:flex;\n",
              "      gap: 12px;\n",
              "    }\n",
              "\n",
              "    .colab-df-convert {\n",
              "      background-color: #E8F0FE;\n",
              "      border: none;\n",
              "      border-radius: 50%;\n",
              "      cursor: pointer;\n",
              "      display: none;\n",
              "      fill: #1967D2;\n",
              "      height: 32px;\n",
              "      padding: 0 0 0 0;\n",
              "      width: 32px;\n",
              "    }\n",
              "\n",
              "    .colab-df-convert:hover {\n",
              "      background-color: #E2EBFA;\n",
              "      box-shadow: 0px 1px 2px rgba(60, 64, 67, 0.3), 0px 1px 3px 1px rgba(60, 64, 67, 0.15);\n",
              "      fill: #174EA6;\n",
              "    }\n",
              "\n",
              "    .colab-df-buttons div {\n",
              "      margin-bottom: 4px;\n",
              "    }\n",
              "\n",
              "    [theme=dark] .colab-df-convert {\n",
              "      background-color: #3B4455;\n",
              "      fill: #D2E3FC;\n",
              "    }\n",
              "\n",
              "    [theme=dark] .colab-df-convert:hover {\n",
              "      background-color: #434B5C;\n",
              "      box-shadow: 0px 1px 3px 1px rgba(0, 0, 0, 0.15);\n",
              "      filter: drop-shadow(0px 1px 2px rgba(0, 0, 0, 0.3));\n",
              "      fill: #FFFFFF;\n",
              "    }\n",
              "  </style>\n",
              "\n",
              "    <script>\n",
              "      const buttonEl =\n",
              "        document.querySelector('#df-bf1c2ed1-77f7-4ae0-b5e1-daada246d36c button.colab-df-convert');\n",
              "      buttonEl.style.display =\n",
              "        google.colab.kernel.accessAllowed ? 'block' : 'none';\n",
              "\n",
              "      async function convertToInteractive(key) {\n",
              "        const element = document.querySelector('#df-bf1c2ed1-77f7-4ae0-b5e1-daada246d36c');\n",
              "        const dataTable =\n",
              "          await google.colab.kernel.invokeFunction('convertToInteractive',\n",
              "                                                    [key], {});\n",
              "        if (!dataTable) return;\n",
              "\n",
              "        const docLinkHtml = 'Like what you see? Visit the ' +\n",
              "          '<a target=\"_blank\" href=https://colab.research.google.com/notebooks/data_table.ipynb>data table notebook</a>'\n",
              "          + ' to learn more about interactive tables.';\n",
              "        element.innerHTML = '';\n",
              "        dataTable['output_type'] = 'display_data';\n",
              "        await google.colab.output.renderOutput(dataTable, element);\n",
              "        const docLink = document.createElement('div');\n",
              "        docLink.innerHTML = docLinkHtml;\n",
              "        element.appendChild(docLink);\n",
              "      }\n",
              "    </script>\n",
              "  </div>\n",
              "\n",
              "\n",
              "<div id=\"df-05d4aa96-561c-423a-8332-3327983c963f\">\n",
              "  <button class=\"colab-df-quickchart\" onclick=\"quickchart('df-05d4aa96-561c-423a-8332-3327983c963f')\"\n",
              "            title=\"Suggest charts.\"\n",
              "            style=\"display:none;\">\n",
              "\n",
              "<svg xmlns=\"http://www.w3.org/2000/svg\" height=\"24px\"viewBox=\"0 0 24 24\"\n",
              "     width=\"24px\">\n",
              "    <g>\n",
              "        <path d=\"M19 3H5c-1.1 0-2 .9-2 2v14c0 1.1.9 2 2 2h14c1.1 0 2-.9 2-2V5c0-1.1-.9-2-2-2zM9 17H7v-7h2v7zm4 0h-2V7h2v10zm4 0h-2v-4h2v4z\"/>\n",
              "    </g>\n",
              "</svg>\n",
              "  </button>\n",
              "\n",
              "<style>\n",
              "  .colab-df-quickchart {\n",
              "      --bg-color: #E8F0FE;\n",
              "      --fill-color: #1967D2;\n",
              "      --hover-bg-color: #E2EBFA;\n",
              "      --hover-fill-color: #174EA6;\n",
              "      --disabled-fill-color: #AAA;\n",
              "      --disabled-bg-color: #DDD;\n",
              "  }\n",
              "\n",
              "  [theme=dark] .colab-df-quickchart {\n",
              "      --bg-color: #3B4455;\n",
              "      --fill-color: #D2E3FC;\n",
              "      --hover-bg-color: #434B5C;\n",
              "      --hover-fill-color: #FFFFFF;\n",
              "      --disabled-bg-color: #3B4455;\n",
              "      --disabled-fill-color: #666;\n",
              "  }\n",
              "\n",
              "  .colab-df-quickchart {\n",
              "    background-color: var(--bg-color);\n",
              "    border: none;\n",
              "    border-radius: 50%;\n",
              "    cursor: pointer;\n",
              "    display: none;\n",
              "    fill: var(--fill-color);\n",
              "    height: 32px;\n",
              "    padding: 0;\n",
              "    width: 32px;\n",
              "  }\n",
              "\n",
              "  .colab-df-quickchart:hover {\n",
              "    background-color: var(--hover-bg-color);\n",
              "    box-shadow: 0 1px 2px rgba(60, 64, 67, 0.3), 0 1px 3px 1px rgba(60, 64, 67, 0.15);\n",
              "    fill: var(--button-hover-fill-color);\n",
              "  }\n",
              "\n",
              "  .colab-df-quickchart-complete:disabled,\n",
              "  .colab-df-quickchart-complete:disabled:hover {\n",
              "    background-color: var(--disabled-bg-color);\n",
              "    fill: var(--disabled-fill-color);\n",
              "    box-shadow: none;\n",
              "  }\n",
              "\n",
              "  .colab-df-spinner {\n",
              "    border: 2px solid var(--fill-color);\n",
              "    border-color: transparent;\n",
              "    border-bottom-color: var(--fill-color);\n",
              "    animation:\n",
              "      spin 1s steps(1) infinite;\n",
              "  }\n",
              "\n",
              "  @keyframes spin {\n",
              "    0% {\n",
              "      border-color: transparent;\n",
              "      border-bottom-color: var(--fill-color);\n",
              "      border-left-color: var(--fill-color);\n",
              "    }\n",
              "    20% {\n",
              "      border-color: transparent;\n",
              "      border-left-color: var(--fill-color);\n",
              "      border-top-color: var(--fill-color);\n",
              "    }\n",
              "    30% {\n",
              "      border-color: transparent;\n",
              "      border-left-color: var(--fill-color);\n",
              "      border-top-color: var(--fill-color);\n",
              "      border-right-color: var(--fill-color);\n",
              "    }\n",
              "    40% {\n",
              "      border-color: transparent;\n",
              "      border-right-color: var(--fill-color);\n",
              "      border-top-color: var(--fill-color);\n",
              "    }\n",
              "    60% {\n",
              "      border-color: transparent;\n",
              "      border-right-color: var(--fill-color);\n",
              "    }\n",
              "    80% {\n",
              "      border-color: transparent;\n",
              "      border-right-color: var(--fill-color);\n",
              "      border-bottom-color: var(--fill-color);\n",
              "    }\n",
              "    90% {\n",
              "      border-color: transparent;\n",
              "      border-bottom-color: var(--fill-color);\n",
              "    }\n",
              "  }\n",
              "</style>\n",
              "\n",
              "  <script>\n",
              "    async function quickchart(key) {\n",
              "      const quickchartButtonEl =\n",
              "        document.querySelector('#' + key + ' button');\n",
              "      quickchartButtonEl.disabled = true;  // To prevent multiple clicks.\n",
              "      quickchartButtonEl.classList.add('colab-df-spinner');\n",
              "      try {\n",
              "        const charts = await google.colab.kernel.invokeFunction(\n",
              "            'suggestCharts', [key], {});\n",
              "      } catch (error) {\n",
              "        console.error('Error during call to suggestCharts:', error);\n",
              "      }\n",
              "      quickchartButtonEl.classList.remove('colab-df-spinner');\n",
              "      quickchartButtonEl.classList.add('colab-df-quickchart-complete');\n",
              "    }\n",
              "    (() => {\n",
              "      let quickchartButtonEl =\n",
              "        document.querySelector('#df-05d4aa96-561c-423a-8332-3327983c963f button');\n",
              "      quickchartButtonEl.style.display =\n",
              "        google.colab.kernel.accessAllowed ? 'block' : 'none';\n",
              "    })();\n",
              "  </script>\n",
              "</div>\n",
              "    </div>\n",
              "  </div>\n"
            ]
          },
          "metadata": {},
          "execution_count": 8
        }
      ],
      "source": [
        "# view first n rows of strucrured data\n",
        "data.head(6)"
      ],
      "id": "0euhOWrGNset"
    },
    {
      "cell_type": "code",
      "execution_count": null,
      "metadata": {
        "colab": {
          "base_uri": "https://localhost:8080/"
        },
        "id": "YEjNVgY2PvLp",
        "outputId": "9c372f27-7073-47a2-b554-ccc9b9baee41"
      },
      "outputs": [
        {
          "output_type": "execute_result",
          "data": {
            "text/plain": [
              "(39545, 7)"
            ]
          },
          "metadata": {},
          "execution_count": 9
        }
      ],
      "source": [
        "data.shape"
      ],
      "id": "YEjNVgY2PvLp"
    },
    {
      "cell_type": "markdown",
      "metadata": {
        "id": "p_Ei_JImPx3Z"
      },
      "source": [
        "### DATA ANALYSIS"
      ],
      "id": "p_Ei_JImPx3Z"
    },
    {
      "cell_type": "code",
      "execution_count": null,
      "metadata": {
        "colab": {
          "base_uri": "https://localhost:8080/",
          "height": 518
        },
        "id": "eXfQ75o6PwY8",
        "outputId": "01345252-3dc6-4af9-d6c1-4cf980fc2961"
      },
      "outputs": [
        {
          "output_type": "execute_result",
          "data": {
            "text/plain": [
              "<seaborn.axisgrid.FacetGrid at 0x7921453d3ac0>"
            ]
          },
          "metadata": {},
          "execution_count": 10
        },
        {
          "output_type": "display_data",
          "data": {
            "text/plain": [
              "<Figure size 500x500 with 1 Axes>"
            ],
            "image/png": "[encoded data removed]"
          },
          "metadata": {}
        }
      ],
      "source": [
        "# making a plot to see data distribution\n",
        "# sns.figure()\n",
        "sns.set_theme()\n",
        "sns.displot(x='label', data=data)"
      ],
      "id": "eXfQ75o6PwY8"
    },
    {
      "cell_type": "code",
      "execution_count": null,
      "metadata": {
        "colab": {
          "base_uri": "https://localhost:8080/",
          "height": 475
        },
        "id": "d5ZgdOQCQCx5",
        "outputId": "2f61ceff-ac96-44fe-deb7-721082ceb604"
      },
      "outputs": [
        {
          "output_type": "execute_result",
          "data": {
            "text/plain": [
              "<Axes: xlabel='label', ylabel='count'>"
            ]
          },
          "metadata": {},
          "execution_count": 11
        },
        {
          "output_type": "display_data",
          "data": {
            "text/plain": [
              "<Figure size 640x480 with 1 Axes>"
            ],
            "image/png": "[encoded data removed]"
          },
          "metadata": {}
        }
      ],
      "source": [
        "sns.countplot(x=data['label'], data=data)"
      ],
      "id": "d5ZgdOQCQCx5"
    },
    {
      "cell_type": "markdown",
      "metadata": {
        "id": "_B67NQM7QK_R"
      },
      "source": [
        "### Dataset Modelling for Deep Learning"
      ],
      "id": "_B67NQM7QK_R"
    },
    {
      "cell_type": "code",
      "execution_count": null,
      "metadata": {
        "id": "DQliWeviQMTd"
      },
      "outputs": [],
      "source": [
        "# sorting out training, validation and testing images\n",
        "test_images = data.groupby(by='label').sample(3000)\n",
        "train_images = data.drop(test_images.index).reset_index(drop=True)\n",
        "test_images = test_images.reset_index(drop=True)"
      ],
      "id": "DQliWeviQMTd"
    },
    {
      "cell_type": "code",
      "execution_count": null,
      "metadata": {
        "id": "4B7fc6jXQSrH"
      },
      "outputs": [],
      "source": [
        "# making splits of training & validation datasets\n",
        "validation_images = train_images.sample(frac = 0.3)\n",
        "train_images = train_images.drop(validation_images.index).reset_index(drop=True)\n",
        "validation_images = validation_images.reset_index(drop=True)"
      ],
      "id": "4B7fc6jXQSrH"
    },
    {
      "cell_type": "code",
      "execution_count": null,
      "metadata": {
        "colab": {
          "base_uri": "https://localhost:8080/"
        },
        "id": "5iZoFk-0QU8p",
        "outputId": "c9b18546-5c6e-45e5-d1cb-b5856e51c981"
      },
      "outputs": [
        {
          "output_type": "stream",
          "name": "stdout",
          "text": [
            "Total training images: 23481\n",
            "Total validation images: 10064\n",
            "Total testing images: 6000\n"
          ]
        }
      ],
      "source": [
        "print('Total training images: % s' % str(train_images.shape[0]))\n",
        "print('Total validation images: % s' % str(validation_images.shape[0]))\n",
        "print('Total testing images: % s' % str(test_images.shape[0]))"
      ],
      "id": "5iZoFk-0QU8p"
    },
    {
      "cell_type": "code",
      "execution_count": null,
      "metadata": {
        "id": "IABuWQWYQXjW"
      },
      "outputs": [],
      "source": [
        "train_images['set'] = 'train'\n",
        "validation_images['set'] = 'validation'\n",
        "test_images['set'] = 'test'"
      ],
      "id": "IABuWQWYQXjW"
    },
    {
      "cell_type": "code",
      "execution_count": null,
      "metadata": {
        "colab": {
          "base_uri": "https://localhost:8080/",
          "height": 206
        },
        "id": "d73AEMjlQbYJ",
        "outputId": "7c36b0b3-1057-4db0-ebc0-1dbdc9d192b1"
      },
      "outputs": [
        {
          "output_type": "execute_result",
          "data": {
            "text/plain": [
              "   fold  mag    grp                                               path  \\\n",
              "0     1  100  train  BreaKHis_v1/histology_slides/breast/benign/SOB...   \n",
              "1     1  100  train  BreaKHis_v1/histology_slides/breast/benign/SOB...   \n",
              "2     1  100  train  BreaKHis_v1/histology_slides/breast/benign/SOB...   \n",
              "3     1  100  train  BreaKHis_v1/histology_slides/breast/benign/SOB...   \n",
              "4     1  100  train  BreaKHis_v1/histology_slides/breast/benign/SOB...   \n",
              "\n",
              "    label  label_int                        filename    set  \n",
              "0  benign          1  SOB_B_A-14-22549AB-100-006.png  train  \n",
              "1  benign          1  SOB_B_A-14-22549AB-100-010.png  train  \n",
              "2  benign          1  SOB_B_A-14-22549AB-100-011.png  train  \n",
              "3  benign          1  SOB_B_A-14-22549AB-100-012.png  train  \n",
              "4  benign          1  SOB_B_A-14-22549AB-100-013.png  train  "
            ],
            "text/html": [
              "\n",
              "  <div id=\"df-abd5bdae-3ef2-4231-a8ad-fb3aae614579\" class=\"colab-df-container\">\n",
              "    <div>\n",
              "<style scoped>\n",
              "    .dataframe tbody tr th:only-of-type {\n",
              "        vertical-align: middle;\n",
              "    }\n",
              "\n",
              "    .dataframe tbody tr th {\n",
              "        vertical-align: top;\n",
              "    }\n",
              "\n",
              "    .dataframe thead th {\n",
              "        text-align: right;\n",
              "    }\n",
              "</style>\n",
              "<table border=\"1\" class=\"dataframe\">\n",
              "  <thead>\n",
              "    <tr style=\"text-align: right;\">\n",
              "      <th></th>\n",
              "      <th>fold</th>\n",
              "      <th>mag</th>\n",
              "      <th>grp</th>\n",
              "      <th>path</th>\n",
              "      <th>label</th>\n",
              "      <th>label_int</th>\n",
              "      <th>filename</th>\n",
              "      <th>set</th>\n",
              "    </tr>\n",
              "  </thead>\n",
              "  <tbody>\n",
              "    <tr>\n",
              "      <th>0</th>\n",
              "      <td>1</td>\n",
              "      <td>100</td>\n",
              "      <td>train</td>\n",
              "      <td>BreaKHis_v1/histology_slides/breast/benign/SOB...</td>\n",
              "      <td>benign</td>\n",
              "      <td>1</td>\n",
              "      <td>SOB_B_A-14-22549AB-100-006.png</td>\n",
              "      <td>train</td>\n",
              "    </tr>\n",
              "    <tr>\n",
              "      <th>1</th>\n",
              "      <td>1</td>\n",
              "      <td>100</td>\n",
              "      <td>train</td>\n",
              "      <td>BreaKHis_v1/histology_slides/breast/benign/SOB...</td>\n",
              "      <td>benign</td>\n",
              "      <td>1</td>\n",
              "      <td>SOB_B_A-14-22549AB-100-010.png</td>\n",
              "      <td>train</td>\n",
              "    </tr>\n",
              "    <tr>\n",
              "      <th>2</th>\n",
              "      <td>1</td>\n",
              "      <td>100</td>\n",
              "      <td>train</td>\n",
              "      <td>BreaKHis_v1/histology_slides/breast/benign/SOB...</td>\n",
              "      <td>benign</td>\n",
              "      <td>1</td>\n",
              "      <td>SOB_B_A-14-22549AB-100-011.png</td>\n",
              "      <td>train</td>\n",
              "    </tr>\n",
              "    <tr>\n",
              "      <th>3</th>\n",
              "      <td>1</td>\n",
              "      <td>100</td>\n",
              "      <td>train</td>\n",
              "      <td>BreaKHis_v1/histology_slides/breast/benign/SOB...</td>\n",
              "      <td>benign</td>\n",
              "      <td>1</td>\n",
              "      <td>SOB_B_A-14-22549AB-100-012.png</td>\n",
              "      <td>train</td>\n",
              "    </tr>\n",
              "    <tr>\n",
              "      <th>4</th>\n",
              "      <td>1</td>\n",
              "      <td>100</td>\n",
              "      <td>train</td>\n",
              "      <td>BreaKHis_v1/histology_slides/breast/benign/SOB...</td>\n",
              "      <td>benign</td>\n",
              "      <td>1</td>\n",
              "      <td>SOB_B_A-14-22549AB-100-013.png</td>\n",
              "      <td>train</td>\n",
              "    </tr>\n",
              "  </tbody>\n",
              "</table>\n",
              "</div>\n",
              "    <div class=\"colab-df-buttons\">\n",
              "\n",
              "  <div class=\"colab-df-container\">\n",
              "    <button class=\"colab-df-convert\" onclick=\"convertToInteractive('df-abd5bdae-3ef2-4231-a8ad-fb3aae614579')\"\n",
              "            title=\"Convert this dataframe to an interactive table.\"\n",
              "            style=\"display:none;\">\n",
              "\n",
              "  <svg xmlns=\"http://www.w3.org/2000/svg\" height=\"24px\" viewBox=\"0 -960 960 960\">\n",
              "    <path d=\"M120-120v-720h720v720H120Zm60-500h600v-160H180v160Zm220 220h160v-160H400v160Zm0 220h160v-160H400v160ZM180-400h160v-160H180v160Zm440 0h160v-160H620v160ZM180-180h160v-160H180v160Zm440 0h160v-160H620v160Z\"/>\n",
              "  </svg>\n",
              "    </button>\n",
              "\n",
              "  <style>\n",
              "    .colab-df-container {\n",
              "      display:flex;\n",
              "      gap: 12px;\n",
              "    }\n",
              "\n",
              "    .colab-df-convert {\n",
              "      background-color: #E8F0FE;\n",
              "      border: none;\n",
              "      border-radius: 50%;\n",
              "      cursor: pointer;\n",
              "      display: none;\n",
              "      fill: #1967D2;\n",
              "      height: 32px;\n",
              "      padding: 0 0 0 0;\n",
              "      width: 32px;\n",
              "    }\n",
              "\n",
              "    .colab-df-convert:hover {\n",
              "      background-color: #E2EBFA;\n",
              "      box-shadow: 0px 1px 2px rgba(60, 64, 67, 0.3), 0px 1px 3px 1px rgba(60, 64, 67, 0.15);\n",
              "      fill: #174EA6;\n",
              "    }\n",
              "\n",
              "    .colab-df-buttons div {\n",
              "      margin-bottom: 4px;\n",
              "    }\n",
              "\n",
              "    [theme=dark] .colab-df-convert {\n",
              "      background-color: #3B4455;\n",
              "      fill: #D2E3FC;\n",
              "    }\n",
              "\n",
              "    [theme=dark] .colab-df-convert:hover {\n",
              "      background-color: #434B5C;\n",
              "      box-shadow: 0px 1px 3px 1px rgba(0, 0, 0, 0.15);\n",
              "      filter: drop-shadow(0px 1px 2px rgba(0, 0, 0, 0.3));\n",
              "      fill: #FFFFFF;\n",
              "    }\n",
              "  </style>\n",
              "\n",
              "    <script>\n",
              "      const buttonEl =\n",
              "        document.querySelector('#df-abd5bdae-3ef2-4231-a8ad-fb3aae614579 button.colab-df-convert');\n",
              "      buttonEl.style.display =\n",
              "        google.colab.kernel.accessAllowed ? 'block' : 'none';\n",
              "\n",
              "      async function convertToInteractive(key) {\n",
              "        const element = document.querySelector('#df-abd5bdae-3ef2-4231-a8ad-fb3aae614579');\n",
              "        const dataTable =\n",
              "          await google.colab.kernel.invokeFunction('convertToInteractive',\n",
              "                                                    [key], {});\n",
              "        if (!dataTable) return;\n",
              "\n",
              "        const docLinkHtml = 'Like what you see? Visit the ' +\n",
              "          '<a target=\"_blank\" href=https://colab.research.google.com/notebooks/data_table.ipynb>data table notebook</a>'\n",
              "          + ' to learn more about interactive tables.';\n",
              "        element.innerHTML = '';\n",
              "        dataTable['output_type'] = 'display_data';\n",
              "        await google.colab.output.renderOutput(dataTable, element);\n",
              "        const docLink = document.createElement('div');\n",
              "        docLink.innerHTML = docLinkHtml;\n",
              "        element.appendChild(docLink);\n",
              "      }\n",
              "    </script>\n",
              "  </div>\n",
              "\n",
              "\n",
              "<div id=\"df-6947a204-fe5c-4574-9f5a-df4ff6711ca7\">\n",
              "  <button class=\"colab-df-quickchart\" onclick=\"quickchart('df-6947a204-fe5c-4574-9f5a-df4ff6711ca7')\"\n",
              "            title=\"Suggest charts.\"\n",
              "            style=\"display:none;\">\n",
              "\n",
              "<svg xmlns=\"http://www.w3.org/2000/svg\" height=\"24px\"viewBox=\"0 0 24 24\"\n",
              "     width=\"24px\">\n",
              "    <g>\n",
              "        <path d=\"M19 3H5c-1.1 0-2 .9-2 2v14c0 1.1.9 2 2 2h14c1.1 0 2-.9 2-2V5c0-1.1-.9-2-2-2zM9 17H7v-7h2v7zm4 0h-2V7h2v10zm4 0h-2v-4h2v4z\"/>\n",
              "    </g>\n",
              "</svg>\n",
              "  </button>\n",
              "\n",
              "<style>\n",
              "  .colab-df-quickchart {\n",
              "      --bg-color: #E8F0FE;\n",
              "      --fill-color: #1967D2;\n",
              "      --hover-bg-color: #E2EBFA;\n",
              "      --hover-fill-color: #174EA6;\n",
              "      --disabled-fill-color: #AAA;\n",
              "      --disabled-bg-color: #DDD;\n",
              "  }\n",
              "\n",
              "  [theme=dark] .colab-df-quickchart {\n",
              "      --bg-color: #3B4455;\n",
              "      --fill-color: #D2E3FC;\n",
              "      --hover-bg-color: #434B5C;\n",
              "      --hover-fill-color: #FFFFFF;\n",
              "      --disabled-bg-color: #3B4455;\n",
              "      --disabled-fill-color: #666;\n",
              "  }\n",
              "\n",
              "  .colab-df-quickchart {\n",
              "    background-color: var(--bg-color);\n",
              "    border: none;\n",
              "    border-radius: 50%;\n",
              "    cursor: pointer;\n",
              "    display: none;\n",
              "    fill: var(--fill-color);\n",
              "    height: 32px;\n",
              "    padding: 0;\n",
              "    width: 32px;\n",
              "  }\n",
              "\n",
              "  .colab-df-quickchart:hover {\n",
              "    background-color: var(--hover-bg-color);\n",
              "    box-shadow: 0 1px 2px rgba(60, 64, 67, 0.3), 0 1px 3px 1px rgba(60, 64, 67, 0.15);\n",
              "    fill: var(--button-hover-fill-color);\n",
              "  }\n",
              "\n",
              "  .colab-df-quickchart-complete:disabled,\n",
              "  .colab-df-quickchart-complete:disabled:hover {\n",
              "    background-color: var(--disabled-bg-color);\n",
              "    fill: var(--disabled-fill-color);\n",
              "    box-shadow: none;\n",
              "  }\n",
              "\n",
              "  .colab-df-spinner {\n",
              "    border: 2px solid var(--fill-color);\n",
              "    border-color: transparent;\n",
              "    border-bottom-color: var(--fill-color);\n",
              "    animation:\n",
              "      spin 1s steps(1) infinite;\n",
              "  }\n",
              "\n",
              "  @keyframes spin {\n",
              "    0% {\n",
              "      border-color: transparent;\n",
              "      border-bottom-color: var(--fill-color);\n",
              "      border-left-color: var(--fill-color);\n",
              "    }\n",
              "    20% {\n",
              "      border-color: transparent;\n",
              "      border-left-color: var(--fill-color);\n",
              "      border-top-color: var(--fill-color);\n",
              "    }\n",
              "    30% {\n",
              "      border-color: transparent;\n",
              "      border-left-color: var(--fill-color);\n",
              "      border-top-color: var(--fill-color);\n",
              "      border-right-color: var(--fill-color);\n",
              "    }\n",
              "    40% {\n",
              "      border-color: transparent;\n",
              "      border-right-color: var(--fill-color);\n",
              "      border-top-color: var(--fill-color);\n",
              "    }\n",
              "    60% {\n",
              "      border-color: transparent;\n",
              "      border-right-color: var(--fill-color);\n",
              "    }\n",
              "    80% {\n",
              "      border-color: transparent;\n",
              "      border-right-color: var(--fill-color);\n",
              "      border-bottom-color: var(--fill-color);\n",
              "    }\n",
              "    90% {\n",
              "      border-color: transparent;\n",
              "      border-bottom-color: var(--fill-color);\n",
              "    }\n",
              "  }\n",
              "</style>\n",
              "\n",
              "  <script>\n",
              "    async function quickchart(key) {\n",
              "      const quickchartButtonEl =\n",
              "        document.querySelector('#' + key + ' button');\n",
              "      quickchartButtonEl.disabled = true;  // To prevent multiple clicks.\n",
              "      quickchartButtonEl.classList.add('colab-df-spinner');\n",
              "      try {\n",
              "        const charts = await google.colab.kernel.invokeFunction(\n",
              "            'suggestCharts', [key], {});\n",
              "      } catch (error) {\n",
              "        console.error('Error during call to suggestCharts:', error);\n",
              "      }\n",
              "      quickchartButtonEl.classList.remove('colab-df-spinner');\n",
              "      quickchartButtonEl.classList.add('colab-df-quickchart-complete');\n",
              "    }\n",
              "    (() => {\n",
              "      let quickchartButtonEl =\n",
              "        document.querySelector('#df-6947a204-fe5c-4574-9f5a-df4ff6711ca7 button');\n",
              "      quickchartButtonEl.style.display =\n",
              "        google.colab.kernel.accessAllowed ? 'block' : 'none';\n",
              "    })();\n",
              "  </script>\n",
              "</div>\n",
              "    </div>\n",
              "  </div>\n"
            ]
          },
          "metadata": {},
          "execution_count": 16
        }
      ],
      "source": [
        "new_data = pd.concat([train_images, validation_images, test_images])\n",
        "new_data.head(5)"
      ],
      "id": "d73AEMjlQbYJ"
    },
    {
      "cell_type": "markdown",
      "metadata": {
        "id": "DzY4GebTQgSW"
      },
      "source": [
        "### Visualizing Train, Validation & Test Splits"
      ],
      "id": "DzY4GebTQgSW"
    },
    {
      "cell_type": "code",
      "execution_count": null,
      "metadata": {
        "colab": {
          "base_uri": "https://localhost:8080/",
          "height": 521
        },
        "id": "57jWT2dDQceL",
        "outputId": "2ce8ad35-01e6-425b-844d-64182a42767c"
      },
      "outputs": [
        {
          "output_type": "execute_result",
          "data": {
            "text/plain": [
              "<Axes: xlabel='label', ylabel='count'>"
            ]
          },
          "metadata": {},
          "execution_count": 17
        },
        {
          "output_type": "display_data",
          "data": {
            "text/plain": [
              "<Figure size 1040x540 with 1 Axes>"
            ],
            "image/png": "[encoded data removed]"
          },
          "metadata": {}
        }
      ],
      "source": [
        "sns.set(rc={'figure.figsize':(10.4, 5.4)})\n",
        "sns.countplot(x=new_data['label'], hue=new_data['set'])"
      ],
      "id": "57jWT2dDQceL"
    },
    {
      "cell_type": "markdown",
      "metadata": {
        "id": "RiLJtqhnRB_x"
      },
      "source": [
        "### Unsampling Data"
      ],
      "id": "RiLJtqhnRB_x"
    },
    {
      "cell_type": "code",
      "execution_count": null,
      "metadata": {
        "id": "HLA7B6pYRDpJ"
      },
      "outputs": [],
      "source": [
        "max_count = np.max(train_images.label.value_counts())\n",
        "min_count = np.min(train_images.label.value_counts())\n",
        "train_images = train_images.groupby('label').sample(n=max_count, replace=True)\n",
        "train_images = train_images.reset_index(drop=True)"
      ],
      "id": "HLA7B6pYRDpJ"
    },
    {
      "cell_type": "code",
      "execution_count": null,
      "metadata": {
        "colab": {
          "base_uri": "https://localhost:8080/",
          "height": 206
        },
        "id": "zjo3di07RF3L",
        "outputId": "6798dc6f-2d57-41d4-bfe5-1831f899df49"
      },
      "outputs": [
        {
          "output_type": "execute_result",
          "data": {
            "text/plain": [
              "   fold  mag    grp                                               path  \\\n",
              "0     3  200  train  BreaKHis_v1/histology_slides/breast/benign/SOB...   \n",
              "1     5  400  train  BreaKHis_v1/histology_slides/breast/benign/SOB...   \n",
              "2     5  200  train  BreaKHis_v1/histology_slides/breast/benign/SOB...   \n",
              "3     4  200   test  BreaKHis_v1/histology_slides/breast/benign/SOB...   \n",
              "4     1   40  train  BreaKHis_v1/histology_slides/breast/benign/SOB...   \n",
              "\n",
              "    label  label_int                       filename    set  \n",
              "0  benign          1  SOB_B_TA-14-16184-200-009.png  train  \n",
              "1  benign          1  SOB_B_PT-14-22704-400-014.png  train  \n",
              "2  benign          1  SOB_B_F-14-14134E-200-017.png  train  \n",
              "3  benign          1  SOB_B_PT-14-22704-200-013.png  train  \n",
              "4  benign          1   SOB_B_PT-14-22704-40-034.png  train  "
            ],
            "text/html": [
              "\n",
              "  <div id=\"df-b55c80eb-c922-4e0a-8e9e-14be3b49591a\" class=\"colab-df-container\">\n",
              "    <div>\n",
              "<style scoped>\n",
              "    .dataframe tbody tr th:only-of-type {\n",
              "        vertical-align: middle;\n",
              "    }\n",
              "\n",
              "    .dataframe tbody tr th {\n",
              "        vertical-align: top;\n",
              "    }\n",
              "\n",
              "    .dataframe thead th {\n",
              "        text-align: right;\n",
              "    }\n",
              "</style>\n",
              "<table border=\"1\" class=\"dataframe\">\n",
              "  <thead>\n",
              "    <tr style=\"text-align: right;\">\n",
              "      <th></th>\n",
              "      <th>fold</th>\n",
              "      <th>mag</th>\n",
              "      <th>grp</th>\n",
              "      <th>path</th>\n",
              "      <th>label</th>\n",
              "      <th>label_int</th>\n",
              "      <th>filename</th>\n",
              "      <th>set</th>\n",
              "    </tr>\n",
              "  </thead>\n",
              "  <tbody>\n",
              "    <tr>\n",
              "      <th>0</th>\n",
              "      <td>3</td>\n",
              "      <td>200</td>\n",
              "      <td>train</td>\n",
              "      <td>BreaKHis_v1/histology_slides/breast/benign/SOB...</td>\n",
              "      <td>benign</td>\n",
              "      <td>1</td>\n",
              "      <td>SOB_B_TA-14-16184-200-009.png</td>\n",
              "      <td>train</td>\n",
              "    </tr>\n",
              "    <tr>\n",
              "      <th>1</th>\n",
              "      <td>5</td>\n",
              "      <td>400</td>\n",
              "      <td>train</td>\n",
              "      <td>BreaKHis_v1/histology_slides/breast/benign/SOB...</td>\n",
              "      <td>benign</td>\n",
              "      <td>1</td>\n",
              "      <td>SOB_B_PT-14-22704-400-014.png</td>\n",
              "      <td>train</td>\n",
              "    </tr>\n",
              "    <tr>\n",
              "      <th>2</th>\n",
              "      <td>5</td>\n",
              "      <td>200</td>\n",
              "      <td>train</td>\n",
              "      <td>BreaKHis_v1/histology_slides/breast/benign/SOB...</td>\n",
              "      <td>benign</td>\n",
              "      <td>1</td>\n",
              "      <td>SOB_B_F-14-14134E-200-017.png</td>\n",
              "      <td>train</td>\n",
              "    </tr>\n",
              "    <tr>\n",
              "      <th>3</th>\n",
              "      <td>4</td>\n",
              "      <td>200</td>\n",
              "      <td>test</td>\n",
              "      <td>BreaKHis_v1/histology_slides/breast/benign/SOB...</td>\n",
              "      <td>benign</td>\n",
              "      <td>1</td>\n",
              "      <td>SOB_B_PT-14-22704-200-013.png</td>\n",
              "      <td>train</td>\n",
              "    </tr>\n",
              "    <tr>\n",
              "      <th>4</th>\n",
              "      <td>1</td>\n",
              "      <td>40</td>\n",
              "      <td>train</td>\n",
              "      <td>BreaKHis_v1/histology_slides/breast/benign/SOB...</td>\n",
              "      <td>benign</td>\n",
              "      <td>1</td>\n",
              "      <td>SOB_B_PT-14-22704-40-034.png</td>\n",
              "      <td>train</td>\n",
              "    </tr>\n",
              "  </tbody>\n",
              "</table>\n",
              "</div>\n",
              "    <div class=\"colab-df-buttons\">\n",
              "\n",
              "  <div class=\"colab-df-container\">\n",
              "    <button class=\"colab-df-convert\" onclick=\"convertToInteractive('df-b55c80eb-c922-4e0a-8e9e-14be3b49591a')\"\n",
              "            title=\"Convert this dataframe to an interactive table.\"\n",
              "            style=\"display:none;\">\n",
              "\n",
              "  <svg xmlns=\"http://www.w3.org/2000/svg\" height=\"24px\" viewBox=\"0 -960 960 960\">\n",
              "    <path d=\"M120-120v-720h720v720H120Zm60-500h600v-160H180v160Zm220 220h160v-160H400v160Zm0 220h160v-160H400v160ZM180-400h160v-160H180v160Zm440 0h160v-160H620v160ZM180-180h160v-160H180v160Zm440 0h160v-160H620v160Z\"/>\n",
              "  </svg>\n",
              "    </button>\n",
              "\n",
              "  <style>\n",
              "    .colab-df-container {\n",
              "      display:flex;\n",
              "      gap: 12px;\n",
              "    }\n",
              "\n",
              "    .colab-df-convert {\n",
              "      background-color: #E8F0FE;\n",
              "      border: none;\n",
              "      border-radius: 50%;\n",
              "      cursor: pointer;\n",
              "      display: none;\n",
              "      fill: #1967D2;\n",
              "      height: 32px;\n",
              "      padding: 0 0 0 0;\n",
              "      width: 32px;\n",
              "    }\n",
              "\n",
              "    .colab-df-convert:hover {\n",
              "      background-color: #E2EBFA;\n",
              "      box-shadow: 0px 1px 2px rgba(60, 64, 67, 0.3), 0px 1px 3px 1px rgba(60, 64, 67, 0.15);\n",
              "      fill: #174EA6;\n",
              "    }\n",
              "\n",
              "    .colab-df-buttons div {\n",
              "      margin-bottom: 4px;\n",
              "    }\n",
              "\n",
              "    [theme=dark] .colab-df-convert {\n",
              "      background-color: #3B4455;\n",
              "      fill: #D2E3FC;\n",
              "    }\n",
              "\n",
              "    [theme=dark] .colab-df-convert:hover {\n",
              "      background-color: #434B5C;\n",
              "      box-shadow: 0px 1px 3px 1px rgba(0, 0, 0, 0.15);\n",
              "      filter: drop-shadow(0px 1px 2px rgba(0, 0, 0, 0.3));\n",
              "      fill: #FFFFFF;\n",
              "    }\n",
              "  </style>\n",
              "\n",
              "    <script>\n",
              "      const buttonEl =\n",
              "        document.querySelector('#df-b55c80eb-c922-4e0a-8e9e-14be3b49591a button.colab-df-convert');\n",
              "      buttonEl.style.display =\n",
              "        google.colab.kernel.accessAllowed ? 'block' : 'none';\n",
              "\n",
              "      async function convertToInteractive(key) {\n",
              "        const element = document.querySelector('#df-b55c80eb-c922-4e0a-8e9e-14be3b49591a');\n",
              "        const dataTable =\n",
              "          await google.colab.kernel.invokeFunction('convertToInteractive',\n",
              "                                                    [key], {});\n",
              "        if (!dataTable) return;\n",
              "\n",
              "        const docLinkHtml = 'Like what you see? Visit the ' +\n",
              "          '<a target=\"_blank\" href=https://colab.research.google.com/notebooks/data_table.ipynb>data table notebook</a>'\n",
              "          + ' to learn more about interactive tables.';\n",
              "        element.innerHTML = '';\n",
              "        dataTable['output_type'] = 'display_data';\n",
              "        await google.colab.output.renderOutput(dataTable, element);\n",
              "        const docLink = document.createElement('div');\n",
              "        docLink.innerHTML = docLinkHtml;\n",
              "        element.appendChild(docLink);\n",
              "      }\n",
              "    </script>\n",
              "  </div>\n",
              "\n",
              "\n",
              "<div id=\"df-e2127780-44ac-4e67-aee9-abe669eb9a9c\">\n",
              "  <button class=\"colab-df-quickchart\" onclick=\"quickchart('df-e2127780-44ac-4e67-aee9-abe669eb9a9c')\"\n",
              "            title=\"Suggest charts.\"\n",
              "            style=\"display:none;\">\n",
              "\n",
              "<svg xmlns=\"http://www.w3.org/2000/svg\" height=\"24px\"viewBox=\"0 0 24 24\"\n",
              "     width=\"24px\">\n",
              "    <g>\n",
              "        <path d=\"M19 3H5c-1.1 0-2 .9-2 2v14c0 1.1.9 2 2 2h14c1.1 0 2-.9 2-2V5c0-1.1-.9-2-2-2zM9 17H7v-7h2v7zm4 0h-2V7h2v10zm4 0h-2v-4h2v4z\"/>\n",
              "    </g>\n",
              "</svg>\n",
              "  </button>\n",
              "\n",
              "<style>\n",
              "  .colab-df-quickchart {\n",
              "      --bg-color: #E8F0FE;\n",
              "      --fill-color: #1967D2;\n",
              "      --hover-bg-color: #E2EBFA;\n",
              "      --hover-fill-color: #174EA6;\n",
              "      --disabled-fill-color: #AAA;\n",
              "      --disabled-bg-color: #DDD;\n",
              "  }\n",
              "\n",
              "  [theme=dark] .colab-df-quickchart {\n",
              "      --bg-color: #3B4455;\n",
              "      --fill-color: #D2E3FC;\n",
              "      --hover-bg-color: #434B5C;\n",
              "      --hover-fill-color: #FFFFFF;\n",
              "      --disabled-bg-color: #3B4455;\n",
              "      --disabled-fill-color: #666;\n",
              "  }\n",
              "\n",
              "  .colab-df-quickchart {\n",
              "    background-color: var(--bg-color);\n",
              "    border: none;\n",
              "    border-radius: 50%;\n",
              "    cursor: pointer;\n",
              "    display: none;\n",
              "    fill: var(--fill-color);\n",
              "    height: 32px;\n",
              "    padding: 0;\n",
              "    width: 32px;\n",
              "  }\n",
              "\n",
              "  .colab-df-quickchart:hover {\n",
              "    background-color: var(--hover-bg-color);\n",
              "    box-shadow: 0 1px 2px rgba(60, 64, 67, 0.3), 0 1px 3px 1px rgba(60, 64, 67, 0.15);\n",
              "    fill: var(--button-hover-fill-color);\n",
              "  }\n",
              "\n",
              "  .colab-df-quickchart-complete:disabled,\n",
              "  .colab-df-quickchart-complete:disabled:hover {\n",
              "    background-color: var(--disabled-bg-color);\n",
              "    fill: var(--disabled-fill-color);\n",
              "    box-shadow: none;\n",
              "  }\n",
              "\n",
              "  .colab-df-spinner {\n",
              "    border: 2px solid var(--fill-color);\n",
              "    border-color: transparent;\n",
              "    border-bottom-color: var(--fill-color);\n",
              "    animation:\n",
              "      spin 1s steps(1) infinite;\n",
              "  }\n",
              "\n",
              "  @keyframes spin {\n",
              "    0% {\n",
              "      border-color: transparent;\n",
              "      border-bottom-color: var(--fill-color);\n",
              "      border-left-color: var(--fill-color);\n",
              "    }\n",
              "    20% {\n",
              "      border-color: transparent;\n",
              "      border-left-color: var(--fill-color);\n",
              "      border-top-color: var(--fill-color);\n",
              "    }\n",
              "    30% {\n",
              "      border-color: transparent;\n",
              "      border-left-color: var(--fill-color);\n",
              "      border-top-color: var(--fill-color);\n",
              "      border-right-color: var(--fill-color);\n",
              "    }\n",
              "    40% {\n",
              "      border-color: transparent;\n",
              "      border-right-color: var(--fill-color);\n",
              "      border-top-color: var(--fill-color);\n",
              "    }\n",
              "    60% {\n",
              "      border-color: transparent;\n",
              "      border-right-color: var(--fill-color);\n",
              "    }\n",
              "    80% {\n",
              "      border-color: transparent;\n",
              "      border-right-color: var(--fill-color);\n",
              "      border-bottom-color: var(--fill-color);\n",
              "    }\n",
              "    90% {\n",
              "      border-color: transparent;\n",
              "      border-bottom-color: var(--fill-color);\n",
              "    }\n",
              "  }\n",
              "</style>\n",
              "\n",
              "  <script>\n",
              "    async function quickchart(key) {\n",
              "      const quickchartButtonEl =\n",
              "        document.querySelector('#' + key + ' button');\n",
              "      quickchartButtonEl.disabled = true;  // To prevent multiple clicks.\n",
              "      quickchartButtonEl.classList.add('colab-df-spinner');\n",
              "      try {\n",
              "        const charts = await google.colab.kernel.invokeFunction(\n",
              "            'suggestCharts', [key], {});\n",
              "      } catch (error) {\n",
              "        console.error('Error during call to suggestCharts:', error);\n",
              "      }\n",
              "      quickchartButtonEl.classList.remove('colab-df-spinner');\n",
              "      quickchartButtonEl.classList.add('colab-df-quickchart-complete');\n",
              "    }\n",
              "    (() => {\n",
              "      let quickchartButtonEl =\n",
              "        document.querySelector('#df-e2127780-44ac-4e67-aee9-abe669eb9a9c button');\n",
              "      quickchartButtonEl.style.display =\n",
              "        google.colab.kernel.accessAllowed ? 'block' : 'none';\n",
              "    })();\n",
              "  </script>\n",
              "</div>\n",
              "    </div>\n",
              "  </div>\n"
            ]
          },
          "metadata": {},
          "execution_count": 19
        }
      ],
      "source": [
        "train_images.head(5)"
      ],
      "id": "zjo3di07RF3L"
    },
    {
      "cell_type": "markdown",
      "metadata": {
        "id": "gvAykxPARLqh"
      },
      "source": [
        "## CNN Variables"
      ],
      "id": "gvAykxPARLqh"
    },
    {
      "cell_type": "code",
      "execution_count": null,
      "metadata": {
        "id": "ZGqKoHZRvri1"
      },
      "outputs": [],
      "source": [
        "# Model Libraries\n",
        "import tensorflow as tf\n",
        "from tensorflow.keras.models import Sequential\n",
        "from tensorflow.keras.layers import Input, Dropout, Flatten, Conv2D, MaxPooling2D, Dense, Activation\n",
        "from tensorflow.keras.optimizers import Adam\n",
        "from tensorflow.keras.callbacks import EarlyStopping, ReduceLROnPlateau\n",
        "\n",
        "# Variables\n",
        "\n",
        "kernel_size     = (3,3)\n",
        "pool_size       = (2,2)\n",
        "input_shape_bk  = (640, 640, 3) #9109 RGB\n",
        "input_shape_pc  = (96, 96, 3) #327680 RGB\n",
        "batch_size      = 32\n",
        "epochs          = 5\n",
        "img_size        = 224\n",
        "num_filters     = 4\n",
        "\n",
        "first_filters   = 32\n",
        "second_filters  = 64\n",
        "third_filters   = 128\n",
        "fouth_filters   = 256\n",
        "\n",
        "dropout_conv = 0.3\n",
        "dropout_dense = 0.3\n",
        "\n",
        "early_stopping  = EarlyStopping(\n",
        "        monitor = 'val_acc',\n",
        "      min_delta = 0.001,\n",
        "       patience = 5,\n",
        "        verbose = 1,\n",
        "           mode = 'auto')\n",
        "\n",
        "reduce_lr    = ReduceLROnPlateau(\n",
        "    monitor  ='val_acc',\n",
        "    factor   = 0.5,\n",
        "    patience = 2,\n",
        "    verbose  = 1,\n",
        "    mode     = 'max',\n",
        "    min_lr   = 0.00001)\n",
        "\n",
        "callbacks       = [early_stopping, reduce_lr]\n",
        "\n",
        "optimizer       = tf.keras.optimizers.legacy.Adam(learning_rate=0.0001)                 # SGD(lr=0.001, momentum=0.9), Adam, RMSprop\n",
        "loss            = 'binary_crossentropy'                      # 'categorical_crossentropy', 'binary_crossentropy'\n",
        "metric          = 'accuracy'\n",
        "activation      = 'sigmoid'                                  # 'sigmoid'; 'softmax'\n",
        "val_split       = 0.2\n",
        "\n",
        "#SEED           = 1337\n",
        "#SPLIT_SIZE     = 0.2\n",
        "#BATCH_SIZE     = 32\n",
        "#BATCH_SIZE     = 16\n",
        "#IMAGE_SIZE     = (96,96)\n",
        "#IMAGE_SIZE     = (224,224)"
      ],
      "id": "ZGqKoHZRvri1"
    },
    {
      "cell_type": "markdown",
      "source": [
        "## Making the Ensemble Deep Learning Model"
      ],
      "metadata": {
        "id": "9GDzeDTWLs7S"
      },
      "id": "9GDzeDTWLs7S"
    },
    {
      "cell_type": "code",
      "execution_count": null,
      "metadata": {
        "colab": {
          "base_uri": "https://localhost:8080/"
        },
        "id": "B3cthhrHxXOZ",
        "outputId": "f76c84aa-d45e-428e-d1ac-877b30a7a8d3"
      },
      "outputs": [
        {
          "output_type": "stream",
          "name": "stdout",
          "text": [
            "Downloading data from https://storage.googleapis.com/tensorflow/keras-applications/vgg19/vgg19_weights_tf_dim_ordering_tf_kernels_notop.h5\n",
            "80134624/80134624 [==============================] - 5s 0us/step\n",
            "Output shape:  (None, 1)\n",
            "Input shape:  (640, 640, 3)\n"
          ]
        }
      ],
      "source": [
        "from tensorflow.keras.layers import Conv2D, BatchNormalization, Activation, MaxPool2D, Conv2DTranspose, Concatenate, Input, TimeDistributed\n",
        "from tensorflow.keras.models import Model\n",
        "from tensorflow.keras.applications import VGG19\n",
        "#!pip install -U efficientnet\n",
        "#import efficientnet.keras as efn\n",
        "\n",
        "def conv_block(input, num_filters):\n",
        "    x = Conv2D(num_filters, 3, padding=\"same\")(input)\n",
        "    x = BatchNormalization()(x)\n",
        "    x = Activation(\"relu\")(x)\n",
        "\n",
        "    x = Conv2D(num_filters, 3, padding=\"same\")(x)\n",
        "    x = BatchNormalization()(x)\n",
        "    x = Activation(\"relu\")(x)\n",
        "\n",
        "    return x\n",
        "\n",
        "def decoder_block(input, skip_features, num_filters):\n",
        "    #x = Conv2DTranspose(num_filters, (4,4), (2, 2), padding=\"same\")(input)\n",
        "    x = Conv2DTranspose(num_filters, (3, 2), strides=2, padding=\"same\")(input)\n",
        "    #x = Conv2DTranspose(num_filters, 3, (2, 2), 'same', use_bias=False)(input)\n",
        "    #x = Conv2DTranspose(num_filters, (6, 6), strides=2, padding=\"same\")(input)\n",
        "    x = Concatenate()([x, skip_features])\n",
        "    x = conv_block(x, num_filters)\n",
        "    return x\n",
        "\n",
        "def build_ensemble_unet(input_shape):\n",
        "    \"\"\" Input \"\"\"\n",
        "    inputs = Input(input_shape)\n",
        "\n",
        "    \"\"\" Pre-trained Ensemble Model \"\"\"\n",
        "    vgg19 = VGG19(include_top=False, weights=\"imagenet\", input_tensor=inputs)\n",
        "    #model = efn.EfficientNetB0(weights='imagenet')  # or weights='noisy-student'\n",
        "    #efficientNet = efn.EfficientNetB0(include_top=False, weights=\"imagenet\")\n",
        "\n",
        "    \"\"\" Encoder \"\"\"\n",
        "    s1 = vgg19.get_layer(\"block1_conv2\").output         ## (512 x 512)\n",
        "    s2 = vgg19.get_layer(\"block2_conv2\").output         ## (256 x 256)\n",
        "    s3 = vgg19.get_layer(\"block3_conv4\").output         ## (128 x 128)\n",
        "    s4 = vgg19.get_layer(\"block4_conv4\").output         ## (64 x 64)\n",
        "\n",
        "    #s1 = efficientNet.get_layer(\"stem_conv\").output         ## (512 x 512)\n",
        "    #s2 = efficientNet.get_layer(\"stem_bn\").output         ## (256 x 256)\n",
        "    #s3 = efficientNet.get_layer(\"stem_activation\").output         ## (128 x 128)\n",
        "    #s4 = efficientNet.get_layer(\"block1a_dwconv\").output         ## (64 x 64)\n",
        "\n",
        "    \"\"\" Bridge \"\"\"\n",
        "    b1 = vgg19.get_layer(\"block5_conv4\").output         ## (32 x 32)\n",
        "    #b1 = efficientNet.get_layer(\"block1a_bn\").output         ## (32 x 32)\n",
        "\n",
        "    \"\"\" Decoder \"\"\"\n",
        "    d1 = decoder_block(b1, s4, 512)                     ## (64 x 64)\n",
        "    d2 = decoder_block(d1, s3, 256)                     ## (128 x 128)\n",
        "    d3 = decoder_block(d2, s2, 128)                     ## (256 x 256)\n",
        "    d4 = decoder_block(d3, s1, 64)                      ## (512 x 512)\n",
        "\n",
        "   # \"\"\" Decoder \"\"\"\n",
        "   # d1 = decoder_block(b1, s4, 190)                     ## (64 x 64)\n",
        "   # d2 = decoder_block(d1, s3, 95)                     ## (128 x 128)\n",
        "   # d3 = decoder_block(d2, s2, 64)                     ## (256 x 256)\n",
        "   # d4 = decoder_block(d3, s1, 32)                      ## (512 x 512)\n",
        "\n",
        "    \"\"\" Output \"\"\"\n",
        "    x = vgg19.layers[-1].output\n",
        "    #x = efficientNet.layers[-1].output\n",
        "    # model.layers.pop()\n",
        "    x = layers.GlobalAveragePooling2D()(x)\n",
        "    output = layers.Dense(1, activation=activation)(x)\n",
        "    #outputs = outputs.shape\n",
        "    #outputs.shape\n",
        "    #outputs = layers.Dense(3)(d4)\n",
        "    #outputs = Conv2D(32, 32, padding=\"same\", activation=\"sigmoid\")(d4)\n",
        "    #outputs = Conv2D(2, 2, padding=\"same\", activation=\"sigmoid\")(d4)\n",
        "\n",
        "    print('Output shape: ', output.shape)\n",
        "    model = Model(inputs, output, name=\"U-Net_Ensemble\")\n",
        "    return model\n",
        "\n",
        "if __name__ == \"__main__\":\n",
        "    #input_shape = (512, 512, 3)\n",
        "    #input_shape = input_shape\n",
        "    model = build_ensemble_unet(input_shape_bk)\n",
        "    #model.summary()\n",
        "    print('Input shape: ', input_shape_bk)\n",
        "\n",
        "#model = build_vgg19_unet((256,256,3))\n",
        "#model.summary()"
      ],
      "id": "B3cthhrHxXOZ"
    },
    {
      "cell_type": "code",
      "execution_count": null,
      "metadata": {
        "colab": {
          "base_uri": "https://localhost:8080/",
          "height": 1000
        },
        "id": "Fkcps_dayHwP",
        "outputId": "37325636-90b2-4122-e80a-821e120eddcc"
      },
      "outputs": [
        {
          "output_type": "stream",
          "name": "stdout",
          "text": [
            "Collecting visualkeras\n",
            "  Downloading visualkeras-0.0.2-py3-none-any.whl (12 kB)\n",
            "Requirement already satisfied: pillow>=6.2.0 in /usr/local/lib/python3.10/dist-packages (from visualkeras) (9.4.0)\n",
            "Requirement already satisfied: numpy>=1.18.1 in /usr/local/lib/python3.10/dist-packages (from visualkeras) (1.23.5)\n",
            "Collecting aggdraw>=1.3.11 (from visualkeras)\n",
            "  Downloading aggdraw-1.3.16-cp310-cp310-manylinux_2_17_x86_64.manylinux2014_x86_64.whl (993 kB)\n",
            "\u001b[2K     \u001b[90m━━━━━━━━━━━━━━━━━━━━━━━━━━━━━━━━━━━━━━\u001b[0m \u001b[32m993.0/993.0 kB\u001b[0m \u001b[31m17.1 MB/s\u001b[0m eta \u001b[36m0:00:00\u001b[0m\n",
            "\u001b[?25hInstalling collected packages: aggdraw, visualkeras\n",
            "Successfully installed aggdraw-1.3.16 visualkeras-0.0.2\n",
            "Collecting ann_visualizer\n",
            "  Downloading ann_visualizer-2.5.tar.gz (4.7 kB)\n",
            "  Preparing metadata (setup.py) ... \u001b[?25l\u001b[?25hdone\n",
            "Building wheels for collected packages: ann_visualizer\n",
            "  Building wheel for ann_visualizer (setup.py) ... \u001b[?25l\u001b[?25hdone\n",
            "  Created wheel for ann_visualizer: filename=ann_visualizer-2.5-py3-none-any.whl size=4167 sha256=d134fe1e61eae1a930589f90ac5d9f982d9966b288e3bc4e0119b8d22a399515\n",
            "  Stored in directory: /root/.cache/pip/wheels/6e/0f/ae/f5dba91db71b1b32bf03d0ad18c32e86126093aba5ec6b6488\n",
            "Successfully built ann_visualizer\n",
            "Installing collected packages: ann_visualizer\n",
            "Successfully installed ann_visualizer-2.5\n",
            "Requirement already satisfied: graphviz in /usr/local/lib/python3.10/dist-packages (0.20.1)\n"
          ]
        },
        {
          "output_type": "execute_result",
          "data": {
            "image/png": "[encoded data removed]",
            "text/plain": [
              "<IPython.core.display.Image object>"
            ]
          },
          "metadata": {},
          "execution_count": 22
        }
      ],
      "source": [
        "!pip install visualkeras\n",
        "!pip install ann_visualizer\n",
        "!pip install graphviz\n",
        "\n",
        "# Import necessary libraries\n",
        "import pandas as pd\n",
        "import numpy as np                               # Import numpy\n",
        "from skimage import data, io   # Import skimage library (data - Test images and example data.\n",
        "#                          io - Reading, saving, and displaying images.)\n",
        "from skimage.color import rgb2gray\n",
        "import matplotlib.pyplot as plt                  # Import matplotlib.pyplot (Plotting framework in Python.)\n",
        "%matplotlib inline\n",
        "import os                                        # This module provides a portable way of using operating system dependent functionality.\n",
        "os.environ['TF_CPP_MIN_LOG_LEVEL'] = '3'\n",
        "import warnings\n",
        "# Suppress warnings\n",
        "warnings.filterwarnings('ignore')\n",
        "from IPython.display import display\n",
        "import cv2 as cv\n",
        "from sklearn.metrics import confusion_matrix\n",
        "from sklearn.model_selection import train_test_split\n",
        "from tensorflow.keras import utils\n",
        "from tensorflow.keras.models import Sequential,load_model\n",
        "from tensorflow.keras.layers import Dense, Dropout, Flatten, Conv2D, MaxPool2D, BatchNormalization\n",
        "from tensorflow.keras.optimizers import Adam\n",
        "import tensorflow as tf\n",
        "import seaborn as sns\n",
        "\n",
        "import visualkeras\n",
        "from PIL import ImageFont\n",
        "visualkeras.layered_view(model, legend=True)\n",
        "\n",
        "tf.keras.utils.plot_model(\n",
        "model,\n",
        "to_file=\"model.png\",\n",
        "show_shapes=True,\n",
        "show_dtype=False,\n",
        "show_layer_names=True,\n",
        "rankdir=\"TB\",\n",
        "expand_nested=True,\n",
        "dpi=96,\n",
        "layer_range=None,\n",
        "show_layer_activations=True,\n",
        ")"
      ],
      "id": "Fkcps_dayHwP"
    },
    {
      "cell_type": "markdown",
      "source": [
        "## Plot Train Imgs"
      ],
      "metadata": {
        "id": "yGRio9WKyRFA"
      },
      "id": "yGRio9WKyRFA"
    },
    {
      "cell_type": "code",
      "execution_count": null,
      "metadata": {
        "id": "Iq8f5HTpyugF"
      },
      "outputs": [],
      "source": [
        "#####################  Plot Loss Curves  #####################\n",
        "\n",
        "def Plot_Train(hlist, start=1):\n",
        "\n",
        "    history = {}\n",
        "    for k in hlist[0].history.keys():\n",
        "        history[k] = sum([h.history[k] for h in hlist], [])\n",
        "\n",
        "    epoch_range = range(start, len(history['loss']) +1)\n",
        "    s           = slice(start-1, None)\n",
        "    n           = int(len(history.keys()) / 2)\n",
        "\n",
        "    plt.figure(figsize=[14,4])\n",
        "    for i in range(n):\n",
        "        k = list(history.keys())[i]\n",
        "        plt.subplot(1, n, i+1)\n",
        "        plt.plot(epoch_range, history[k][s], label='Training')\n",
        "        plt.plot(epoch_range, history['val_' + k][s], label='Test')\n",
        "        plt.xlabel('Epoch'); plt.ylabel(k); plt.title(k)\n",
        "        plt.grid()\n",
        "        plt.legend()\n",
        "\n",
        "    plt.tight_layout()\n",
        "    plt.show()"
      ],
      "id": "Iq8f5HTpyugF"
    },
    {
      "cell_type": "markdown",
      "source": [
        "## Image Funcs"
      ],
      "metadata": {
        "id": "wZiN3Ge_yUq_"
      },
      "id": "wZiN3Ge_yUq_"
    },
    {
      "cell_type": "code",
      "execution_count": null,
      "metadata": {
        "id": "OqQioLcjz3LL"
      },
      "outputs": [],
      "source": [
        "# function to decode a PNG image into a tf tensor\n",
        "def load_image(path, label):\n",
        "    image = tf.io.read_file(path)\n",
        "    image = tf.io.decode_png(image, channels=3)\n",
        "    return image, label\n",
        "\n",
        "# reshaping the image between 0 and 1\n",
        "def image_reshape(image, label):\n",
        "    image = tf.cast(image, tf.float32)\n",
        "    image = tf.image.resize(image, [224, 224] / 255)\n",
        "    return image, label\n",
        "\n",
        "# image argumentation for faster model training\n",
        "def argument_image(image):\n",
        "    transform = A.Compose([A.HorizontalFlip(p = 0.5),\n",
        "                          A.Rotate(p = 0.5, limit = 15),\n",
        "                          A.RandomBrightnessContrast(p=0.5, brightness_limit=(-0.2, 0.2), contrast_limit=(-0.1, 0.1),\n",
        "                                                    brightness_by_max=True),\n",
        "                           A.RandomResizedCrop(p=0.8, height=img_size, width=img_size,\n",
        "                                              scale=(0.9, 1.1), ratio=(0.05, 1.1), interpolation=0),\n",
        "                           A.Blur(blur_limit = (1, 1))\n",
        "\n",
        "                          ])\n",
        "\n",
        "    data = {\"image\": image}\n",
        "    argumented_data = transform(**data)\n",
        "    argumented_image = argumented_data[\"image\"]\n",
        "    argumented_image = tf.cast(argumented_image, tf.float32)\n",
        "    argumented_image = tf.image.resize(argumented_image, [img_size, img_size]) / 255\n",
        "\n",
        "    return argumented_image\n",
        "\n",
        "def argumentor_function(image, label):\n",
        "    argumented_image = tf.numpy_function(func = argument_image, inp=[image], Tout = tf.float32)\n",
        "    return argumented_image, label\n",
        "\n",
        "\n",
        "# function to view sample of images\n",
        "def view_image(ds, col = 5, row = 5, size=(30, 10)):\n",
        "    plt.figure(figsize=(10, 5))\n",
        "    plt.subplots_adjust(wspace = 0.05, hspace = 0.15)\n",
        "    for images, labels in ds.take(1):\n",
        "        for i in range(col * row):\n",
        "            ax = plt.subplot(row, col, i + 1)\n",
        "            shape = str(images[i].numpy().shape)\n",
        "            plt.imshow(images[i].numpy())\n",
        "            plt.title(class_names[labels[i].numpy()])\n",
        "            plt.axis(\"off\")\n",
        "    plt.tight_layout\n",
        "    return None\n",
        "\n",
        "\n",
        "# function for decoding a test image\n",
        "def decode_test_img(path):\n",
        "    image = tf.io.read_file(path)\n",
        "    image = tf.image.decode_png(image, channels=3)\n",
        "    image = tf.cast(image, tf.float32)\n",
        "    #image = tf.image.resize(image, [224, 224])\n",
        "    image = tf.image.resize(image, [img_size, img_size])\n",
        "    return image\n",
        "\n",
        "# def view_model_predictions():\n",
        "#     plt.figure(figsize = (30, 8))\n",
        "#     plt.rcParams.update({'font.size': 10})\n",
        "#     plt.subplots_adjust(wspace = 0.05, hspace = 0.15)\n",
        "#     for i in range(30):\n",
        "#         ax = plt.subplot(3, 10, i + 1)\n",
        "#         shape = str(test_image[i].numpy().shape)\n",
        "#         plt.imshow(test_image[i].numpy())\n",
        "#         plt.title(predicted_label[i][0])\n",
        "#         plt.axis(\"off\")\n",
        "#         plt.tight_layout\n",
        "#     return None\n",
        "\n",
        "# # making a function to calculate & show model history\n",
        "# def model_hist(history):\n",
        "#     accuracy = history['accuracy']\n",
        "#     loss = history['loss']\n",
        "#     val_accuracy = history['val_accuracy']\n",
        "#     val_loss = history['val_loss']\n",
        "\n",
        "#     # setting the epochs\n",
        "#     n_epochs = range(len(history['loss']))\n",
        "\n",
        "#     # saving models logs\n",
        "#     # csv_logger = CSVLogger('cnn_model_logs.csv', append=True)\n",
        "\n",
        "#     # making plots for accuracy\n",
        "#     plt.figure(figsize=(16, 5))\n",
        "#     plt.subplot(1, 2, 1)\n",
        "#     plt.plot(n_epochs, accuracy, label='training accuracy')\n",
        "#     plt.plot(n_epochs, val_accuracy, label='validation accuracy')\n",
        "#     plt.legend()\n",
        "\n",
        "#     # making plots for loss\n",
        "#     plt.figure(figsize=(16, 5))\n",
        "#     plt.subplot(1, 2, 2)\n",
        "#     plt.plot(n_epochs, loss, label='training loss (binary crossentropy)')\n",
        "#     plt.plot(n_epochs, val_loss, label='validation loss (binary crossentropy)')\n",
        "#     plt.legend()\n",
        "\n",
        "#     return None\n",
        "\n",
        "    # function for building a NN\n",
        "#def make_nn_model(image_size):\n",
        "#    print('Making our deep cnn model.....')\n",
        "#    cnn_model = tf.keras.Sequential([\n",
        "#        layers.InputLayer(input_shape=(image_size, image_size, 3)),\n",
        "#        hub.KerasLayer(model_handle, trainable=True, name='base'),\n",
        "    #     layers.Dense(512, activation='relu', name='fc1'),\n",
        "    #     layers.BatchNormalization(),\n",
        "    #     layers.Dropout(0.4, name='dropout'),\n",
        "    #     layers.Dense(128, activation='relu', name='fc2'),\n",
        "    #     layers.BatchNormalization(),\n",
        "    #     # layers.Dropout(0.4, name='dropout2'),\n",
        "    #     layers.Dense(1, activation='sigmoid', name='output')\n",
        "    # ], name=model_name)\n",
        "\n",
        "    # cnn_model.build((None, image_size, image_size, 3))\n",
        "    # cnn_model.summary()\n",
        "    # print('model built!')\n",
        "    # return cnn_model"
      ],
      "id": "OqQioLcjz3LL"
    },
    {
      "cell_type": "markdown",
      "metadata": {
        "id": "x563TJB2RXx4"
      },
      "source": [
        "### Model Configuration Parameters"
      ],
      "id": "x563TJB2RXx4"
    },
    {
      "cell_type": "markdown",
      "metadata": {
        "id": "ybwZ1YoJRfvt"
      },
      "source": [
        "### Loading the Dataset"
      ],
      "id": "ybwZ1YoJRfvt"
    },
    {
      "cell_type": "code",
      "execution_count": null,
      "metadata": {
        "colab": {
          "base_uri": "https://localhost:8080/"
        },
        "id": "gcvz9tMCRg7N",
        "outputId": "34a7c834-adec-4158-d461-0a7e48aa9b0d"
      },
      "outputs": [
        {
          "output_type": "stream",
          "name": "stdout",
          "text": [
            "0        BreaKHis_v1/histology_slides/breast/benign/SOB...\n",
            "1        BreaKHis_v1/histology_slides/breast/benign/SOB...\n",
            "2        BreaKHis_v1/histology_slides/breast/benign/SOB...\n",
            "3        BreaKHis_v1/histology_slides/breast/benign/SOB...\n",
            "4        BreaKHis_v1/histology_slides/breast/benign/SOB...\n",
            "                               ...                        \n",
            "33833    BreaKHis_v1/histology_slides/breast/malignant/...\n",
            "33834    BreaKHis_v1/histology_slides/breast/malignant/...\n",
            "33835    BreaKHis_v1/histology_slides/breast/malignant/...\n",
            "33836    BreaKHis_v1/histology_slides/breast/malignant/...\n",
            "33837    BreaKHis_v1/histology_slides/breast/malignant/...\n",
            "Name: path, Length: 33838, dtype: object\n",
            "/content/BH/\n"
          ]
        }
      ],
      "source": [
        "image_dir = \"/content/BH/\"\n",
        "(image_dir + train_images.path)[0]\n",
        "print(train_images.path)\n",
        "print(image_dir)"
      ],
      "id": "gcvz9tMCRg7N"
    },
    {
      "cell_type": "code",
      "execution_count": null,
      "metadata": {
        "id": "c0D5EcV0RjAW"
      },
      "outputs": [],
      "source": [
        "# loading the train & validation datasets\n",
        "load_train = tf.data.Dataset.from_tensor_slices((image_dir + \"/\" + train_images.path,\n",
        "                                                train_images.label_int))\n",
        "\n",
        "load_valid = tf.data.Dataset.from_tensor_slices((image_dir + \"/\" + validation_images.path,\n",
        "                                                validation_images.label_int))"
      ],
      "id": "c0D5EcV0RjAW"
    },
    {
      "cell_type": "code",
      "execution_count": null,
      "metadata": {
        "colab": {
          "base_uri": "https://localhost:8080/"
        },
        "id": "Zvy9X-mpRsSM",
        "outputId": "338d597f-0acd-452b-88b3-1dd56412c97c"
      },
      "outputs": [
        {
          "output_type": "execute_result",
          "data": {
            "text/plain": [
              "<_TensorSliceDataset element_spec=(TensorSpec(shape=(), dtype=tf.string, name=None), TensorSpec(shape=(), dtype=tf.int64, name=None))>"
            ]
          },
          "metadata": {},
          "execution_count": 27
        }
      ],
      "source": [
        "load_train"
      ],
      "id": "Zvy9X-mpRsSM"
    },
    {
      "cell_type": "code",
      "execution_count": null,
      "metadata": {
        "colab": {
          "base_uri": "https://localhost:8080/"
        },
        "id": "l-jPtqIURzPu",
        "outputId": "f757430e-7e8a-4639-f033-f89935213e3f"
      },
      "outputs": [
        {
          "output_type": "execute_result",
          "data": {
            "text/plain": [
              "<_PrefetchDataset element_spec=(TensorSpec(shape=<unknown>, dtype=tf.float32, name=None), TensorSpec(shape=(None,), dtype=tf.int64, name=None))>"
            ]
          },
          "metadata": {},
          "execution_count": 28
        }
      ],
      "source": [
        "train_dataset = (\n",
        "                load_train.shuffle(len(train_images))\n",
        "                .map(load_image, num_parallel_calls=tf.data.experimental.AUTOTUNE)\n",
        "                .map(partial(argumentor_function), num_parallel_calls=tf.data.experimental.AUTOTUNE)\n",
        "                .batch(batch_size)\n",
        "                .prefetch(tf.data.experimental.AUTOTUNE)\n",
        "                )\n",
        "val_dataset = (\n",
        "                load_valid.shuffle(len(validation_images))\n",
        "                .map(load_image, num_parallel_calls=tf.data.experimental.AUTOTUNE)\n",
        "                .map(partial(argumentor_function), num_parallel_calls=tf.data.experimental.AUTOTUNE)\n",
        "                .batch(batch_size)\n",
        "                .prefetch(tf.data.experimental.AUTOTUNE)\n",
        "                )\n",
        "\n",
        "train_dataset"
      ],
      "id": "l-jPtqIURzPu"
    },
    {
      "cell_type": "code",
      "execution_count": null,
      "metadata": {
        "colab": {
          "base_uri": "https://localhost:8080/",
          "height": 35
        },
        "id": "tyG_w8KaR1vm",
        "outputId": "0fd2505d-b3c2-42b2-aab7-456ff2a52121"
      },
      "outputs": [
        {
          "output_type": "execute_result",
          "data": {
            "text/plain": [
              "'BreaKHis_v1/histology_slides/breast/benign/SOB/fibroadenoma/SOB_B_F_14-21998EF/100X/SOB_B_F-14-21998EF-100-025.png'"
            ],
            "application/vnd.google.colaboratory.intrinsic+json": {
              "type": "string"
            }
          },
          "metadata": {},
          "execution_count": 29
        }
      ],
      "source": [
        "# checking the path of images\n",
        "train_images.path[5]"
      ],
      "id": "tyG_w8KaR1vm"
    },
    {
      "cell_type": "markdown",
      "metadata": {
        "id": "Sw27fyAL25f6"
      },
      "source": [
        "### Deep Learning Model Training Using K Fold Cross Validation"
      ],
      "id": "Sw27fyAL25f6"
    },
    {
      "cell_type": "code",
      "execution_count": null,
      "metadata": {
        "colab": {
          "base_uri": "https://localhost:8080/"
        },
        "id": "fxJsiF4cYJHw",
        "outputId": "b620864c-e090-445e-adea-e1fe39213fa3"
      },
      "outputs": [
        {
          "output_type": "execute_result",
          "data": {
            "text/plain": [
              "<tf.Tensor: shape=(33838,), dtype=int64, numpy=array([1, 0, 0, ..., 1, 0, 0])>"
            ]
          },
          "metadata": {},
          "execution_count": 30
        }
      ],
      "source": [
        "def get_labels_from_tfdataset(tfdataset, batched=False):\n",
        "\n",
        "    labels = list(map(lambda x: x[1], tfdataset)) # Get labels\n",
        "\n",
        "    if not batched:\n",
        "        return tf.concat(labels, axis=0) # concat the list of batched labels\n",
        "\n",
        "    return labels\n",
        "get_labels_from_tfdataset(train_dataset)"
      ],
      "id": "fxJsiF4cYJHw"
    },
    {
      "cell_type": "markdown",
      "metadata": {
        "id": "wE5ZzGu7cPUX"
      },
      "source": [
        "### Twersky Loss Func"
      ],
      "id": "wE5ZzGu7cPUX"
    },
    {
      "cell_type": "code",
      "execution_count": null,
      "metadata": {
        "id": "A3oA646wcO58"
      },
      "outputs": [],
      "source": [
        "# TRAINING MODEL UNET -> -> VGG19\n",
        "from tensorflow.keras.layers import Conv2D, BatchNormalization, Activation, MaxPool2D, Conv2DTranspose, Concatenate, Input, TimeDistributed\n",
        "from tensorflow.keras.models import Model\n",
        "from tensorflow.keras.applications import VGG19\n",
        "\n",
        "epsilon = 1e-5\n",
        "smooth = 1\n",
        "\n",
        "def tversky(y_true, y_pred):\n",
        "    y_true_pos = K.flatten(y_true)\n",
        "    y_pred_pos = K.flatten(y_pred)\n",
        "    true_pos = K.sum(y_true_pos * y_pred_pos)\n",
        "    false_neg = K.sum(y_true_pos * (1-y_pred_pos))\n",
        "    false_pos = K.sum((1-y_true_pos)*y_pred_pos)\n",
        "    alpha = 0.7\n",
        "    return (true_pos + smooth)/(true_pos + alpha*false_neg + (1-alpha)*false_pos + smooth)\n",
        "\n",
        "def focal_tversky(y_true,y_pred):\n",
        "    y_true = tf.cast(y_true, tf.float32)\n",
        "    y_pred = tf.cast(y_pred, tf.float32)\n",
        "\n",
        "    pt_1 = tversky(y_true, y_pred)\n",
        "    gamma = 0.75\n",
        "    return K.pow((1-pt_1), gamma)\n",
        "\n",
        "def tversky_loss(y_true, y_pred):\n",
        "    return 1 - tversky(y_true,y_pred)"
      ],
      "id": "A3oA646wcO58"
    },
    {
      "cell_type": "markdown",
      "metadata": {
        "id": "4VtdlE1BuY8D"
      },
      "source": [
        "## 1st Train Ensemble"
      ],
      "id": "4VtdlE1BuY8D"
    },
    {
      "cell_type": "code",
      "execution_count": null,
      "metadata": {
        "colab": {
          "base_uri": "https://localhost:8080/",
          "height": 426
        },
        "id": "4y3zvtKAYUZy",
        "outputId": "41c1fdd5-493e-4631-846e-3782f95cdb88"
      },
      "outputs": [
        {
          "output_type": "stream",
          "name": "stdout",
          "text": [
            "Epoch 1/5\n",
            " 332/1058 [========>.....................] - ETA: 1:44 - loss: 0.8132 - accuracy: 0.4949 - Precision: 0.4900 - Recall: 0.4459"
          ]
        },
        {
          "output_type": "error",
          "ename": "KeyboardInterrupt",
          "evalue": "ignored",
          "traceback": [
            "\u001b[0;31m---------------------------------------------------------------------------\u001b[0m",
            "\u001b[0;31mKeyboardInterrupt\u001b[0m                         Traceback (most recent call last)",
            "\u001b[0;32m<ipython-input-33-7a3434d5655d>\u001b[0m in \u001b[0;36m<cell line: 20>\u001b[0;34m()\u001b[0m\n\u001b[1;32m     18\u001b[0m \u001b[0;34m\u001b[0m\u001b[0m\n\u001b[1;32m     19\u001b[0m \u001b[0;31m# fit the model\u001b[0m\u001b[0;34m\u001b[0m\u001b[0;34m\u001b[0m\u001b[0m\n\u001b[0;32m---> 20\u001b[0;31m train_history = model.fit(train_dataset, epochs=epochs, batch_size=batch_size, verbose=1,\n\u001b[0m\u001b[1;32m     21\u001b[0m                              callbacks=[model_checkpoint, csv_logger], validation_data=val_dataset)\n\u001b[1;32m     22\u001b[0m \u001b[0mend\u001b[0m \u001b[0;34m=\u001b[0m \u001b[0mtime\u001b[0m\u001b[0;34m.\u001b[0m\u001b[0mtime\u001b[0m\u001b[0;34m(\u001b[0m\u001b[0;34m)\u001b[0m\u001b[0;34m\u001b[0m\u001b[0;34m\u001b[0m\u001b[0m\n",
            "\u001b[0;32m/usr/local/lib/python3.10/dist-packages/keras/utils/traceback_utils.py\u001b[0m in \u001b[0;36merror_handler\u001b[0;34m(*args, **kwargs)\u001b[0m\n\u001b[1;32m     63\u001b[0m         \u001b[0mfiltered_tb\u001b[0m \u001b[0;34m=\u001b[0m \u001b[0;32mNone\u001b[0m\u001b[0;34m\u001b[0m\u001b[0;34m\u001b[0m\u001b[0m\n\u001b[1;32m     64\u001b[0m         \u001b[0;32mtry\u001b[0m\u001b[0;34m:\u001b[0m\u001b[0;34m\u001b[0m\u001b[0;34m\u001b[0m\u001b[0m\n\u001b[0;32m---> 65\u001b[0;31m             \u001b[0;32mreturn\u001b[0m \u001b[0mfn\u001b[0m\u001b[0;34m(\u001b[0m\u001b[0;34m*\u001b[0m\u001b[0margs\u001b[0m\u001b[0;34m,\u001b[0m \u001b[0;34m**\u001b[0m\u001b[0mkwargs\u001b[0m\u001b[0;34m)\u001b[0m\u001b[0;34m\u001b[0m\u001b[0;34m\u001b[0m\u001b[0m\n\u001b[0m\u001b[1;32m     66\u001b[0m         \u001b[0;32mexcept\u001b[0m \u001b[0mException\u001b[0m \u001b[0;32mas\u001b[0m \u001b[0me\u001b[0m\u001b[0;34m:\u001b[0m\u001b[0;34m\u001b[0m\u001b[0;34m\u001b[0m\u001b[0m\n\u001b[1;32m     67\u001b[0m             \u001b[0mfiltered_tb\u001b[0m \u001b[0;34m=\u001b[0m \u001b[0m_process_traceback_frames\u001b[0m\u001b[0;34m(\u001b[0m\u001b[0me\u001b[0m\u001b[0;34m.\u001b[0m\u001b[0m__traceback__\u001b[0m\u001b[0;34m)\u001b[0m\u001b[0;34m\u001b[0m\u001b[0;34m\u001b[0m\u001b[0m\n",
            "\u001b[0;32m/usr/local/lib/python3.10/dist-packages/keras/engine/training.py\u001b[0m in \u001b[0;36mfit\u001b[0;34m(self, x, y, batch_size, epochs, verbose, callbacks, validation_split, validation_data, shuffle, class_weight, sample_weight, initial_epoch, steps_per_epoch, validation_steps, validation_batch_size, validation_freq, max_queue_size, workers, use_multiprocessing)\u001b[0m\n\u001b[1;32m   1689\u001b[0m                             \u001b[0mlogs\u001b[0m \u001b[0;34m=\u001b[0m \u001b[0mtmp_logs\u001b[0m\u001b[0;34m\u001b[0m\u001b[0;34m\u001b[0m\u001b[0m\n\u001b[1;32m   1690\u001b[0m                             \u001b[0mend_step\u001b[0m \u001b[0;34m=\u001b[0m \u001b[0mstep\u001b[0m \u001b[0;34m+\u001b[0m \u001b[0mdata_handler\u001b[0m\u001b[0;34m.\u001b[0m\u001b[0mstep_increment\u001b[0m\u001b[0;34m\u001b[0m\u001b[0;34m\u001b[0m\u001b[0m\n\u001b[0;32m-> 1691\u001b[0;31m                             \u001b[0mcallbacks\u001b[0m\u001b[0;34m.\u001b[0m\u001b[0mon_train_batch_end\u001b[0m\u001b[0;34m(\u001b[0m\u001b[0mend_step\u001b[0m\u001b[0;34m,\u001b[0m \u001b[0mlogs\u001b[0m\u001b[0;34m)\u001b[0m\u001b[0;34m\u001b[0m\u001b[0;34m\u001b[0m\u001b[0m\n\u001b[0m\u001b[1;32m   1692\u001b[0m                             \u001b[0;32mif\u001b[0m \u001b[0mself\u001b[0m\u001b[0;34m.\u001b[0m\u001b[0mstop_training\u001b[0m\u001b[0;34m:\u001b[0m\u001b[0;34m\u001b[0m\u001b[0;34m\u001b[0m\u001b[0m\n\u001b[1;32m   1693\u001b[0m                                 \u001b[0;32mbreak\u001b[0m\u001b[0;34m\u001b[0m\u001b[0;34m\u001b[0m\u001b[0m\n",
            "\u001b[0;32m/usr/local/lib/python3.10/dist-packages/keras/callbacks.py\u001b[0m in \u001b[0;36mon_train_batch_end\u001b[0;34m(self, batch, logs)\u001b[0m\n\u001b[1;32m    473\u001b[0m         \"\"\"\n\u001b[1;32m    474\u001b[0m         \u001b[0;32mif\u001b[0m \u001b[0mself\u001b[0m\u001b[0;34m.\u001b[0m\u001b[0m_should_call_train_batch_hooks\u001b[0m\u001b[0;34m:\u001b[0m\u001b[0;34m\u001b[0m\u001b[0;34m\u001b[0m\u001b[0m\n\u001b[0;32m--> 475\u001b[0;31m             \u001b[0mself\u001b[0m\u001b[0;34m.\u001b[0m\u001b[0m_call_batch_hook\u001b[0m\u001b[0;34m(\u001b[0m\u001b[0mModeKeys\u001b[0m\u001b[0;34m.\u001b[0m\u001b[0mTRAIN\u001b[0m\u001b[0;34m,\u001b[0m \u001b[0;34m\"end\"\u001b[0m\u001b[0;34m,\u001b[0m \u001b[0mbatch\u001b[0m\u001b[0;34m,\u001b[0m \u001b[0mlogs\u001b[0m\u001b[0;34m=\u001b[0m\u001b[0mlogs\u001b[0m\u001b[0;34m)\u001b[0m\u001b[0;34m\u001b[0m\u001b[0;34m\u001b[0m\u001b[0m\n\u001b[0m\u001b[1;32m    476\u001b[0m \u001b[0;34m\u001b[0m\u001b[0m\n\u001b[1;32m    477\u001b[0m     \u001b[0;32mdef\u001b[0m \u001b[0mon_test_batch_begin\u001b[0m\u001b[0;34m(\u001b[0m\u001b[0mself\u001b[0m\u001b[0;34m,\u001b[0m \u001b[0mbatch\u001b[0m\u001b[0;34m,\u001b[0m \u001b[0mlogs\u001b[0m\u001b[0;34m=\u001b[0m\u001b[0;32mNone\u001b[0m\u001b[0;34m)\u001b[0m\u001b[0;34m:\u001b[0m\u001b[0;34m\u001b[0m\u001b[0;34m\u001b[0m\u001b[0m\n",
            "\u001b[0;32m/usr/local/lib/python3.10/dist-packages/keras/callbacks.py\u001b[0m in \u001b[0;36m_call_batch_hook\u001b[0;34m(self, mode, hook, batch, logs)\u001b[0m\n\u001b[1;32m    320\u001b[0m             \u001b[0mself\u001b[0m\u001b[0;34m.\u001b[0m\u001b[0m_call_batch_begin_hook\u001b[0m\u001b[0;34m(\u001b[0m\u001b[0mmode\u001b[0m\u001b[0;34m,\u001b[0m \u001b[0mbatch\u001b[0m\u001b[0;34m,\u001b[0m \u001b[0mlogs\u001b[0m\u001b[0;34m)\u001b[0m\u001b[0;34m\u001b[0m\u001b[0;34m\u001b[0m\u001b[0m\n\u001b[1;32m    321\u001b[0m         \u001b[0;32melif\u001b[0m \u001b[0mhook\u001b[0m \u001b[0;34m==\u001b[0m \u001b[0;34m\"end\"\u001b[0m\u001b[0;34m:\u001b[0m\u001b[0;34m\u001b[0m\u001b[0;34m\u001b[0m\u001b[0m\n\u001b[0;32m--> 322\u001b[0;31m             \u001b[0mself\u001b[0m\u001b[0;34m.\u001b[0m\u001b[0m_call_batch_end_hook\u001b[0m\u001b[0;34m(\u001b[0m\u001b[0mmode\u001b[0m\u001b[0;34m,\u001b[0m \u001b[0mbatch\u001b[0m\u001b[0;34m,\u001b[0m \u001b[0mlogs\u001b[0m\u001b[0;34m)\u001b[0m\u001b[0;34m\u001b[0m\u001b[0;34m\u001b[0m\u001b[0m\n\u001b[0m\u001b[1;32m    323\u001b[0m         \u001b[0;32melse\u001b[0m\u001b[0;34m:\u001b[0m\u001b[0;34m\u001b[0m\u001b[0;34m\u001b[0m\u001b[0m\n\u001b[1;32m    324\u001b[0m             raise ValueError(\n",
            "\u001b[0;32m/usr/local/lib/python3.10/dist-packages/keras/callbacks.py\u001b[0m in \u001b[0;36m_call_batch_end_hook\u001b[0;34m(self, mode, batch, logs)\u001b[0m\n\u001b[1;32m    343\u001b[0m             \u001b[0mself\u001b[0m\u001b[0;34m.\u001b[0m\u001b[0m_batch_times\u001b[0m\u001b[0;34m.\u001b[0m\u001b[0mappend\u001b[0m\u001b[0;34m(\u001b[0m\u001b[0mbatch_time\u001b[0m\u001b[0;34m)\u001b[0m\u001b[0;34m\u001b[0m\u001b[0;34m\u001b[0m\u001b[0m\n\u001b[1;32m    344\u001b[0m \u001b[0;34m\u001b[0m\u001b[0m\n\u001b[0;32m--> 345\u001b[0;31m         \u001b[0mself\u001b[0m\u001b[0;34m.\u001b[0m\u001b[0m_call_batch_hook_helper\u001b[0m\u001b[0;34m(\u001b[0m\u001b[0mhook_name\u001b[0m\u001b[0;34m,\u001b[0m \u001b[0mbatch\u001b[0m\u001b[0;34m,\u001b[0m \u001b[0mlogs\u001b[0m\u001b[0;34m)\u001b[0m\u001b[0;34m\u001b[0m\u001b[0;34m\u001b[0m\u001b[0m\n\u001b[0m\u001b[1;32m    346\u001b[0m \u001b[0;34m\u001b[0m\u001b[0m\n\u001b[1;32m    347\u001b[0m         \u001b[0;32mif\u001b[0m \u001b[0mlen\u001b[0m\u001b[0;34m(\u001b[0m\u001b[0mself\u001b[0m\u001b[0;34m.\u001b[0m\u001b[0m_batch_times\u001b[0m\u001b[0;34m)\u001b[0m \u001b[0;34m>=\u001b[0m \u001b[0mself\u001b[0m\u001b[0;34m.\u001b[0m\u001b[0m_num_batches_for_timing_check\u001b[0m\u001b[0;34m:\u001b[0m\u001b[0;34m\u001b[0m\u001b[0;34m\u001b[0m\u001b[0m\n",
            "\u001b[0;32m/usr/local/lib/python3.10/dist-packages/keras/callbacks.py\u001b[0m in \u001b[0;36m_call_batch_hook_helper\u001b[0;34m(self, hook_name, batch, logs)\u001b[0m\n\u001b[1;32m    391\u001b[0m         \u001b[0;32mfor\u001b[0m \u001b[0mcallback\u001b[0m \u001b[0;32min\u001b[0m \u001b[0mself\u001b[0m\u001b[0;34m.\u001b[0m\u001b[0mcallbacks\u001b[0m\u001b[0;34m:\u001b[0m\u001b[0;34m\u001b[0m\u001b[0;34m\u001b[0m\u001b[0m\n\u001b[1;32m    392\u001b[0m             \u001b[0mhook\u001b[0m \u001b[0;34m=\u001b[0m \u001b[0mgetattr\u001b[0m\u001b[0;34m(\u001b[0m\u001b[0mcallback\u001b[0m\u001b[0;34m,\u001b[0m \u001b[0mhook_name\u001b[0m\u001b[0;34m)\u001b[0m\u001b[0;34m\u001b[0m\u001b[0;34m\u001b[0m\u001b[0m\n\u001b[0;32m--> 393\u001b[0;31m             \u001b[0mhook\u001b[0m\u001b[0;34m(\u001b[0m\u001b[0mbatch\u001b[0m\u001b[0;34m,\u001b[0m \u001b[0mlogs\u001b[0m\u001b[0;34m)\u001b[0m\u001b[0;34m\u001b[0m\u001b[0;34m\u001b[0m\u001b[0m\n\u001b[0m\u001b[1;32m    394\u001b[0m \u001b[0;34m\u001b[0m\u001b[0m\n\u001b[1;32m    395\u001b[0m         \u001b[0;32mif\u001b[0m \u001b[0mself\u001b[0m\u001b[0;34m.\u001b[0m\u001b[0m_check_timing\u001b[0m\u001b[0;34m:\u001b[0m\u001b[0;34m\u001b[0m\u001b[0;34m\u001b[0m\u001b[0m\n",
            "\u001b[0;32m/usr/local/lib/python3.10/dist-packages/keras/callbacks.py\u001b[0m in \u001b[0;36mon_train_batch_end\u001b[0;34m(self, batch, logs)\u001b[0m\n\u001b[1;32m   1091\u001b[0m \u001b[0;34m\u001b[0m\u001b[0m\n\u001b[1;32m   1092\u001b[0m     \u001b[0;32mdef\u001b[0m \u001b[0mon_train_batch_end\u001b[0m\u001b[0;34m(\u001b[0m\u001b[0mself\u001b[0m\u001b[0;34m,\u001b[0m \u001b[0mbatch\u001b[0m\u001b[0;34m,\u001b[0m \u001b[0mlogs\u001b[0m\u001b[0;34m=\u001b[0m\u001b[0;32mNone\u001b[0m\u001b[0;34m)\u001b[0m\u001b[0;34m:\u001b[0m\u001b[0;34m\u001b[0m\u001b[0;34m\u001b[0m\u001b[0m\n\u001b[0;32m-> 1093\u001b[0;31m         \u001b[0mself\u001b[0m\u001b[0;34m.\u001b[0m\u001b[0m_batch_update_progbar\u001b[0m\u001b[0;34m(\u001b[0m\u001b[0mbatch\u001b[0m\u001b[0;34m,\u001b[0m \u001b[0mlogs\u001b[0m\u001b[0;34m)\u001b[0m\u001b[0;34m\u001b[0m\u001b[0;34m\u001b[0m\u001b[0m\n\u001b[0m\u001b[1;32m   1094\u001b[0m \u001b[0;34m\u001b[0m\u001b[0m\n\u001b[1;32m   1095\u001b[0m     \u001b[0;32mdef\u001b[0m \u001b[0mon_test_batch_end\u001b[0m\u001b[0;34m(\u001b[0m\u001b[0mself\u001b[0m\u001b[0;34m,\u001b[0m \u001b[0mbatch\u001b[0m\u001b[0;34m,\u001b[0m \u001b[0mlogs\u001b[0m\u001b[0;34m=\u001b[0m\u001b[0;32mNone\u001b[0m\u001b[0;34m)\u001b[0m\u001b[0;34m:\u001b[0m\u001b[0;34m\u001b[0m\u001b[0;34m\u001b[0m\u001b[0m\n",
            "\u001b[0;32m/usr/local/lib/python3.10/dist-packages/keras/callbacks.py\u001b[0m in \u001b[0;36m_batch_update_progbar\u001b[0;34m(self, batch, logs)\u001b[0m\n\u001b[1;32m   1167\u001b[0m         \u001b[0;32mif\u001b[0m \u001b[0mself\u001b[0m\u001b[0;34m.\u001b[0m\u001b[0mverbose\u001b[0m \u001b[0;34m==\u001b[0m \u001b[0;36m1\u001b[0m\u001b[0;34m:\u001b[0m\u001b[0;34m\u001b[0m\u001b[0;34m\u001b[0m\u001b[0m\n\u001b[1;32m   1168\u001b[0m             \u001b[0;31m# Only block async when verbose = 1.\u001b[0m\u001b[0;34m\u001b[0m\u001b[0;34m\u001b[0m\u001b[0m\n\u001b[0;32m-> 1169\u001b[0;31m             \u001b[0mlogs\u001b[0m \u001b[0;34m=\u001b[0m \u001b[0mtf_utils\u001b[0m\u001b[0;34m.\u001b[0m\u001b[0msync_to_numpy_or_python_type\u001b[0m\u001b[0;34m(\u001b[0m\u001b[0mlogs\u001b[0m\u001b[0;34m)\u001b[0m\u001b[0;34m\u001b[0m\u001b[0;34m\u001b[0m\u001b[0m\n\u001b[0m\u001b[1;32m   1170\u001b[0m             \u001b[0mself\u001b[0m\u001b[0;34m.\u001b[0m\u001b[0mprogbar\u001b[0m\u001b[0;34m.\u001b[0m\u001b[0mupdate\u001b[0m\u001b[0;34m(\u001b[0m\u001b[0mself\u001b[0m\u001b[0;34m.\u001b[0m\u001b[0mseen\u001b[0m\u001b[0;34m,\u001b[0m \u001b[0mlist\u001b[0m\u001b[0;34m(\u001b[0m\u001b[0mlogs\u001b[0m\u001b[0;34m.\u001b[0m\u001b[0mitems\u001b[0m\u001b[0;34m(\u001b[0m\u001b[0;34m)\u001b[0m\u001b[0;34m)\u001b[0m\u001b[0;34m,\u001b[0m \u001b[0mfinalize\u001b[0m\u001b[0;34m=\u001b[0m\u001b[0;32mFalse\u001b[0m\u001b[0;34m)\u001b[0m\u001b[0;34m\u001b[0m\u001b[0;34m\u001b[0m\u001b[0m\n\u001b[1;32m   1171\u001b[0m \u001b[0;34m\u001b[0m\u001b[0m\n",
            "\u001b[0;32m/usr/local/lib/python3.10/dist-packages/keras/utils/tf_utils.py\u001b[0m in \u001b[0;36msync_to_numpy_or_python_type\u001b[0;34m(tensors)\u001b[0m\n\u001b[1;32m    678\u001b[0m         \u001b[0;32mreturn\u001b[0m \u001b[0mt\u001b[0m\u001b[0;34m.\u001b[0m\u001b[0mitem\u001b[0m\u001b[0;34m(\u001b[0m\u001b[0;34m)\u001b[0m \u001b[0;32mif\u001b[0m \u001b[0mnp\u001b[0m\u001b[0;34m.\u001b[0m\u001b[0mndim\u001b[0m\u001b[0;34m(\u001b[0m\u001b[0mt\u001b[0m\u001b[0;34m)\u001b[0m \u001b[0;34m==\u001b[0m \u001b[0;36m0\u001b[0m \u001b[0;32melse\u001b[0m \u001b[0mt\u001b[0m\u001b[0;34m\u001b[0m\u001b[0;34m\u001b[0m\u001b[0m\n\u001b[1;32m    679\u001b[0m \u001b[0;34m\u001b[0m\u001b[0m\n\u001b[0;32m--> 680\u001b[0;31m     \u001b[0;32mreturn\u001b[0m \u001b[0mtf\u001b[0m\u001b[0;34m.\u001b[0m\u001b[0mnest\u001b[0m\u001b[0;34m.\u001b[0m\u001b[0mmap_structure\u001b[0m\u001b[0;34m(\u001b[0m\u001b[0m_to_single_numpy_or_python_type\u001b[0m\u001b[0;34m,\u001b[0m \u001b[0mtensors\u001b[0m\u001b[0;34m)\u001b[0m\u001b[0;34m\u001b[0m\u001b[0;34m\u001b[0m\u001b[0m\n\u001b[0m\u001b[1;32m    681\u001b[0m \u001b[0;34m\u001b[0m\u001b[0m\n\u001b[1;32m    682\u001b[0m \u001b[0;34m\u001b[0m\u001b[0m\n",
            "\u001b[0;32m/usr/local/lib/python3.10/dist-packages/tensorflow/python/util/nest.py\u001b[0m in \u001b[0;36mmap_structure\u001b[0;34m(func, *structure, **kwargs)\u001b[0m\n\u001b[1;32m    915\u001b[0m \u001b[0;34m\u001b[0m\u001b[0m\n\u001b[1;32m    916\u001b[0m   return pack_sequence_as(\n\u001b[0;32m--> 917\u001b[0;31m       \u001b[0mstructure\u001b[0m\u001b[0;34m[\u001b[0m\u001b[0;36m0\u001b[0m\u001b[0;34m]\u001b[0m\u001b[0;34m,\u001b[0m \u001b[0;34m[\u001b[0m\u001b[0mfunc\u001b[0m\u001b[0;34m(\u001b[0m\u001b[0;34m*\u001b[0m\u001b[0mx\u001b[0m\u001b[0;34m)\u001b[0m \u001b[0;32mfor\u001b[0m \u001b[0mx\u001b[0m \u001b[0;32min\u001b[0m \u001b[0mentries\u001b[0m\u001b[0;34m]\u001b[0m\u001b[0;34m,\u001b[0m\u001b[0;34m\u001b[0m\u001b[0;34m\u001b[0m\u001b[0m\n\u001b[0m\u001b[1;32m    918\u001b[0m       expand_composites=expand_composites)\n\u001b[1;32m    919\u001b[0m \u001b[0;34m\u001b[0m\u001b[0m\n",
            "\u001b[0;32m/usr/local/lib/python3.10/dist-packages/tensorflow/python/util/nest.py\u001b[0m in \u001b[0;36m<listcomp>\u001b[0;34m(.0)\u001b[0m\n\u001b[1;32m    915\u001b[0m \u001b[0;34m\u001b[0m\u001b[0m\n\u001b[1;32m    916\u001b[0m   return pack_sequence_as(\n\u001b[0;32m--> 917\u001b[0;31m       \u001b[0mstructure\u001b[0m\u001b[0;34m[\u001b[0m\u001b[0;36m0\u001b[0m\u001b[0;34m]\u001b[0m\u001b[0;34m,\u001b[0m \u001b[0;34m[\u001b[0m\u001b[0mfunc\u001b[0m\u001b[0;34m(\u001b[0m\u001b[0;34m*\u001b[0m\u001b[0mx\u001b[0m\u001b[0;34m)\u001b[0m \u001b[0;32mfor\u001b[0m \u001b[0mx\u001b[0m \u001b[0;32min\u001b[0m \u001b[0mentries\u001b[0m\u001b[0;34m]\u001b[0m\u001b[0;34m,\u001b[0m\u001b[0;34m\u001b[0m\u001b[0;34m\u001b[0m\u001b[0m\n\u001b[0m\u001b[1;32m    918\u001b[0m       expand_composites=expand_composites)\n\u001b[1;32m    919\u001b[0m \u001b[0;34m\u001b[0m\u001b[0m\n",
            "\u001b[0;32m/usr/local/lib/python3.10/dist-packages/keras/utils/tf_utils.py\u001b[0m in \u001b[0;36m_to_single_numpy_or_python_type\u001b[0;34m(t)\u001b[0m\n\u001b[1;32m    671\u001b[0m         \u001b[0;31m# Don't turn ragged or sparse tensors to NumPy.\u001b[0m\u001b[0;34m\u001b[0m\u001b[0;34m\u001b[0m\u001b[0m\n\u001b[1;32m    672\u001b[0m         \u001b[0;32mif\u001b[0m \u001b[0misinstance\u001b[0m\u001b[0;34m(\u001b[0m\u001b[0mt\u001b[0m\u001b[0;34m,\u001b[0m \u001b[0mtf\u001b[0m\u001b[0;34m.\u001b[0m\u001b[0mTensor\u001b[0m\u001b[0;34m)\u001b[0m\u001b[0;34m:\u001b[0m\u001b[0;34m\u001b[0m\u001b[0;34m\u001b[0m\u001b[0m\n\u001b[0;32m--> 673\u001b[0;31m             \u001b[0mt\u001b[0m \u001b[0;34m=\u001b[0m \u001b[0mt\u001b[0m\u001b[0;34m.\u001b[0m\u001b[0mnumpy\u001b[0m\u001b[0;34m(\u001b[0m\u001b[0;34m)\u001b[0m\u001b[0;34m\u001b[0m\u001b[0;34m\u001b[0m\u001b[0m\n\u001b[0m\u001b[1;32m    674\u001b[0m         \u001b[0;31m# Strings, ragged and sparse tensors don't have .item(). Return them\u001b[0m\u001b[0;34m\u001b[0m\u001b[0;34m\u001b[0m\u001b[0m\n\u001b[1;32m    675\u001b[0m         \u001b[0;31m# as-is.\u001b[0m\u001b[0;34m\u001b[0m\u001b[0;34m\u001b[0m\u001b[0m\n",
            "\u001b[0;32m/usr/local/lib/python3.10/dist-packages/tensorflow/python/framework/ops.py\u001b[0m in \u001b[0;36mnumpy\u001b[0;34m(self)\u001b[0m\n\u001b[1;32m   1158\u001b[0m     \"\"\"\n\u001b[1;32m   1159\u001b[0m     \u001b[0;31m# TODO(slebedev): Consider avoiding a copy for non-CPU or remote tensors.\u001b[0m\u001b[0;34m\u001b[0m\u001b[0;34m\u001b[0m\u001b[0m\n\u001b[0;32m-> 1160\u001b[0;31m     \u001b[0mmaybe_arr\u001b[0m \u001b[0;34m=\u001b[0m \u001b[0mself\u001b[0m\u001b[0;34m.\u001b[0m\u001b[0m_numpy\u001b[0m\u001b[0;34m(\u001b[0m\u001b[0;34m)\u001b[0m  \u001b[0;31m# pylint: disable=protected-access\u001b[0m\u001b[0;34m\u001b[0m\u001b[0;34m\u001b[0m\u001b[0m\n\u001b[0m\u001b[1;32m   1161\u001b[0m     \u001b[0;32mreturn\u001b[0m \u001b[0mmaybe_arr\u001b[0m\u001b[0;34m.\u001b[0m\u001b[0mcopy\u001b[0m\u001b[0;34m(\u001b[0m\u001b[0;34m)\u001b[0m \u001b[0;32mif\u001b[0m \u001b[0misinstance\u001b[0m\u001b[0;34m(\u001b[0m\u001b[0mmaybe_arr\u001b[0m\u001b[0;34m,\u001b[0m \u001b[0mnp\u001b[0m\u001b[0;34m.\u001b[0m\u001b[0mndarray\u001b[0m\u001b[0;34m)\u001b[0m \u001b[0;32melse\u001b[0m \u001b[0mmaybe_arr\u001b[0m\u001b[0;34m\u001b[0m\u001b[0;34m\u001b[0m\u001b[0m\n\u001b[1;32m   1162\u001b[0m \u001b[0;34m\u001b[0m\u001b[0m\n",
            "\u001b[0;32m/usr/local/lib/python3.10/dist-packages/tensorflow/python/framework/ops.py\u001b[0m in \u001b[0;36m_numpy\u001b[0;34m(self)\u001b[0m\n\u001b[1;32m   1124\u001b[0m   \u001b[0;32mdef\u001b[0m \u001b[0m_numpy\u001b[0m\u001b[0;34m(\u001b[0m\u001b[0mself\u001b[0m\u001b[0;34m)\u001b[0m\u001b[0;34m:\u001b[0m\u001b[0;34m\u001b[0m\u001b[0;34m\u001b[0m\u001b[0m\n\u001b[1;32m   1125\u001b[0m     \u001b[0;32mtry\u001b[0m\u001b[0;34m:\u001b[0m\u001b[0;34m\u001b[0m\u001b[0;34m\u001b[0m\u001b[0m\n\u001b[0;32m-> 1126\u001b[0;31m       \u001b[0;32mreturn\u001b[0m \u001b[0mself\u001b[0m\u001b[0;34m.\u001b[0m\u001b[0m_numpy_internal\u001b[0m\u001b[0;34m(\u001b[0m\u001b[0;34m)\u001b[0m\u001b[0;34m\u001b[0m\u001b[0;34m\u001b[0m\u001b[0m\n\u001b[0m\u001b[1;32m   1127\u001b[0m     \u001b[0;32mexcept\u001b[0m \u001b[0mcore\u001b[0m\u001b[0;34m.\u001b[0m\u001b[0m_NotOkStatusException\u001b[0m \u001b[0;32mas\u001b[0m \u001b[0me\u001b[0m\u001b[0;34m:\u001b[0m  \u001b[0;31m# pylint: disable=protected-access\u001b[0m\u001b[0;34m\u001b[0m\u001b[0;34m\u001b[0m\u001b[0m\n\u001b[1;32m   1128\u001b[0m       \u001b[0;32mraise\u001b[0m \u001b[0mcore\u001b[0m\u001b[0;34m.\u001b[0m\u001b[0m_status_to_exception\u001b[0m\u001b[0;34m(\u001b[0m\u001b[0me\u001b[0m\u001b[0;34m)\u001b[0m \u001b[0;32mfrom\u001b[0m \u001b[0;32mNone\u001b[0m  \u001b[0;31m# pylint: disable=protected-access\u001b[0m\u001b[0;34m\u001b[0m\u001b[0;34m\u001b[0m\u001b[0m\n",
            "\u001b[0;31mKeyboardInterrupt\u001b[0m: "
          ]
        }
      ],
      "source": [
        "start = time.time()\n",
        "# starting a new sesion for TF\n",
        "from keras import backend as K\n",
        "\n",
        "tf.keras.backend.clear_session()\n",
        "\n",
        "# making model checkpoints\n",
        "model_checkpoint = tf.keras.callbacks.ModelCheckpoint('model_ensemble_1st_train.h5', save_best_only=True)\n",
        "\n",
        "# model logs\n",
        "csv_logger = CSVLogger('cnn_model_logs.csv', append=True)\n",
        "\n",
        "metrics = ['accuracy', Precision(name='Precision'), Recall(name='Recall')]\n",
        "#metrics = [tversky]\n",
        "# compiling the model\n",
        "model.compile(loss='binary_crossentropy', optimizer='adam', metrics=metrics)\n",
        "#model.compile(loss=focal_tversky, optimizer='adam', metrics=[tversky])\n",
        "\n",
        "# fit the model\n",
        "train_history = model.fit(train_dataset, epochs=epochs, batch_size=batch_size, verbose=1,\n",
        "                             callbacks=[model_checkpoint, csv_logger], validation_data=val_dataset)\n",
        "end = time.time()\n",
        "print('Time Taken: %.3f seconds' % (end-start))"
      ],
      "id": "4y3zvtKAYUZy"
    },
    {
      "cell_type": "markdown",
      "metadata": {
        "id": "fHu86kNjRiuI"
      },
      "source": [
        "### 1st Model Results"
      ],
      "id": "fHu86kNjRiuI"
    },
    {
      "cell_type": "code",
      "execution_count": null,
      "metadata": {
        "id": "BLJw0GoXRac_"
      },
      "outputs": [],
      "source": [
        "# visualize model performance\n",
        "history = train_history.history\n",
        "print(model.metrics_names)\n",
        "#model_hist(history)"
      ],
      "id": "BLJw0GoXRac_"
    },
    {
      "cell_type": "code",
      "execution_count": null,
      "metadata": {
        "id": "SR5nfGAU6tb8"
      },
      "outputs": [],
      "source": [
        "print('Net loss on validation data: %.3f' % model_performance[0])\n",
        "print('Net accuracy on validation data: %.3f' % model_performance[1])\n",
        "#print('Net precision on validation data: %.3f' % model_performance[2])\n",
        "#print('Net recall on validation data: %.3f' % model_performance[3])"
      ],
      "id": "SR5nfGAU6tb8"
    },
    {
      "cell_type": "code",
      "execution_count": null,
      "metadata": {
        "id": "ECGNucstNZPg"
      },
      "outputs": [],
      "source": [
        "print('Total Test Images: %d' % len(test_images))"
      ],
      "id": "ECGNucstNZPg"
    },
    {
      "cell_type": "code",
      "execution_count": null,
      "metadata": {
        "id": "p8dx5KOKNbE1"
      },
      "outputs": [],
      "source": [
        "test_index = test_images.label_int.values\n",
        "test_labels = test_images.label.values\n",
        "test_index, test_labels"
      ],
      "id": "p8dx5KOKNbE1"
    },
    {
      "cell_type": "code",
      "execution_count": null,
      "metadata": {
        "id": "cFAKrUh0hDgu"
      },
      "outputs": [],
      "source": [
        "# making samples of test data\n",
        "test_images = test_images.sample(frac=1).reset_index(drop=True)\n",
        "test_data = tf.data.Dataset.from_tensor_slices(image_dir + test_images.path)\n",
        "test_data = test_data.map(decode_test_img,\n",
        "                          num_parallel_calls=tf.data.experimental.AUTOTUNE).batch(64)\n",
        "test_data"
      ],
      "id": "cFAKrUh0hDgu"
    },
    {
      "cell_type": "code",
      "execution_count": null,
      "metadata": {
        "id": "lXnDtpriR9j7"
      },
      "outputs": [],
      "source": [
        "model.compile(loss=focal_tversky, optimizer='adam', metrics=[tversky])\n",
        "model_performance = model.evaluate(test_data)"
      ],
      "id": "lXnDtpriR9j7"
    },
    {
      "cell_type": "code",
      "execution_count": null,
      "metadata": {
        "id": "xS7SW44WNciT"
      },
      "outputs": [],
      "source": [
        "test_image = next(iter(test_data))"
      ],
      "id": "xS7SW44WNciT"
    },
    {
      "cell_type": "code",
      "source": [
        "test_predictions = model.predict(test_data)\n",
        "predicted_index = np.round(test_predictions)"
      ],
      "metadata": {
        "id": "OVD1wMRTXhw0"
      },
      "id": "OVD1wMRTXhw0",
      "execution_count": null,
      "outputs": []
    },
    {
      "cell_type": "code",
      "source": [
        "predicted_index[:6]"
      ],
      "metadata": {
        "id": "RzeQ7W3hXiVX"
      },
      "id": "RzeQ7W3hXiVX",
      "execution_count": null,
      "outputs": []
    },
    {
      "cell_type": "code",
      "source": [
        "predicted_index = np.round(test_predictions).astype(int)\n",
        "predicted_label = np.array(class_names)[predicted_index]\n",
        "predicted_label[:8]"
      ],
      "metadata": {
        "id": "2DRFi_mTXmYO"
      },
      "id": "2DRFi_mTXmYO",
      "execution_count": null,
      "outputs": []
    },
    {
      "cell_type": "code",
      "source": [
        "prediction_data = pd.DataFrame({'filename':test_images.filename.values,'actual':test_images.label.values,\n",
        "                              'prediction': np.squeeze(predicted_label),'path':test_images.path.values,})"
      ],
      "metadata": {
        "id": "KAXNzexdXpKW"
      },
      "id": "KAXNzexdXpKW",
      "execution_count": null,
      "outputs": []
    },
    {
      "cell_type": "code",
      "source": [
        "# see model predictions\n",
        "prediction_data[['actual', 'prediction']].head(15)"
      ],
      "metadata": {
        "id": "js5UCTzUXpn3"
      },
      "id": "js5UCTzUXpn3",
      "execution_count": null,
      "outputs": []
    },
    {
      "cell_type": "code",
      "source": [
        "from sklearn.metrics import ConfusionMatrixDisplay\n",
        "import matplotlib.pyplot as plt\n",
        "\n",
        "conf_matrix = confusion_matrix(y_true=test_index, y_pred=predicted_index)\n",
        "vis = ConfusionMatrixDisplay(confusion_matrix=conf_matrix, display_labels=class_names)\n",
        "vis.plot()\n",
        "plt.show()"
      ],
      "metadata": {
        "id": "20lRTWDfYPKu"
      },
      "id": "20lRTWDfYPKu",
      "execution_count": null,
      "outputs": []
    },
    {
      "cell_type": "markdown",
      "metadata": {
        "id": "062d9e0f"
      },
      "source": [
        "## 2nd Phase - Ensemble + Transfer Learning ImageNet - BreakHis - PathCam"
      ],
      "id": "062d9e0f"
    },
    {
      "cell_type": "code",
      "execution_count": null,
      "metadata": {
        "id": "1385ad81"
      },
      "outputs": [],
      "source": [
        "#from google.colab import drive\n",
        "\n",
        "#drive.mount ('/content/gdrive', force_remount=True)\n",
        "\n",
        "DB_PATH   = '/content/'\n",
        "TRAIN_DIR = DB_PATH +'train-pcam/'\n",
        "TEST_DIR  = DB_PATH + 'test-pcam/'\n",
        "DIR       = ['train-pcam/', 'test-pcam/']"
      ],
      "id": "1385ad81"
    },
    {
      "cell_type": "markdown",
      "metadata": {
        "id": "d2416602"
      },
      "source": [
        "## Load Dataframes"
      ],
      "id": "d2416602"
    },
    {
      "cell_type": "code",
      "execution_count": null,
      "metadata": {
        "id": "b8e5cbe3"
      },
      "outputs": [],
      "source": [
        "train_df = pd.read_csv('/content/gdrive/MyDrive/train_labels.csv',dtype=str)\n",
        "train_df.id = train_df.id + '.tif'"
      ],
      "id": "b8e5cbe3"
    },
    {
      "cell_type": "code",
      "execution_count": null,
      "metadata": {
        "id": "3v1tFbOkdp8i"
      },
      "outputs": [],
      "source": [
        "#image_dir = '../input/breakhis/BreaKHis_v1/'\n",
        "#data_path = '../input/breakhis/Folds.csv'\n",
        "\n",
        "# experimental API for making data pipelines\n",
        "tf.data.experimental.AUTOTUNE\n",
        "\n",
        "# defining the class names\n",
        "class_names = ['malignant', 'benign']\n",
        "print(class_names)"
      ],
      "id": "3v1tFbOkdp8i"
    },
    {
      "cell_type": "code",
      "execution_count": null,
      "metadata": {
        "id": "1d6ed6ad"
      },
      "outputs": [],
      "source": [
        "print('Train Shape: ' , train_df.shape)\n",
        "train_df.head()"
      ],
      "id": "1d6ed6ad"
    },
    {
      "cell_type": "code",
      "execution_count": null,
      "metadata": {
        "id": "b36f0824"
      },
      "outputs": [],
      "source": [
        "(train_df.label.value_counts() / len(train_df)).to_frame().sort_index().T"
      ],
      "id": "b36f0824"
    },
    {
      "cell_type": "code",
      "execution_count": null,
      "metadata": {
        "id": "1caaaa38"
      },
      "outputs": [],
      "source": [
        "train_df.dtypes"
      ],
      "id": "1caaaa38"
    },
    {
      "cell_type": "markdown",
      "source": [
        "## LOADING TRAIN/TEST DATASET"
      ],
      "metadata": {
        "id": "hNS6ppvyw7MN"
      },
      "id": "hNS6ppvyw7MN"
    },
    {
      "cell_type": "code",
      "source": [
        "train_images = '/content/gdrive/MyDrive/train-pcam'\n",
        "test_images = '/content/gdrive/MyDrive/test_pcam'"
      ],
      "metadata": {
        "id": "yaJFeMXfxwoc"
      },
      "id": "yaJFeMXfxwoc",
      "execution_count": null,
      "outputs": []
    },
    {
      "cell_type": "code",
      "source": [
        "train_dataset = (\n",
        "                load_train.shuffle(len(train_images))\n",
        "                .map(load_image, num_parallel_calls=tf.data.experimental.AUTOTUNE)\n",
        "                .map(partial(argumentor_function), num_parallel_calls=tf.data.experimental.AUTOTUNE)\n",
        "                .batch(batch_size)\n",
        "                .prefetch(tf.data.experimental.AUTOTUNE)\n",
        "                )\n",
        "val_dataset = (\n",
        "                load_valid.shuffle(len(validation_images))\n",
        "                .map(load_image, num_parallel_calls=tf.data.experimental.AUTOTUNE)\n",
        "                .map(partial(argumentor_function), num_parallel_calls=tf.data.experimental.AUTOTUNE)\n",
        "                .batch(batch_size)\n",
        "                .prefetch(tf.data.experimental.AUTOTUNE)\n",
        "                )"
      ],
      "metadata": {
        "id": "VuM47rMGw-ZM"
      },
      "id": "VuM47rMGw-ZM",
      "execution_count": null,
      "outputs": []
    },
    {
      "cell_type": "code",
      "source": [
        "train_dataset"
      ],
      "metadata": {
        "id": "d5MQbHy4yD9M"
      },
      "id": "d5MQbHy4yD9M",
      "execution_count": null,
      "outputs": []
    },
    {
      "cell_type": "code",
      "source": [
        "val_dataset"
      ],
      "metadata": {
        "id": "b03ZYzYuyEaL"
      },
      "id": "b03ZYzYuyEaL",
      "execution_count": null,
      "outputs": []
    },
    {
      "cell_type": "markdown",
      "metadata": {
        "id": "2005331c"
      },
      "source": [
        "## Preprocessing and Generate the Dataset"
      ],
      "id": "2005331c"
    },
    {
      "cell_type": "markdown",
      "metadata": {
        "id": "42341141"
      },
      "source": [
        "### Preprocessing"
      ],
      "id": "42341141"
    },
    {
      "cell_type": "code",
      "execution_count": null,
      "metadata": {
        "id": "819c8170"
      },
      "outputs": [],
      "source": [
        "#Check for image string\n",
        "\n",
        "img = TRAIN_DIR + train_df.id[5]\n",
        "fobj = open(img, \"rb\")\n",
        "fobj.peek(10)"
      ],
      "id": "819c8170"
    },
    {
      "cell_type": "code",
      "execution_count": null,
      "metadata": {
        "id": "bf568165"
      },
      "outputs": [],
      "source": [
        "# plot few Train images\n",
        "from cv2 import imread\n",
        "\n",
        "sample = train_df.sample(n=18).reset_index()\n",
        "plt.figure(figsize=(10,10))\n",
        "plt.suptitle('Histopathologic scans of lymph node sections',fontsize=16)\n",
        "for i, row in sample.iterrows():\n",
        "    img = imread(TRAIN_DIR + f'{row.id}')\n",
        "    label = row.label\n",
        "\n",
        "    plt.subplot(6,6,i+1)\n",
        "    plt.imshow(img)\n",
        "    plt.text(0, -5, f'Class {label}', color='k')\n",
        "    plt.axis('off')\n",
        "\n",
        "plt.tight_layout()\n",
        "plt.show()"
      ],
      "id": "bf568165"
    },
    {
      "cell_type": "code",
      "execution_count": null,
      "metadata": {
        "id": "eaa04529"
      },
      "outputs": [],
      "source": [
        "fig, ax = plt.subplots(2,5, figsize=(20,8))\n",
        "fig.suptitle('Histopathologic scans of lymph node sections',fontsize=20)\n",
        "\n",
        "\n",
        "# Negatives\n",
        "for i, idx in enumerate(train_df[train_df['label'] == '0']['id'][:5]):\n",
        "    path = os.path.join(TRAIN_DIR, idx)\n",
        "    img = imread(path)\n",
        "    ax[0,i].imshow(img)\n",
        "ax[0,0].set_ylabel('Negative samples', size='large')\n",
        "\n",
        "\n",
        "# # Positives\n",
        "for i, idx in enumerate(train_df[train_df['label'] == '1']['id'][:5]):\n",
        "    path = os.path.join(TRAIN_DIR, idx)\n",
        "    img = imread(path)\n",
        "    ax[1,i].imshow(img)\n",
        "ax[1,0].set_ylabel('Positive samples', size='large');"
      ],
      "id": "eaa04529"
    },
    {
      "cell_type": "code",
      "execution_count": null,
      "metadata": {
        "id": "fb43789a"
      },
      "outputs": [],
      "source": [
        "train_df.head()"
      ],
      "id": "fb43789a"
    },
    {
      "cell_type": "markdown",
      "source": [
        "## Ensemble Deep Learning Architecture (DTL)"
      ],
      "metadata": {
        "id": "wD8SfujcHrwG"
      },
      "id": "wD8SfujcHrwG"
    },
    {
      "cell_type": "code",
      "source": [
        "from tensorflow.keras.layers import Conv2D, BatchNormalization, Activation, MaxPool2D, Conv2DTranspose, Concatenate, Input, TimeDistributed\n",
        "from tensorflow.keras.models import Model\n",
        "from tensorflow.keras.applications import VGG19\n",
        "#!pip install -U efficientnet\n",
        "#import efficientnet.keras as efn\n",
        "\n",
        "def conv_block(input, num_filters):\n",
        "    x = Conv2D(num_filters, 3, padding=\"same\")(input)\n",
        "    x = BatchNormalization()(x)\n",
        "    x = Activation(\"relu\")(x)\n",
        "\n",
        "    x = Conv2D(num_filters, 3, padding=\"same\")(x)\n",
        "    x = BatchNormalization()(x)\n",
        "    x = Activation(\"relu\")(x)\n",
        "\n",
        "    return x\n",
        "\n",
        "def decoder_block(input, skip_features, num_filters):\n",
        "    #x = Conv2DTranspose(num_filters, (4,4), (2, 2), padding=\"same\")(input)\n",
        "    x = Conv2DTranspose(num_filters, (3, 2), strides=2, padding=\"same\")(input)\n",
        "    #x = Conv2DTranspose(num_filters, 3, (2, 2), 'same', use_bias=False)(input)\n",
        "    #x = Conv2DTranspose(num_filters, (6, 6), strides=2, padding=\"same\")(input)\n",
        "    x = Concatenate()([x, skip_features])\n",
        "    x = conv_block(x, num_filters)\n",
        "    return x\n",
        "\n",
        "def build_ensemble_unet(input_shape):\n",
        "    \"\"\" Input \"\"\"\n",
        "    inputs = Input(input_shape)\n",
        "\n",
        "    \"\"\" Pre-trained Ensemble Model \"\"\"\n",
        "    vgg19 = VGG19(include_top=False, weights=\"imagenet\", input_tensor=inputs)\n",
        "    #model = efn.EfficientNetB0(weights='imagenet')  # or weights='noisy-student'\n",
        "    #efficientNet = efn.EfficientNetB0(include_top=False, weights=\"imagenet\")\n",
        "\n",
        "    \"\"\" Encoder \"\"\"\n",
        "    s1 = vgg19.get_layer(\"block1_conv2\").output         ## (512 x 512)\n",
        "    s2 = vgg19.get_layer(\"block2_conv2\").output         ## (256 x 256)\n",
        "    s3 = vgg19.get_layer(\"block3_conv4\").output         ## (128 x 128)\n",
        "    s4 = vgg19.get_layer(\"block4_conv4\").output         ## (64 x 64)\n",
        "\n",
        "    #s1 = efficientNet.get_layer(\"stem_conv\").output         ## (512 x 512)\n",
        "    #s2 = efficientNet.get_layer(\"stem_bn\").output         ## (256 x 256)\n",
        "    #s3 = efficientNet.get_layer(\"stem_activation\").output         ## (128 x 128)\n",
        "    #s4 = efficientNet.get_layer(\"block1a_dwconv\").output         ## (64 x 64)\n",
        "\n",
        "    \"\"\" Bridge \"\"\"\n",
        "    b1 = vgg19.get_layer(\"block5_conv4\").output         ## (32 x 32)\n",
        "    #b1 = efficientNet.get_layer(\"block1a_bn\").output         ## (32 x 32)\n",
        "\n",
        "    \"\"\" Decoder \"\"\"\n",
        "    d1 = decoder_block(b1, s4, 512)                     ## (64 x 64)\n",
        "    d2 = decoder_block(d1, s3, 256)                     ## (128 x 128)\n",
        "    d3 = decoder_block(d2, s2, 128)                     ## (256 x 256)\n",
        "    d4 = decoder_block(d3, s1, 64)                      ## (512 x 512)\n",
        "\n",
        "   # \"\"\" Decoder \"\"\"\n",
        "   # d1 = decoder_block(b1, s4, 190)                     ## (64 x 64)\n",
        "   # d2 = decoder_block(d1, s3, 95)                     ## (128 x 128)\n",
        "   # d3 = decoder_block(d2, s2, 64)                     ## (256 x 256)\n",
        "   # d4 = decoder_block(d3, s1, 32)                      ## (512 x 512)\n",
        "\n",
        "    \"\"\" Output \"\"\"\n",
        "    x = vgg19.layers[-1].output\n",
        "    #x = efficientNet.layers[-1].output\n",
        "    # model.layers.pop()\n",
        "    x = layers.GlobalAveragePooling2D()(x)\n",
        "    output = layers.Dense(1, activation=activation)(x)\n",
        "    #outputs = outputs.shape\n",
        "    #outputs.shape\n",
        "    #outputs = layers.Dense(3)(d4)\n",
        "    #outputs = Conv2D(32, 32, padding=\"same\", activation=\"sigmoid\")(d4)\n",
        "    #outputs = Conv2D(2, 2, padding=\"same\", activation=\"sigmoid\")(d4)\n",
        "\n",
        "    print('Output shape: ', output.shape)\n",
        "    model = Model(inputs, output, name=\"U-Net_Ensemble\")\n",
        "    return model\n",
        "\n",
        "if __name__ == \"__main__\":\n",
        "    #input_shape = (512, 512, 3)\n",
        "    #input_shape = input_shape\n",
        "    model = build_ensemble_unet(input_shape_pc)\n",
        "    #model.summary()\n",
        "    print('Input shape: ', input_shape_pc)\n",
        "\n",
        "#model = build_vgg19_unet((256,256,3))\n",
        "#model.summary()"
      ],
      "metadata": {
        "id": "tlX4_8wCHeXi"
      },
      "id": "tlX4_8wCHeXi",
      "execution_count": null,
      "outputs": []
    },
    {
      "cell_type": "markdown",
      "source": [
        "## Arch Visualization"
      ],
      "metadata": {
        "id": "4TwbxLQiIAG5"
      },
      "id": "4TwbxLQiIAG5"
    },
    {
      "cell_type": "code",
      "source": [
        "#!pip install visualkeras\n",
        "#!pip install ann_visualizer\n",
        "#!pip install graphviz\n",
        "\n",
        "# Import necessary libraries\n",
        "import pandas as pd\n",
        "import numpy as np                               # Import numpy\n",
        "from skimage import data, io   # Import skimage library (data - Test images and example data.\n",
        "#                          io - Reading, saving, and displaying images.)\n",
        "from skimage.color import rgb2gray\n",
        "import matplotlib.pyplot as plt                  # Import matplotlib.pyplot (Plotting framework in Python.)\n",
        "%matplotlib inline\n",
        "import os                                        # This module provides a portable way of using operating system dependent functionality.\n",
        "os.environ['TF_CPP_MIN_LOG_LEVEL'] = '3'\n",
        "import warnings\n",
        "# Suppress warnings\n",
        "warnings.filterwarnings('ignore')\n",
        "from IPython.display import display\n",
        "import cv2 as cv\n",
        "from sklearn.metrics import confusion_matrix\n",
        "from sklearn.model_selection import train_test_split\n",
        "from tensorflow.keras import utils\n",
        "from tensorflow.keras.models import Sequential,load_model\n",
        "from tensorflow.keras.layers import Dense, Dropout, Flatten, Conv2D, MaxPool2D, BatchNormalization\n",
        "from tensorflow.keras.optimizers import Adam\n",
        "import tensorflow as tf\n",
        "import seaborn as sns\n",
        "\n",
        "import visualkeras\n",
        "from PIL import ImageFont\n",
        "visualkeras.layered_view(model, legend=True)\n",
        "\n",
        "tf.keras.utils.plot_model(\n",
        "model,\n",
        "to_file=\"model.png\",\n",
        "show_shapes=True,\n",
        "show_dtype=False,\n",
        "show_layer_names=True,\n",
        "rankdir=\"TB\",\n",
        "expand_nested=True,\n",
        "dpi=96,\n",
        "layer_range=None,\n",
        "show_layer_activations=True,\n",
        ")"
      ],
      "metadata": {
        "id": "gE2mtGtIIBeR"
      },
      "id": "gE2mtGtIIBeR",
      "execution_count": null,
      "outputs": []
    },
    {
      "cell_type": "markdown",
      "metadata": {
        "id": "fKSj7IWEeCnZ"
      },
      "source": [
        "## DTL TRAIN"
      ],
      "id": "fKSj7IWEeCnZ"
    },
    {
      "cell_type": "code",
      "execution_count": null,
      "metadata": {
        "collapsed": true,
        "id": "R1Wote7iXVGU"
      },
      "outputs": [],
      "source": [
        "start = time.time()\n",
        "# starting a new sesion for TF\n",
        "from keras import backend as K\n",
        "\n",
        "#image_size = 224\n",
        "tf.keras.backend.clear_session()\n",
        "\n",
        "# making model checkpoints\n",
        "model_checkpoint = tf.keras.callbacks.ModelCheckpoint('model_ensemble_DTL_train.h5', save_best_only=True)\n",
        "\n",
        "# load weights from the first model\n",
        "model.load_weights(\"model_ensemble_1st_train.h5\")\n",
        "\n",
        "# model logs\n",
        "csv_logger = CSVLogger('cnn_model_logs.csv', append=True)\n",
        "\n",
        "#metrics = ['accuracy', Precision(name='Precision'), Recall(name='Recall')]\n",
        "metrics = [tversky]\n",
        "# compiling the model\n",
        "#model.compile(loss='binary_crossentropy', optimizer='adam', metrics=metrics)\n",
        "model.compile(loss=focal_tversky, optimizer='adam', metrics=[tversky])\n",
        "\n",
        "# fit the model\n",
        "train_history = model.fit(train_dataset, epochs=epochs, batch_size=batch_size, verbose=1,\n",
        "                             callbacks=[model_checkpoint, csv_logger], validation_data=val_dataset)\n",
        "end = time.time()\n",
        "print('Time Taken: %.3f seconds' % (end-start))"
      ],
      "id": "R1Wote7iXVGU"
    },
    {
      "cell_type": "markdown",
      "metadata": {
        "id": "qW8xqjsVBmLR"
      },
      "source": [
        "## DTL Results"
      ],
      "id": "qW8xqjsVBmLR"
    },
    {
      "cell_type": "code",
      "execution_count": null,
      "metadata": {
        "id": "kmCXkYILBsWo"
      },
      "outputs": [],
      "source": [
        "# visualize model performance\n",
        "history = train_history.history\n",
        "model_hist(history)"
      ],
      "id": "kmCXkYILBsWo"
    },
    {
      "cell_type": "code",
      "execution_count": null,
      "metadata": {
        "id": "evmvgHTmAklK"
      },
      "outputs": [],
      "source": [
        "print(len(train_dataset))\n",
        "print(len(val_dataset))\n",
        "\n",
        "#xpred ="
      ],
      "id": "evmvgHTmAklK"
    },
    {
      "cell_type": "markdown",
      "metadata": {
        "id": "-7YZ6H35pU-Y"
      },
      "source": [
        "## Classification Report"
      ],
      "id": "-7YZ6H35pU-Y"
    },
    {
      "cell_type": "code",
      "execution_count": null,
      "metadata": {
        "id": "MgTh3beeMbuf"
      },
      "outputs": [],
      "source": [
        "# loading the data\n",
        "data_path = '/content/gdrive/MyDrive/train_labels.csv'\n",
        "data = pd.read_csv(data_path)\n",
        "data.head(5)"
      ],
      "id": "MgTh3beeMbuf"
    },
    {
      "cell_type": "code",
      "execution_count": null,
      "metadata": {
        "id": "qufvvjgXMojz"
      },
      "outputs": [],
      "source": [
        "# sorting out training, validation and testing images\n",
        "test_images = data.groupby(by='label').sample(3000)\n",
        "train_images = data.drop(test_images.index).reset_index(drop=True)\n",
        "test_images = test_images.reset_index(drop=True)\n",
        "test_images"
      ],
      "id": "qufvvjgXMojz"
    },
    {
      "cell_type": "code",
      "execution_count": null,
      "metadata": {
        "id": "vQ9mg_EnMi7g"
      },
      "outputs": [],
      "source": [
        "# renaming and structuring the columns for better data understanding\n",
        "data = data.rename(columns={'id': 'path'})\n",
        "#data['label'] = data.path.apply(lambda x: x.split('/')[1])\n",
        "#data['label_int'] = data.label.apply(lambda x: class_names.index(x))\n",
        "#data['filename'] = data.path.apply(lambda x: x.split('/')[-1])\n",
        "\n",
        "data.head(5)\n",
        "\n",
        "len(data)"
      ],
      "id": "vQ9mg_EnMi7g"
    },
    {
      "cell_type": "code",
      "execution_count": null,
      "metadata": {
        "id": "YxKeBsBAL-RW"
      },
      "outputs": [],
      "source": [
        "validation_images = train_images.sample(frac = 0.3)\n",
        "train_images = train_images.drop(validation_images.index).reset_index(drop=True)\n",
        "validation_images = validation_images.reset_index(drop=True)\n",
        "\n",
        "train_images['set'] = 'train'\n",
        "validation_images['set'] = 'validation'\n",
        "test_images['set'] = 'test'\n",
        "\n",
        "validation_images"
      ],
      "id": "YxKeBsBAL-RW"
    },
    {
      "cell_type": "markdown",
      "metadata": {
        "id": "V17HC13UpXiX"
      },
      "source": [
        "## Confusion Matrix"
      ],
      "id": "V17HC13UpXiX"
    },
    {
      "cell_type": "code",
      "execution_count": null,
      "metadata": {
        "id": "uUWt_xFupZ1E"
      },
      "outputs": [],
      "source": [
        "import matplotlib.pyplot as plt\n",
        "import seaborn as sns\n",
        "import pandas as pd\n",
        "\n",
        "labels = get_labels_from_tfdataset(val_dataset)\n",
        "ypred = model_nn.predict(val_dataset)\n",
        "y_pred = np.where(ypred > 0.3, 1, 0)\n",
        "cm = confusion_matrix(labels, y_pred)\n",
        "cm = pd.DataFrame(cm, range(2),range(2))\n",
        "plt.figure(figsize = (10,10))\n",
        "\n",
        "sns.heatmap(cm, annot=True, annot_kws={\"size\": 12}) # font size\n",
        "plt.show()"
      ],
      "id": "uUWt_xFupZ1E"
    },
    {
      "cell_type": "code",
      "execution_count": null,
      "metadata": {
        "id": "7lBAFibhvo7S"
      },
      "outputs": [],
      "source": [
        "from sklearn.metrics import ConfusionMatrixDisplay\n",
        "import matplotlib.pyplot as plt\n",
        "\n",
        "conf_matrix = confusion_matrix(y_true=labels, y_pred=y_pred)\n",
        "vis = ConfusionMatrixDisplay(confusion_matrix=conf_matrix, display_labels=class_names)\n",
        "vis.plot()\n",
        "plt.show()"
      ],
      "id": "7lBAFibhvo7S"
    },
    {
      "cell_type": "markdown",
      "metadata": {
        "id": "4TLWLBoHEyMp"
      },
      "source": [
        "# 1st Phase - VGG16 + Transfer Learning ImageNet - BreakHis"
      ],
      "id": "4TLWLBoHEyMp"
    },
    {
      "cell_type": "code",
      "execution_count": null,
      "metadata": {
        "id": "8c592be8",
        "colab": {
          "base_uri": "https://localhost:8080/"
        },
        "outputId": "a6c6d9e6-1df2-448b-9d45-569694800994"
      },
      "outputs": [
        {
          "output_type": "stream",
          "name": "stdout",
          "text": [
            "Steps:\n",
            "Train: 34 | Validation: 10 \n",
            "Output shape:  (None, 1)\n",
            "Model: \"model_1\"\n",
            "_________________________________________________________________\n",
            " Layer (type)                Output Shape              Param #   \n",
            "=================================================================\n",
            " input_3 (InputLayer)        [(None, 640, 640, 3)]     0         \n",
            "                                                                 \n",
            " block1_conv1 (Conv2D)       (None, 640, 640, 64)      1792      \n",
            "                                                                 \n",
            " block1_conv2 (Conv2D)       (None, 640, 640, 64)      36928     \n",
            "                                                                 \n",
            " block1_pool (MaxPooling2D)  (None, 320, 320, 64)      0         \n",
            "                                                                 \n",
            " block2_conv1 (Conv2D)       (None, 320, 320, 128)     73856     \n",
            "                                                                 \n",
            " block2_conv2 (Conv2D)       (None, 320, 320, 128)     147584    \n",
            "                                                                 \n",
            " block2_pool (MaxPooling2D)  (None, 160, 160, 128)     0         \n",
            "                                                                 \n",
            " block3_conv1 (Conv2D)       (None, 160, 160, 256)     295168    \n",
            "                                                                 \n",
            " block3_conv2 (Conv2D)       (None, 160, 160, 256)     590080    \n",
            "                                                                 \n",
            " block3_conv3 (Conv2D)       (None, 160, 160, 256)     590080    \n",
            "                                                                 \n",
            " block3_pool (MaxPooling2D)  (None, 80, 80, 256)       0         \n",
            "                                                                 \n",
            " block4_conv1 (Conv2D)       (None, 80, 80, 512)       1180160   \n",
            "                                                                 \n",
            " block4_conv2 (Conv2D)       (None, 80, 80, 512)       2359808   \n",
            "                                                                 \n",
            " block4_conv3 (Conv2D)       (None, 80, 80, 512)       2359808   \n",
            "                                                                 \n",
            " block4_pool (MaxPooling2D)  (None, 40, 40, 512)       0         \n",
            "                                                                 \n",
            " block5_conv1 (Conv2D)       (None, 40, 40, 512)       2359808   \n",
            "                                                                 \n",
            " block5_conv2 (Conv2D)       (None, 40, 40, 512)       2359808   \n",
            "                                                                 \n",
            " block5_conv3 (Conv2D)       (None, 40, 40, 512)       2359808   \n",
            "                                                                 \n",
            " block5_pool (MaxPooling2D)  (None, 20, 20, 512)       0         \n",
            "                                                                 \n",
            " global_average_pooling2d_2   (None, 512)              0         \n",
            " (GlobalAveragePooling2D)                                        \n",
            "                                                                 \n",
            " dense_2 (Dense)             (None, 1)                 513       \n",
            "                                                                 \n",
            "=================================================================\n",
            "Total params: 14,715,201\n",
            "Trainable params: 513\n",
            "Non-trainable params: 14,714,688\n",
            "_________________________________________________________________\n",
            "Input shape:  (640, 640, 3)\n"
          ]
        }
      ],
      "source": [
        "import keras\n",
        "\n",
        "### Building the Base Model vgg16\n",
        "\n",
        "train_steps = np.ceil(len(train_dataset) / batch_size)\n",
        "val_steps = np.ceil(len(val_dataset) / batch_size)\n",
        "\n",
        "print('Steps:')\n",
        "print('Train: %d | Validation: %d ' %(train_steps, val_steps))\n",
        "\n",
        "input_shape = (640, 640, 3)\n",
        "def model_vgg16(input_shape, activation):\n",
        "\n",
        "    model = tf.keras.applications.vgg16.VGG16(\n",
        "        input_shape   = input_shape,\n",
        "        include_top   = False,\n",
        "        weights = 'imagenet')\n",
        "\n",
        "    x = model.layers[-1].output\n",
        "    # model.layers.pop()\n",
        "    x = layers.GlobalAveragePooling2D()(x)\n",
        "    output = layers.Dense(1, activation=activation)(x)\n",
        "    print('Output shape: ', output.shape)\n",
        "    model.trainable = False\n",
        "    model = keras.Model(inputs=model.input, outputs=output)\n",
        "\n",
        "    return model\n",
        "\n",
        "if __name__ == \"__main__\":\n",
        "    #input_shape = (512, 512, 3)\n",
        "    #input_shape = input_shape\n",
        "    model = model_vgg16(input_shape, activation)\n",
        "    model.summary()\n",
        "    print('Input shape: ', input_shape)"
      ],
      "id": "8c592be8"
    },
    {
      "cell_type": "markdown",
      "metadata": {
        "id": "70lw_Oh2LXkf"
      },
      "source": [
        "## 1st Train VGG16"
      ],
      "id": "70lw_Oh2LXkf"
    },
    {
      "cell_type": "code",
      "execution_count": null,
      "metadata": {
        "id": "n1lSZ8wrLaNt"
      },
      "outputs": [],
      "source": [
        "model_vgg16 = model_vgg16(input_shape, activation)\n",
        "model_vgg16.compile(loss=loss, optimizer=optimizer, metrics=[metric, tf.keras.metrics.AUC()])\n",
        "\n",
        "s = time.time()\n",
        "# with tf.device('/CPU:0'):              # Running on CPU\n",
        "vgg16 = model_vgg16.fit(train_dataset, epochs=epochs, batch_size=batch_size, verbose=1,\n",
        "                             callbacks=[model_checkpoint, csv_logger], validation_data=val_dataset)\n",
        "#vgg16 = model_vgg16.fit(x                = train_gen,\n",
        "#                   steps_per_epoch  = train_steps,\n",
        "#                   validation_data  = valid_gen,\n",
        "#                   validation_steps = val_steps,\n",
        " #                  epochs           = epochs)\n",
        "\n",
        "#vgg16 = model_vgg16.fit(x           = train_dataset,\n",
        "                   #steps_per_epoch  = train_steps,\n",
        "#                   validation_data  = val_dataset,\n",
        "                   #validation_steps = val_steps,\n",
        "#                   epochs           = epochs)\n",
        "\n",
        "\n",
        "print('Fitting model in %.2f secs' % (time.time()-s))\n",
        "\n",
        "# pickle.dump(h3, open(f'HCDmVGG16.pkl', 'wb'))\n",
        "\n",
        "# with open(DB_PATH 'HCDmVGG16.pkl', 'wb') as file_pkl:\n",
        "#     pickle.dump(history.history, file_pkl)\n"
      ],
      "id": "n1lSZ8wrLaNt"
    },
    {
      "cell_type": "markdown",
      "metadata": {
        "id": "4pu5f8bdLgVn"
      },
      "source": [
        "## VGG-16 Results"
      ],
      "id": "4pu5f8bdLgVn"
    },
    {
      "cell_type": "code",
      "execution_count": null,
      "metadata": {
        "id": "vIp99ikmLi54"
      },
      "outputs": [],
      "source": [
        "Plot_Train([vgg16])"
      ],
      "id": "vIp99ikmLi54"
    },
    {
      "cell_type": "markdown",
      "metadata": {
        "id": "xDTDfhWI7dGF"
      },
      "source": [
        "## Conf Matrix"
      ],
      "id": "xDTDfhWI7dGF"
    },
    {
      "cell_type": "code",
      "execution_count": null,
      "metadata": {
        "id": "Ppp3_qse7cvm"
      },
      "outputs": [],
      "source": [
        "import matplotlib.pyplot as plt\n",
        "import seaborn as sns\n",
        "import pandas as pd\n",
        "\n",
        "labels = get_labels_from_tfdataset(train_dataset)\n",
        "ypred = model_vgg16.predict(valid_gen)\n",
        "y_pred = np.where(ypred > 0.5, 1, 0)\n",
        "cm = confusion_matrix(labels, y_pred)\n",
        "cm = pd.DataFrame(cm, range(2),range(2))\n",
        "plt.figure(figsize = (10,10))\n",
        "\n",
        "sns.heatmap(cm, annot=True, annot_kws={\"size\": 12}) # font size\n",
        "plt.show()"
      ],
      "id": "Ppp3_qse7cvm"
    },
    {
      "cell_type": "code",
      "execution_count": null,
      "metadata": {
        "id": "K_7jxjSp7fib"
      },
      "outputs": [],
      "source": [
        "from sklearn.metrics import ConfusionMatrixDisplay\n",
        "import matplotlib.pyplot as plt\n",
        "\n",
        "conf_matrix = confusion_matrix(y_true=labels, y_pred=y_pred)\n",
        "vis = ConfusionMatrixDisplay(confusion_matrix=conf_matrix, display_labels=class_names)\n",
        "vis.plot()\n",
        "plt.show()"
      ],
      "id": "K_7jxjSp7fib"
    },
    {
      "cell_type": "markdown",
      "metadata": {
        "id": "ujMeBh9eEQpO"
      },
      "source": [
        "## VGG-19 - Build"
      ],
      "id": "ujMeBh9eEQpO"
    },
    {
      "cell_type": "code",
      "execution_count": null,
      "metadata": {
        "id": "nDvUk769zcT7"
      },
      "outputs": [],
      "source": [
        "### Building the Base Model vgg19\n",
        "def model_vgg19(input_shape, activation):\n",
        "\n",
        "    #model = tf.keras.applications.vgg16.VGG16(\n",
        "    model = tf.keras.applications.vgg19.VGG19(\n",
        "\n",
        "        input_shape   = input_shape,\n",
        "        include_top   = False,\n",
        "        weights = 'imagenet')\n",
        "\n",
        "    x = model.layers[-1].output\n",
        "    # model.layers.pop()\n",
        "    x = layers.GlobalAveragePooling2D()(x)\n",
        "    output = layers.Dense(1, activation=activation)(x)\n",
        "    model.trainable = False\n",
        "    model = keras.Model(inputs=model.input, outputs=output)\n",
        "\n",
        "    return model\n",
        "\n",
        "    if __name__ == \"__main__\":\n",
        "    #input_shape = (512, 512, 3)\n",
        "    #input_shape = input_shape\n",
        "      model = model_vgg19(input_shape, activation)\n",
        "      model.summary()\n",
        "      print('Input shape: ', input_shape)"
      ],
      "id": "nDvUk769zcT7"
    },
    {
      "cell_type": "markdown",
      "metadata": {
        "id": "McDab4inME3_"
      },
      "source": [
        "## VGG-19 TRAIN"
      ],
      "id": "McDab4inME3_"
    },
    {
      "cell_type": "code",
      "execution_count": null,
      "metadata": {
        "id": "J6BYrLnYMLA2"
      },
      "outputs": [],
      "source": [
        "model_vgg19 = model_vgg19(input_shape, activation)\n",
        "model_vgg19.compile(loss=loss, optimizer=optimizer, metrics=[metric, tf.keras.metrics.AUC()])\n",
        "\n",
        "s = time.time()\n",
        "# with tf.device('/CPU:0'):              # Running on CPU\n",
        "vgg19 = model_vgg19.fit(x                = train_dataset,\n",
        "                   #steps_per_epoch  = train_steps,\n",
        "                   validation_data  = val_dataset,\n",
        "                   #validation_steps = val_steps,\n",
        "                   epochs           = epochs)\n",
        "\n",
        "print('Fitting model in %.2f secs' % (time.time()-s))\n",
        "\n",
        "# pickle.dump(h3, open(f'HCDmVGG16.pkl', 'wb'))\n",
        "\n",
        "# with open(DB_PATH 'HCDmVGG16.pkl', 'wb') as file_pkl:\n",
        "#     pickle.dump(history.history, file_pkl)\n"
      ],
      "id": "J6BYrLnYMLA2"
    },
    {
      "cell_type": "markdown",
      "metadata": {
        "id": "dEurgT1bnyGZ"
      },
      "source": [
        "## VGG-19 - Results"
      ],
      "id": "dEurgT1bnyGZ"
    },
    {
      "cell_type": "code",
      "execution_count": null,
      "metadata": {
        "id": "rN2Lb-trn054"
      },
      "outputs": [],
      "source": [
        "Plot_Train([vgg19])"
      ],
      "id": "rN2Lb-trn054"
    },
    {
      "cell_type": "markdown",
      "metadata": {
        "id": "M0GDS5ydA2tS"
      },
      "source": [
        "## Conf Matrix"
      ],
      "id": "M0GDS5ydA2tS"
    },
    {
      "cell_type": "code",
      "execution_count": null,
      "metadata": {
        "id": "9S4maGvrA2to"
      },
      "outputs": [],
      "source": [
        "import matplotlib.pyplot as plt\n",
        "import seaborn as sns\n",
        "import pandas as pd\n",
        "\n",
        "labels = get_labels_from_tfdataset(val_dataset)\n",
        "ypred = vgg_19.predict(val_dataset)\n",
        "y_pred = np.where(ypred > 0.5, 1, 0)\n",
        "cm = confusion_matrix(labels, y_pred)\n",
        "cm = pd.DataFrame(cm, range(2),range(2))\n",
        "plt.figure(figsize = (10,10))\n",
        "\n",
        "sns.heatmap(cm, annot=True, annot_kws={\"size\": 12}) # font size\n",
        "plt.show()"
      ],
      "id": "9S4maGvrA2to"
    },
    {
      "cell_type": "code",
      "execution_count": null,
      "metadata": {
        "id": "56_hq4WvA2tp"
      },
      "outputs": [],
      "source": [
        "from sklearn.metrics import ConfusionMatrixDisplay\n",
        "import matplotlib.pyplot as plt\n",
        "\n",
        "conf_matrix = confusion_matrix(y_true=labels, y_pred=y_pred)\n",
        "vis = ConfusionMatrixDisplay(confusion_matrix=conf_matrix, display_labels=class_names)\n",
        "vis.plot()\n",
        "plt.show()"
      ],
      "id": "56_hq4WvA2tp"
    },
    {
      "cell_type": "markdown",
      "metadata": {
        "id": "AHCQJy6EA6Cy"
      },
      "source": [
        "## MOB NET BUILD"
      ],
      "id": "AHCQJy6EA6Cy"
    },
    {
      "cell_type": "code",
      "execution_count": null,
      "metadata": {
        "id": "3e44c842"
      },
      "outputs": [],
      "source": [
        "def model_mobile(input_shape, activation):\n",
        "\n",
        "    model = tf.keras.applications.MobileNetV3Large(\n",
        "                             input_shape = input_shape,\n",
        "                             # input_tensor=input_shape,\n",
        "                             alpha       = 1.0,\n",
        "                             minimalistic= False,\n",
        "                             include_top = False,\n",
        "                             weights     = 'imagenet',\n",
        "                             classes     = 1000,\n",
        "                             pooling     = None,\n",
        "                             dropout_rate= 0.2,\n",
        "                             classifier_activation='softmax',\n",
        "                             include_preprocessing=True)\n",
        "\n",
        "    x = model.layers[-1].output\n",
        "    x = layers.GlobalAveragePooling2D()(x)\n",
        "    output = layers.Dense(1, activation=activation)(x)\n",
        "    model.trainable = False\n",
        "    model = keras.Model(inputs=model.input, outputs=output)\n",
        "\n",
        "    return model\n",
        "\n",
        "    if __name__ == \"__main__\":\n",
        "    #input_shape = (512, 512, 3)\n",
        "    #input_shape = input_shape\n",
        "      model = model_mobile(input_shape, activation)\n",
        "      model.summary()\n",
        "      print('Input shape: ', input_shape)"
      ],
      "id": "3e44c842"
    },
    {
      "cell_type": "markdown",
      "metadata": {
        "id": "6nDfwL9EqF7O"
      },
      "source": [
        "## Model MobileNetV3Large - Train"
      ],
      "id": "6nDfwL9EqF7O"
    },
    {
      "cell_type": "code",
      "execution_count": null,
      "metadata": {
        "id": "C-0urOu8q5Gs"
      },
      "outputs": [],
      "source": [
        "optimizer = tf.keras.optimizers.legacy.Adam(learning_rate=0.0001)\n",
        "model_mob = model_mobile(input_shape, activation)\n",
        "model_mob.compile(loss=loss, optimizer=optimizer, metrics=[metric, tf.keras.metrics.AUC()])\n",
        "\n",
        "s = time.time()\n",
        "# with tf.device('/CPU:0'):              # Running on CPU\n",
        "mob = model_mob.fit(x                = train_dataset,\n",
        "                   steps_per_epoch  = train_steps,\n",
        "                   validation_data  = val_dataset,\n",
        "                   validation_steps = val_steps,\n",
        "                   epochs           = epochs)\n",
        "\n",
        "print('Fitting model in %.2f secs' % (time.time()-s))\n",
        "\n",
        "# pickle.dump(h3, open(f'HCDmVGG16.pkl', 'wb'))\n",
        "\n",
        "# with open(DB_PATH 'HCDmVGG16.pkl', 'wb') as file_pkl:\n",
        "#     pickle.dump(history.history, file_pkl)\n"
      ],
      "id": "C-0urOu8q5Gs"
    },
    {
      "cell_type": "markdown",
      "metadata": {
        "id": "fG8gx5FIr0cb"
      },
      "source": [
        "## Model MobileNetV3Large - Results"
      ],
      "id": "fG8gx5FIr0cb"
    },
    {
      "cell_type": "code",
      "execution_count": null,
      "metadata": {
        "id": "ux_iIhh6r2-t"
      },
      "outputs": [],
      "source": [
        "Plot_Train([mob])"
      ],
      "id": "ux_iIhh6r2-t"
    },
    {
      "cell_type": "markdown",
      "metadata": {
        "id": "1VR0J2U5-C1D"
      },
      "source": [
        "## Conf Matrix"
      ],
      "id": "1VR0J2U5-C1D"
    },
    {
      "cell_type": "code",
      "execution_count": null,
      "metadata": {
        "id": "WeF-nE7x-C1E"
      },
      "outputs": [],
      "source": [
        "import matplotlib.pyplot as plt\n",
        "import seaborn as sns\n",
        "import pandas as pd\n",
        "\n",
        "labels = get_labels_from_tfdataset(val_dataset)\n",
        "ypred = model_mob.predict(val_dataset)\n",
        "y_pred = np.where(ypred > 0.5, 1, 0)\n",
        "cm = confusion_matrix(labels, y_pred)\n",
        "cm = pd.DataFrame(cm, range(2),range(2))\n",
        "plt.figure(figsize = (10,10))\n",
        "\n",
        "sns.heatmap(cm, annot=True, annot_kws={\"size\": 12}) # font size\n",
        "plt.show()"
      ],
      "id": "WeF-nE7x-C1E"
    },
    {
      "cell_type": "code",
      "execution_count": null,
      "metadata": {
        "id": "mqrexx8f-C1F"
      },
      "outputs": [],
      "source": [
        "from sklearn.metrics import ConfusionMatrixDisplay\n",
        "import matplotlib.pyplot as plt\n",
        "\n",
        "conf_matrix = confusion_matrix(y_true=labels, y_pred=y_pred)\n",
        "vis = ConfusionMatrixDisplay(confusion_matrix=conf_matrix, display_labels=class_names)\n",
        "vis.plot()\n",
        "plt.show()"
      ],
      "id": "mqrexx8f-C1F"
    },
    {
      "cell_type": "markdown",
      "metadata": {
        "id": "0Z1r5ShRDoa1"
      },
      "source": [
        "## Model Custom - Build"
      ],
      "id": "0Z1r5ShRDoa1"
    },
    {
      "cell_type": "code",
      "execution_count": null,
      "metadata": {
        "id": "94aff9be"
      },
      "outputs": [],
      "source": [
        "def model_custom(input_shape, activation):\n",
        "\n",
        "    model = Sequential()\n",
        "    model.add(Conv2D(first_filters, kernel_size, activation = 'relu', input_shape = input_shape))\n",
        "    model.add(Conv2D(first_filters, kernel_size, activation = 'relu'))\n",
        "    model.add(Conv2D(first_filters, kernel_size, activation = 'relu'))\n",
        "    model.add(MaxPooling2D(pool_size = pool_size))\n",
        "    model.add(Dropout(dropout_conv))\n",
        "\n",
        "    model.add(Conv2D(second_filters, kernel_size, activation ='relu'))\n",
        "    model.add(Conv2D(second_filters, kernel_size, activation ='relu'))\n",
        "    model.add(Conv2D(second_filters, kernel_size, activation ='relu'))\n",
        "    model.add(MaxPooling2D(pool_size = pool_size))\n",
        "    model.add(Dropout(dropout_conv))\n",
        "\n",
        "    model.add(Conv2D(third_filters, kernel_size, activation ='relu'))\n",
        "    model.add(Conv2D(third_filters, kernel_size, activation ='relu'))\n",
        "    model.add(Conv2D(third_filters, kernel_size, activation ='relu'))\n",
        "    model.add(MaxPooling2D(pool_size = pool_size))\n",
        "    model.add(Dropout(dropout_conv))\n",
        "\n",
        "    model.add(Flatten())\n",
        "    model.add(Dense(256, activation = \"relu\"))\n",
        "    model.add(Dropout(dropout_dense))\n",
        "    model.add(Dense(1, activation = activation))\n",
        "\n",
        "    return model"
      ],
      "id": "94aff9be"
    },
    {
      "cell_type": "markdown",
      "metadata": {
        "id": "0wuYTQs3vbd_"
      },
      "source": [
        "## Model Custom I - Train"
      ],
      "id": "0wuYTQs3vbd_"
    },
    {
      "cell_type": "code",
      "execution_count": null,
      "metadata": {
        "id": "Kd_Ast5zv1WD"
      },
      "outputs": [],
      "source": [
        "model_cust = model_custom(input_shape, activation)\n",
        "model_cust.compile(loss=loss, optimizer=optimizer, metrics=[metric, tf.keras.metrics.AUC()])\n",
        "\n",
        "s = time.time()\n",
        "# with tf.device('/CPU:0'):              # Running on CPU\n",
        "model_cust = model_cust.fit(x                = train_dataset,\n",
        "                   steps_per_epoch  = train_steps,\n",
        "                   validation_data  = val_dataset,\n",
        "                   validation_steps = val_steps,\n",
        "                   epochs           = epochs)\n",
        "\n",
        "print('Fitting model in %.2f secs' % (time.time()-s))\n",
        "\n",
        "# pickle.dump(h3, open(f'HCDmVGG16.pkl', 'wb'))\n",
        "\n",
        "# with open(DB_PATH 'HCDmVGG16.pkl', 'wb') as file_pkl:\n",
        "#     pickle.dump(history.history, file_pkl)\n"
      ],
      "id": "Kd_Ast5zv1WD"
    },
    {
      "cell_type": "markdown",
      "metadata": {
        "id": "cHB3WVjp1LSI"
      },
      "source": [
        "## MODEL CUSTOM - RESULTS"
      ],
      "id": "cHB3WVjp1LSI"
    },
    {
      "cell_type": "code",
      "execution_count": null,
      "metadata": {
        "id": "qX_qDTOH1Oia"
      },
      "outputs": [],
      "source": [
        "Plot_Train([model_cust])"
      ],
      "id": "qX_qDTOH1Oia"
    },
    {
      "cell_type": "markdown",
      "metadata": {
        "id": "eKhIiLSV_rJj"
      },
      "source": [
        "## Conf Matrix"
      ],
      "id": "eKhIiLSV_rJj"
    },
    {
      "cell_type": "code",
      "execution_count": null,
      "metadata": {
        "id": "n6p2btPr_rJ9"
      },
      "outputs": [],
      "source": [
        "import matplotlib.pyplot as plt\n",
        "import seaborn as sns\n",
        "import pandas as pd\n",
        "\n",
        "labels = get_labels_from_tfdataset(val_dataset)\n",
        "ypred = model_cust.predict(val_dataset)\n",
        "y_pred = np.where(ypred > 0.5, 1, 0)\n",
        "cm = confusion_matrix(labels, y_pred)\n",
        "cm = pd.DataFrame(cm, range(2),range(2))\n",
        "plt.figure(figsize = (10,10))\n",
        "\n",
        "sns.heatmap(cm, annot=True, annot_kws={\"size\": 12}) # font size\n",
        "plt.show()"
      ],
      "id": "n6p2btPr_rJ9"
    },
    {
      "cell_type": "code",
      "execution_count": null,
      "metadata": {
        "id": "5QnkpDEw_rJ9"
      },
      "outputs": [],
      "source": [
        "from sklearn.metrics import ConfusionMatrixDisplay\n",
        "import matplotlib.pyplot as plt\n",
        "\n",
        "conf_matrix = confusion_matrix(y_true=labels, y_pred=y_pred)\n",
        "vis = ConfusionMatrixDisplay(confusion_matrix=conf_matrix, display_labels=class_names)\n",
        "vis.plot()\n",
        "plt.show()"
      ],
      "id": "5QnkpDEw_rJ9"
    }
  ],
  "metadata": {
    "accelerator": "GPU",
    "colab": {
      "machine_shape": "hm",
      "provenance": [],
      "collapsed_sections": [
        "wE5ZzGu7cPUX"
      ],
      "gpuClass": "premium"
    },
    "gpuClass": "premium",
    "kernelspec": {
      "display_name": "Python 3",
      "language": "python",
      "name": "python3"
    },
    "language_info": {
      "codemirror_mode": {
        "name": "ipython",
        "version": 3
      },
      "file_extension": ".py",
      "mimetype": "text/x-python",
      "name": "python",
      "nbconvert_exporter": "python",
      "pygments_lexer": "ipython3",
      "version": "3.7.12"
    },
    "papermill": {
      "default_parameters": {},
      "duration": 2768.655766,
      "end_time": "2022-05-27T01:30:14.408865",
      "environment_variables": {},
      "exception": null,
      "input_path": "__notebook__.ipynb",
      "output_path": "__notebook__.ipynb",
      "parameters": {},
      "start_time": "2022-05-27T00:44:05.753099",
      "version": "2.3.4"
    }
  },
  "nbformat": 4,
  "nbformat_minor": 5
}