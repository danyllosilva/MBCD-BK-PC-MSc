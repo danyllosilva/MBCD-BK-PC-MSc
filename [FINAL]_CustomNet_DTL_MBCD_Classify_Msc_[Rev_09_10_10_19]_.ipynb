{
  "cells": [
    {
      "cell_type": "code",
      "execution_count": null,
      "metadata": {
        "colab": {
          "base_uri": "https://localhost:8080/"
        },
        "id": "3-42paEyWjyL",
        "outputId": "2b13dedc-6ab9-4e12-8738-a9d82279d006"
      },
      "outputs": [
        {
          "name": "stdout",
          "output_type": "stream",
          "text": [
            "Mounted at /content/gdrive\n"
          ]
        }
      ],
      "source": [
        "from google.colab import drive\n",
        "drive.mount ('/content/gdrive', force_remount=True)"
      ],
      "id": "3-42paEyWjyL"
    },
    {
      "cell_type": "code",
      "execution_count": null,
      "metadata": {
        "id": "n8aXAPYeqoLA"
      },
      "outputs": [],
      "source": [
        "# BreakHis Dataset\n",
        "!mkdir '/content/bh'\n",
        "!unzip -qq '/content/gdrive/MyDrive/BreaKHis_v1.zip'  -d '/content/BH'\n",
        "!unzip -qq '/content/gdrive/MyDrive/Folds.csv.zip'  -d '/content/BH'"
      ],
      "id": "n8aXAPYeqoLA"
    },
    {
      "cell_type": "markdown",
      "metadata": {
        "id": "iOjFlTTNLeoJ"
      },
      "source": [
        "# 1st Phase - CustomNet + Transfer Learning ImageNet - BreakHis"
      ],
      "id": "iOjFlTTNLeoJ"
    },
    {
      "cell_type": "markdown",
      "metadata": {
        "id": "3NwpQgbAyBNy"
      },
      "source": [
        "## BH SECTION"
      ],
      "id": "3NwpQgbAyBNy"
    },
    {
      "cell_type": "markdown",
      "metadata": {
        "id": "EWWClZWOyVUT"
      },
      "source": [
        "### IMPORTING LIBRARIES"
      ],
      "id": "EWWClZWOyVUT"
    },
    {
      "cell_type": "code",
      "execution_count": null,
      "metadata": {
        "id": "86oxBF0lyN00"
      },
      "outputs": [],
      "source": [
        "# importing libraries\n",
        "\n",
        "import warnings\n",
        "warnings.filterwarnings('ignore')\n",
        "\n",
        "import numpy as np # linear algebra\n",
        "import pandas as pd # data processing, CSV file I/O (e.g. pd.read_csv)\n",
        "import os, time, tqdm\n",
        "import matplotlib.pyplot as plt\n",
        "import seaborn as sns\n",
        "from sklearn.metrics import *\n",
        "import tensorflow as tf\n",
        "from functools import partial\n",
        "# import keras\n",
        "from tensorflow.keras import layers\n",
        "import albumentations as A\n",
        "import tensorflow_hub as hub\n",
        "from tensorflow.keras.layers import Input, Dense, Flatten, Dropout\n",
        "from tensorflow.keras.models import Model\n",
        "from tensorflow.keras.applications.resnet50 import ResNet50\n",
        "from tensorflow.keras.callbacks import CSVLogger\n",
        "from tensorflow.keras.optimizers import Adam\n",
        "from tensorflow.keras.losses import BinaryCrossentropy\n",
        "from tensorflow.keras.metrics import Precision, Recall, F1Score\n",
        "from sklearn.metrics import classification_report, f1_score\n",
        "from sklearn.model_selection import KFold\n",
        "import matplotlib as mpl\n",
        "from matplotlib.image import imread\n",
        "from tqdm import tqdm_notebook\n",
        "from tensorflow import keras\n",
        "from tensorflow.keras.layers import BatchNormalization\n",
        "from tensorflow.keras.preprocessing.image import ImageDataGenerator\n",
        "\n",
        "import os, warnings, random, time, multiprocessing, pickle"
      ],
      "id": "86oxBF0lyN00"
    },
    {
      "cell_type": "markdown",
      "metadata": {
        "id": "Z9wsJ3JeJW-G"
      },
      "source": [
        "### GPU CONFIRMATION"
      ],
      "id": "Z9wsJ3JeJW-G"
    },
    {
      "cell_type": "code",
      "execution_count": null,
      "metadata": {
        "colab": {
          "base_uri": "https://localhost:8080/"
        },
        "id": "eeV04VJgJbyo",
        "outputId": "c04eb5a2-2db3-4919-c6f6-d7be06fd068a"
      },
      "outputs": [
        {
          "name": "stdout",
          "output_type": "stream",
          "text": [
            "Sat Oct 14 04:02:00 2023       \n",
            "+-----------------------------------------------------------------------------+\n",
            "| NVIDIA-SMI 525.105.17   Driver Version: 525.105.17   CUDA Version: 12.0     |\n",
            "|-------------------------------+----------------------+----------------------+\n",
            "| GPU  Name        Persistence-M| Bus-Id        Disp.A | Volatile Uncorr. ECC |\n",
            "| Fan  Temp  Perf  Pwr:Usage/Cap|         Memory-Usage | GPU-Util  Compute M. |\n",
            "|                               |                      |               MIG M. |\n",
            "|===============================+======================+======================|\n",
            "|   0  Tesla T4            Off  | 00000000:00:04.0 Off |                    0 |\n",
            "| N/A   42C    P8     9W /  70W |      0MiB / 15360MiB |      0%      Default |\n",
            "|                               |                      |                  N/A |\n",
            "+-------------------------------+----------------------+----------------------+\n",
            "                                                                               \n",
            "+-----------------------------------------------------------------------------+\n",
            "| Processes:                                                                  |\n",
            "|  GPU   GI   CI        PID   Type   Process name                  GPU Memory |\n",
            "|        ID   ID                                                   Usage      |\n",
            "|=============================================================================|\n",
            "|  No running processes found                                                 |\n",
            "+-----------------------------------------------------------------------------+\n"
          ]
        }
      ],
      "source": [
        "!nvidia-smi"
      ],
      "id": "eeV04VJgJbyo"
    },
    {
      "cell_type": "markdown",
      "metadata": {
        "id": "AumQpXGLJgzD"
      },
      "source": [
        "### LOADING Dataframes"
      ],
      "id": "AumQpXGLJgzD"
    },
    {
      "cell_type": "code",
      "execution_count": null,
      "metadata": {
        "colab": {
          "base_uri": "https://localhost:8080/"
        },
        "id": "jIApXNUwJibR",
        "outputId": "5cf00d95-1f63-4fed-f4f5-9fb49eefbbb7"
      },
      "outputs": [
        {
          "name": "stdout",
          "output_type": "stream",
          "text": [
            "['malignant', 'benign']\n"
          ]
        }
      ],
      "source": [
        "image_dir = '/content/BH/' #TRAIN_DIR\n",
        "data_path = '/content/BH/Folds.csv' #TEST_DIR\n",
        "\n",
        "# experimental API for making data pipelines\n",
        "tf.data.experimental.AUTOTUNE\n",
        "\n",
        "# defining the class names\n",
        "class_names = ['malignant', 'benign']\n",
        "print(class_names)"
      ],
      "id": "jIApXNUwJibR"
    },
    {
      "cell_type": "code",
      "execution_count": null,
      "metadata": {
        "colab": {
          "base_uri": "https://localhost:8080/",
          "height": 206
        },
        "id": "Guviui_cqapj",
        "outputId": "79002348-5afa-4f0d-d022-a01216d73eb3"
      },
      "outputs": [
        {
          "data": {
            "text/html": [
              "\n",
              "  <div id=\"df-4c9b17f2-0115-467c-8166-0ee9d7a1ab92\" class=\"colab-df-container\">\n",
              "    <div>\n",
              "<style scoped>\n",
              "    .dataframe tbody tr th:only-of-type {\n",
              "        vertical-align: middle;\n",
              "    }\n",
              "\n",
              "    .dataframe tbody tr th {\n",
              "        vertical-align: top;\n",
              "    }\n",
              "\n",
              "    .dataframe thead th {\n",
              "        text-align: right;\n",
              "    }\n",
              "</style>\n",
              "<table border=\"1\" class=\"dataframe\">\n",
              "  <thead>\n",
              "    <tr style=\"text-align: right;\">\n",
              "      <th></th>\n",
              "      <th>fold</th>\n",
              "      <th>mag</th>\n",
              "      <th>grp</th>\n",
              "      <th>filename</th>\n",
              "    </tr>\n",
              "  </thead>\n",
              "  <tbody>\n",
              "    <tr>\n",
              "      <th>0</th>\n",
              "      <td>1</td>\n",
              "      <td>100</td>\n",
              "      <td>train</td>\n",
              "      <td>BreaKHis_v1/histology_slides/breast/benign/SOB...</td>\n",
              "    </tr>\n",
              "    <tr>\n",
              "      <th>1</th>\n",
              "      <td>1</td>\n",
              "      <td>100</td>\n",
              "      <td>train</td>\n",
              "      <td>BreaKHis_v1/histology_slides/breast/benign/SOB...</td>\n",
              "    </tr>\n",
              "    <tr>\n",
              "      <th>2</th>\n",
              "      <td>1</td>\n",
              "      <td>100</td>\n",
              "      <td>train</td>\n",
              "      <td>BreaKHis_v1/histology_slides/breast/benign/SOB...</td>\n",
              "    </tr>\n",
              "    <tr>\n",
              "      <th>3</th>\n",
              "      <td>1</td>\n",
              "      <td>100</td>\n",
              "      <td>train</td>\n",
              "      <td>BreaKHis_v1/histology_slides/breast/benign/SOB...</td>\n",
              "    </tr>\n",
              "    <tr>\n",
              "      <th>4</th>\n",
              "      <td>1</td>\n",
              "      <td>100</td>\n",
              "      <td>train</td>\n",
              "      <td>BreaKHis_v1/histology_slides/breast/benign/SOB...</td>\n",
              "    </tr>\n",
              "  </tbody>\n",
              "</table>\n",
              "</div>\n",
              "    <div class=\"colab-df-buttons\">\n",
              "\n",
              "  <div class=\"colab-df-container\">\n",
              "    <button class=\"colab-df-convert\" onclick=\"convertToInteractive('df-4c9b17f2-0115-467c-8166-0ee9d7a1ab92')\"\n",
              "            title=\"Convert this dataframe to an interactive table.\"\n",
              "            style=\"display:none;\">\n",
              "\n",
              "  <svg xmlns=\"http://www.w3.org/2000/svg\" height=\"24px\" viewBox=\"0 -960 960 960\">\n",
              "    <path d=\"M120-120v-720h720v720H120Zm60-500h600v-160H180v160Zm220 220h160v-160H400v160Zm0 220h160v-160H400v160ZM180-400h160v-160H180v160Zm440 0h160v-160H620v160ZM180-180h160v-160H180v160Zm440 0h160v-160H620v160Z\"/>\n",
              "  </svg>\n",
              "    </button>\n",
              "\n",
              "  <style>\n",
              "    .colab-df-container {\n",
              "      display:flex;\n",
              "      gap: 12px;\n",
              "    }\n",
              "\n",
              "    .colab-df-convert {\n",
              "      background-color: #E8F0FE;\n",
              "      border: none;\n",
              "      border-radius: 50%;\n",
              "      cursor: pointer;\n",
              "      display: none;\n",
              "      fill: #1967D2;\n",
              "      height: 32px;\n",
              "      padding: 0 0 0 0;\n",
              "      width: 32px;\n",
              "    }\n",
              "\n",
              "    .colab-df-convert:hover {\n",
              "      background-color: #E2EBFA;\n",
              "      box-shadow: 0px 1px 2px rgba(60, 64, 67, 0.3), 0px 1px 3px 1px rgba(60, 64, 67, 0.15);\n",
              "      fill: #174EA6;\n",
              "    }\n",
              "\n",
              "    .colab-df-buttons div {\n",
              "      margin-bottom: 4px;\n",
              "    }\n",
              "\n",
              "    [theme=dark] .colab-df-convert {\n",
              "      background-color: #3B4455;\n",
              "      fill: #D2E3FC;\n",
              "    }\n",
              "\n",
              "    [theme=dark] .colab-df-convert:hover {\n",
              "      background-color: #434B5C;\n",
              "      box-shadow: 0px 1px 3px 1px rgba(0, 0, 0, 0.15);\n",
              "      filter: drop-shadow(0px 1px 2px rgba(0, 0, 0, 0.3));\n",
              "      fill: #FFFFFF;\n",
              "    }\n",
              "  </style>\n",
              "\n",
              "    <script>\n",
              "      const buttonEl =\n",
              "        document.querySelector('#df-4c9b17f2-0115-467c-8166-0ee9d7a1ab92 button.colab-df-convert');\n",
              "      buttonEl.style.display =\n",
              "        google.colab.kernel.accessAllowed ? 'block' : 'none';\n",
              "\n",
              "      async function convertToInteractive(key) {\n",
              "        const element = document.querySelector('#df-4c9b17f2-0115-467c-8166-0ee9d7a1ab92');\n",
              "        const dataTable =\n",
              "          await google.colab.kernel.invokeFunction('convertToInteractive',\n",
              "                                                    [key], {});\n",
              "        if (!dataTable) return;\n",
              "\n",
              "        const docLinkHtml = 'Like what you see? Visit the ' +\n",
              "          '<a target=\"_blank\" href=https://colab.research.google.com/notebooks/data_table.ipynb>data table notebook</a>'\n",
              "          + ' to learn more about interactive tables.';\n",
              "        element.innerHTML = '';\n",
              "        dataTable['output_type'] = 'display_data';\n",
              "        await google.colab.output.renderOutput(dataTable, element);\n",
              "        const docLink = document.createElement('div');\n",
              "        docLink.innerHTML = docLinkHtml;\n",
              "        element.appendChild(docLink);\n",
              "      }\n",
              "    </script>\n",
              "  </div>\n",
              "\n",
              "\n",
              "<div id=\"df-a82312f5-4c5f-496d-a182-0e104735e068\">\n",
              "  <button class=\"colab-df-quickchart\" onclick=\"quickchart('df-a82312f5-4c5f-496d-a182-0e104735e068')\"\n",
              "            title=\"Suggest charts.\"\n",
              "            style=\"display:none;\">\n",
              "\n",
              "<svg xmlns=\"http://www.w3.org/2000/svg\" height=\"24px\"viewBox=\"0 0 24 24\"\n",
              "     width=\"24px\">\n",
              "    <g>\n",
              "        <path d=\"M19 3H5c-1.1 0-2 .9-2 2v14c0 1.1.9 2 2 2h14c1.1 0 2-.9 2-2V5c0-1.1-.9-2-2-2zM9 17H7v-7h2v7zm4 0h-2V7h2v10zm4 0h-2v-4h2v4z\"/>\n",
              "    </g>\n",
              "</svg>\n",
              "  </button>\n",
              "\n",
              "<style>\n",
              "  .colab-df-quickchart {\n",
              "      --bg-color: #E8F0FE;\n",
              "      --fill-color: #1967D2;\n",
              "      --hover-bg-color: #E2EBFA;\n",
              "      --hover-fill-color: #174EA6;\n",
              "      --disabled-fill-color: #AAA;\n",
              "      --disabled-bg-color: #DDD;\n",
              "  }\n",
              "\n",
              "  [theme=dark] .colab-df-quickchart {\n",
              "      --bg-color: #3B4455;\n",
              "      --fill-color: #D2E3FC;\n",
              "      --hover-bg-color: #434B5C;\n",
              "      --hover-fill-color: #FFFFFF;\n",
              "      --disabled-bg-color: #3B4455;\n",
              "      --disabled-fill-color: #666;\n",
              "  }\n",
              "\n",
              "  .colab-df-quickchart {\n",
              "    background-color: var(--bg-color);\n",
              "    border: none;\n",
              "    border-radius: 50%;\n",
              "    cursor: pointer;\n",
              "    display: none;\n",
              "    fill: var(--fill-color);\n",
              "    height: 32px;\n",
              "    padding: 0;\n",
              "    width: 32px;\n",
              "  }\n",
              "\n",
              "  .colab-df-quickchart:hover {\n",
              "    background-color: var(--hover-bg-color);\n",
              "    box-shadow: 0 1px 2px rgba(60, 64, 67, 0.3), 0 1px 3px 1px rgba(60, 64, 67, 0.15);\n",
              "    fill: var(--button-hover-fill-color);\n",
              "  }\n",
              "\n",
              "  .colab-df-quickchart-complete:disabled,\n",
              "  .colab-df-quickchart-complete:disabled:hover {\n",
              "    background-color: var(--disabled-bg-color);\n",
              "    fill: var(--disabled-fill-color);\n",
              "    box-shadow: none;\n",
              "  }\n",
              "\n",
              "  .colab-df-spinner {\n",
              "    border: 2px solid var(--fill-color);\n",
              "    border-color: transparent;\n",
              "    border-bottom-color: var(--fill-color);\n",
              "    animation:\n",
              "      spin 1s steps(1) infinite;\n",
              "  }\n",
              "\n",
              "  @keyframes spin {\n",
              "    0% {\n",
              "      border-color: transparent;\n",
              "      border-bottom-color: var(--fill-color);\n",
              "      border-left-color: var(--fill-color);\n",
              "    }\n",
              "    20% {\n",
              "      border-color: transparent;\n",
              "      border-left-color: var(--fill-color);\n",
              "      border-top-color: var(--fill-color);\n",
              "    }\n",
              "    30% {\n",
              "      border-color: transparent;\n",
              "      border-left-color: var(--fill-color);\n",
              "      border-top-color: var(--fill-color);\n",
              "      border-right-color: var(--fill-color);\n",
              "    }\n",
              "    40% {\n",
              "      border-color: transparent;\n",
              "      border-right-color: var(--fill-color);\n",
              "      border-top-color: var(--fill-color);\n",
              "    }\n",
              "    60% {\n",
              "      border-color: transparent;\n",
              "      border-right-color: var(--fill-color);\n",
              "    }\n",
              "    80% {\n",
              "      border-color: transparent;\n",
              "      border-right-color: var(--fill-color);\n",
              "      border-bottom-color: var(--fill-color);\n",
              "    }\n",
              "    90% {\n",
              "      border-color: transparent;\n",
              "      border-bottom-color: var(--fill-color);\n",
              "    }\n",
              "  }\n",
              "</style>\n",
              "\n",
              "  <script>\n",
              "    async function quickchart(key) {\n",
              "      const quickchartButtonEl =\n",
              "        document.querySelector('#' + key + ' button');\n",
              "      quickchartButtonEl.disabled = true;  // To prevent multiple clicks.\n",
              "      quickchartButtonEl.classList.add('colab-df-spinner');\n",
              "      try {\n",
              "        const charts = await google.colab.kernel.invokeFunction(\n",
              "            'suggestCharts', [key], {});\n",
              "      } catch (error) {\n",
              "        console.error('Error during call to suggestCharts:', error);\n",
              "      }\n",
              "      quickchartButtonEl.classList.remove('colab-df-spinner');\n",
              "      quickchartButtonEl.classList.add('colab-df-quickchart-complete');\n",
              "    }\n",
              "    (() => {\n",
              "      let quickchartButtonEl =\n",
              "        document.querySelector('#df-a82312f5-4c5f-496d-a182-0e104735e068 button');\n",
              "      quickchartButtonEl.style.display =\n",
              "        google.colab.kernel.accessAllowed ? 'block' : 'none';\n",
              "    })();\n",
              "  </script>\n",
              "</div>\n",
              "    </div>\n",
              "  </div>\n"
            ],
            "text/plain": [
              "   fold  mag    grp                                           filename\n",
              "0     1  100  train  BreaKHis_v1/histology_slides/breast/benign/SOB...\n",
              "1     1  100  train  BreaKHis_v1/histology_slides/breast/benign/SOB...\n",
              "2     1  100  train  BreaKHis_v1/histology_slides/breast/benign/SOB...\n",
              "3     1  100  train  BreaKHis_v1/histology_slides/breast/benign/SOB...\n",
              "4     1  100  train  BreaKHis_v1/histology_slides/breast/benign/SOB..."
            ]
          },
          "execution_count": 6,
          "metadata": {},
          "output_type": "execute_result"
        }
      ],
      "source": [
        "# loading the data\n",
        "data = pd.read_csv(data_path)\n",
        "data.head(5)"
      ],
      "id": "Guviui_cqapj"
    },
    {
      "cell_type": "code",
      "execution_count": null,
      "metadata": {
        "colab": {
          "base_uri": "https://localhost:8080/"
        },
        "id": "4XU7hMZAqjIQ",
        "outputId": "97150012-e179-4ba1-cbaa-e24e0b3c6740"
      },
      "outputs": [
        {
          "data": {
            "text/plain": [
              "1    7909\n",
              "2    7909\n",
              "3    7909\n",
              "4    7909\n",
              "5    7909\n",
              "Name: fold, dtype: int64"
            ]
          },
          "execution_count": 7,
          "metadata": {},
          "output_type": "execute_result"
        }
      ],
      "source": [
        "data['fold'].value_counts()"
      ],
      "id": "4XU7hMZAqjIQ"
    },
    {
      "cell_type": "markdown",
      "metadata": {
        "id": "dAZR6vUKqpEf"
      },
      "source": [
        "### DATA STRUCTURE"
      ],
      "id": "dAZR6vUKqpEf"
    },
    {
      "cell_type": "code",
      "execution_count": null,
      "metadata": {
        "id": "PB4zyxsyqnEb"
      },
      "outputs": [],
      "source": [
        "# renaming and structuring the columns for better data understanding\n",
        "data = data.rename(columns={'filename': 'path'})\n",
        "data['label'] = data.path.apply(lambda x: x.split('/')[3])\n",
        "data['label_int'] = data.label.apply(lambda x: class_names.index(x))\n",
        "data['filename'] = data.path.apply(lambda x: x.split('/')[-1])"
      ],
      "id": "PB4zyxsyqnEb"
    },
    {
      "cell_type": "code",
      "execution_count": null,
      "metadata": {
        "colab": {
          "base_uri": "https://localhost:8080/",
          "height": 237
        },
        "id": "0euhOWrGNset",
        "outputId": "bc4f115b-1d91-49c8-d1cd-25a5dd989c02"
      },
      "outputs": [
        {
          "data": {
            "text/html": [
              "\n",
              "  <div id=\"df-25292eff-ee4a-4fa8-9319-cf7c60393578\" class=\"colab-df-container\">\n",
              "    <div>\n",
              "<style scoped>\n",
              "    .dataframe tbody tr th:only-of-type {\n",
              "        vertical-align: middle;\n",
              "    }\n",
              "\n",
              "    .dataframe tbody tr th {\n",
              "        vertical-align: top;\n",
              "    }\n",
              "\n",
              "    .dataframe thead th {\n",
              "        text-align: right;\n",
              "    }\n",
              "</style>\n",
              "<table border=\"1\" class=\"dataframe\">\n",
              "  <thead>\n",
              "    <tr style=\"text-align: right;\">\n",
              "      <th></th>\n",
              "      <th>fold</th>\n",
              "      <th>mag</th>\n",
              "      <th>grp</th>\n",
              "      <th>path</th>\n",
              "      <th>label</th>\n",
              "      <th>label_int</th>\n",
              "      <th>filename</th>\n",
              "    </tr>\n",
              "  </thead>\n",
              "  <tbody>\n",
              "    <tr>\n",
              "      <th>0</th>\n",
              "      <td>1</td>\n",
              "      <td>100</td>\n",
              "      <td>train</td>\n",
              "      <td>BreaKHis_v1/histology_slides/breast/benign/SOB...</td>\n",
              "      <td>benign</td>\n",
              "      <td>1</td>\n",
              "      <td>SOB_B_A-14-22549AB-100-001.png</td>\n",
              "    </tr>\n",
              "    <tr>\n",
              "      <th>1</th>\n",
              "      <td>1</td>\n",
              "      <td>100</td>\n",
              "      <td>train</td>\n",
              "      <td>BreaKHis_v1/histology_slides/breast/benign/SOB...</td>\n",
              "      <td>benign</td>\n",
              "      <td>1</td>\n",
              "      <td>SOB_B_A-14-22549AB-100-002.png</td>\n",
              "    </tr>\n",
              "    <tr>\n",
              "      <th>2</th>\n",
              "      <td>1</td>\n",
              "      <td>100</td>\n",
              "      <td>train</td>\n",
              "      <td>BreaKHis_v1/histology_slides/breast/benign/SOB...</td>\n",
              "      <td>benign</td>\n",
              "      <td>1</td>\n",
              "      <td>SOB_B_A-14-22549AB-100-003.png</td>\n",
              "    </tr>\n",
              "    <tr>\n",
              "      <th>3</th>\n",
              "      <td>1</td>\n",
              "      <td>100</td>\n",
              "      <td>train</td>\n",
              "      <td>BreaKHis_v1/histology_slides/breast/benign/SOB...</td>\n",
              "      <td>benign</td>\n",
              "      <td>1</td>\n",
              "      <td>SOB_B_A-14-22549AB-100-004.png</td>\n",
              "    </tr>\n",
              "    <tr>\n",
              "      <th>4</th>\n",
              "      <td>1</td>\n",
              "      <td>100</td>\n",
              "      <td>train</td>\n",
              "      <td>BreaKHis_v1/histology_slides/breast/benign/SOB...</td>\n",
              "      <td>benign</td>\n",
              "      <td>1</td>\n",
              "      <td>SOB_B_A-14-22549AB-100-005.png</td>\n",
              "    </tr>\n",
              "    <tr>\n",
              "      <th>5</th>\n",
              "      <td>1</td>\n",
              "      <td>100</td>\n",
              "      <td>train</td>\n",
              "      <td>BreaKHis_v1/histology_slides/breast/benign/SOB...</td>\n",
              "      <td>benign</td>\n",
              "      <td>1</td>\n",
              "      <td>SOB_B_A-14-22549AB-100-006.png</td>\n",
              "    </tr>\n",
              "  </tbody>\n",
              "</table>\n",
              "</div>\n",
              "    <div class=\"colab-df-buttons\">\n",
              "\n",
              "  <div class=\"colab-df-container\">\n",
              "    <button class=\"colab-df-convert\" onclick=\"convertToInteractive('df-25292eff-ee4a-4fa8-9319-cf7c60393578')\"\n",
              "            title=\"Convert this dataframe to an interactive table.\"\n",
              "            style=\"display:none;\">\n",
              "\n",
              "  <svg xmlns=\"http://www.w3.org/2000/svg\" height=\"24px\" viewBox=\"0 -960 960 960\">\n",
              "    <path d=\"M120-120v-720h720v720H120Zm60-500h600v-160H180v160Zm220 220h160v-160H400v160Zm0 220h160v-160H400v160ZM180-400h160v-160H180v160Zm440 0h160v-160H620v160ZM180-180h160v-160H180v160Zm440 0h160v-160H620v160Z\"/>\n",
              "  </svg>\n",
              "    </button>\n",
              "\n",
              "  <style>\n",
              "    .colab-df-container {\n",
              "      display:flex;\n",
              "      gap: 12px;\n",
              "    }\n",
              "\n",
              "    .colab-df-convert {\n",
              "      background-color: #E8F0FE;\n",
              "      border: none;\n",
              "      border-radius: 50%;\n",
              "      cursor: pointer;\n",
              "      display: none;\n",
              "      fill: #1967D2;\n",
              "      height: 32px;\n",
              "      padding: 0 0 0 0;\n",
              "      width: 32px;\n",
              "    }\n",
              "\n",
              "    .colab-df-convert:hover {\n",
              "      background-color: #E2EBFA;\n",
              "      box-shadow: 0px 1px 2px rgba(60, 64, 67, 0.3), 0px 1px 3px 1px rgba(60, 64, 67, 0.15);\n",
              "      fill: #174EA6;\n",
              "    }\n",
              "\n",
              "    .colab-df-buttons div {\n",
              "      margin-bottom: 4px;\n",
              "    }\n",
              "\n",
              "    [theme=dark] .colab-df-convert {\n",
              "      background-color: #3B4455;\n",
              "      fill: #D2E3FC;\n",
              "    }\n",
              "\n",
              "    [theme=dark] .colab-df-convert:hover {\n",
              "      background-color: #434B5C;\n",
              "      box-shadow: 0px 1px 3px 1px rgba(0, 0, 0, 0.15);\n",
              "      filter: drop-shadow(0px 1px 2px rgba(0, 0, 0, 0.3));\n",
              "      fill: #FFFFFF;\n",
              "    }\n",
              "  </style>\n",
              "\n",
              "    <script>\n",
              "      const buttonEl =\n",
              "        document.querySelector('#df-25292eff-ee4a-4fa8-9319-cf7c60393578 button.colab-df-convert');\n",
              "      buttonEl.style.display =\n",
              "        google.colab.kernel.accessAllowed ? 'block' : 'none';\n",
              "\n",
              "      async function convertToInteractive(key) {\n",
              "        const element = document.querySelector('#df-25292eff-ee4a-4fa8-9319-cf7c60393578');\n",
              "        const dataTable =\n",
              "          await google.colab.kernel.invokeFunction('convertToInteractive',\n",
              "                                                    [key], {});\n",
              "        if (!dataTable) return;\n",
              "\n",
              "        const docLinkHtml = 'Like what you see? Visit the ' +\n",
              "          '<a target=\"_blank\" href=https://colab.research.google.com/notebooks/data_table.ipynb>data table notebook</a>'\n",
              "          + ' to learn more about interactive tables.';\n",
              "        element.innerHTML = '';\n",
              "        dataTable['output_type'] = 'display_data';\n",
              "        await google.colab.output.renderOutput(dataTable, element);\n",
              "        const docLink = document.createElement('div');\n",
              "        docLink.innerHTML = docLinkHtml;\n",
              "        element.appendChild(docLink);\n",
              "      }\n",
              "    </script>\n",
              "  </div>\n",
              "\n",
              "\n",
              "<div id=\"df-d5639542-5cce-4303-ab0a-0179e5c42c19\">\n",
              "  <button class=\"colab-df-quickchart\" onclick=\"quickchart('df-d5639542-5cce-4303-ab0a-0179e5c42c19')\"\n",
              "            title=\"Suggest charts.\"\n",
              "            style=\"display:none;\">\n",
              "\n",
              "<svg xmlns=\"http://www.w3.org/2000/svg\" height=\"24px\"viewBox=\"0 0 24 24\"\n",
              "     width=\"24px\">\n",
              "    <g>\n",
              "        <path d=\"M19 3H5c-1.1 0-2 .9-2 2v14c0 1.1.9 2 2 2h14c1.1 0 2-.9 2-2V5c0-1.1-.9-2-2-2zM9 17H7v-7h2v7zm4 0h-2V7h2v10zm4 0h-2v-4h2v4z\"/>\n",
              "    </g>\n",
              "</svg>\n",
              "  </button>\n",
              "\n",
              "<style>\n",
              "  .colab-df-quickchart {\n",
              "      --bg-color: #E8F0FE;\n",
              "      --fill-color: #1967D2;\n",
              "      --hover-bg-color: #E2EBFA;\n",
              "      --hover-fill-color: #174EA6;\n",
              "      --disabled-fill-color: #AAA;\n",
              "      --disabled-bg-color: #DDD;\n",
              "  }\n",
              "\n",
              "  [theme=dark] .colab-df-quickchart {\n",
              "      --bg-color: #3B4455;\n",
              "      --fill-color: #D2E3FC;\n",
              "      --hover-bg-color: #434B5C;\n",
              "      --hover-fill-color: #FFFFFF;\n",
              "      --disabled-bg-color: #3B4455;\n",
              "      --disabled-fill-color: #666;\n",
              "  }\n",
              "\n",
              "  .colab-df-quickchart {\n",
              "    background-color: var(--bg-color);\n",
              "    border: none;\n",
              "    border-radius: 50%;\n",
              "    cursor: pointer;\n",
              "    display: none;\n",
              "    fill: var(--fill-color);\n",
              "    height: 32px;\n",
              "    padding: 0;\n",
              "    width: 32px;\n",
              "  }\n",
              "\n",
              "  .colab-df-quickchart:hover {\n",
              "    background-color: var(--hover-bg-color);\n",
              "    box-shadow: 0 1px 2px rgba(60, 64, 67, 0.3), 0 1px 3px 1px rgba(60, 64, 67, 0.15);\n",
              "    fill: var(--button-hover-fill-color);\n",
              "  }\n",
              "\n",
              "  .colab-df-quickchart-complete:disabled,\n",
              "  .colab-df-quickchart-complete:disabled:hover {\n",
              "    background-color: var(--disabled-bg-color);\n",
              "    fill: var(--disabled-fill-color);\n",
              "    box-shadow: none;\n",
              "  }\n",
              "\n",
              "  .colab-df-spinner {\n",
              "    border: 2px solid var(--fill-color);\n",
              "    border-color: transparent;\n",
              "    border-bottom-color: var(--fill-color);\n",
              "    animation:\n",
              "      spin 1s steps(1) infinite;\n",
              "  }\n",
              "\n",
              "  @keyframes spin {\n",
              "    0% {\n",
              "      border-color: transparent;\n",
              "      border-bottom-color: var(--fill-color);\n",
              "      border-left-color: var(--fill-color);\n",
              "    }\n",
              "    20% {\n",
              "      border-color: transparent;\n",
              "      border-left-color: var(--fill-color);\n",
              "      border-top-color: var(--fill-color);\n",
              "    }\n",
              "    30% {\n",
              "      border-color: transparent;\n",
              "      border-left-color: var(--fill-color);\n",
              "      border-top-color: var(--fill-color);\n",
              "      border-right-color: var(--fill-color);\n",
              "    }\n",
              "    40% {\n",
              "      border-color: transparent;\n",
              "      border-right-color: var(--fill-color);\n",
              "      border-top-color: var(--fill-color);\n",
              "    }\n",
              "    60% {\n",
              "      border-color: transparent;\n",
              "      border-right-color: var(--fill-color);\n",
              "    }\n",
              "    80% {\n",
              "      border-color: transparent;\n",
              "      border-right-color: var(--fill-color);\n",
              "      border-bottom-color: var(--fill-color);\n",
              "    }\n",
              "    90% {\n",
              "      border-color: transparent;\n",
              "      border-bottom-color: var(--fill-color);\n",
              "    }\n",
              "  }\n",
              "</style>\n",
              "\n",
              "  <script>\n",
              "    async function quickchart(key) {\n",
              "      const quickchartButtonEl =\n",
              "        document.querySelector('#' + key + ' button');\n",
              "      quickchartButtonEl.disabled = true;  // To prevent multiple clicks.\n",
              "      quickchartButtonEl.classList.add('colab-df-spinner');\n",
              "      try {\n",
              "        const charts = await google.colab.kernel.invokeFunction(\n",
              "            'suggestCharts', [key], {});\n",
              "      } catch (error) {\n",
              "        console.error('Error during call to suggestCharts:', error);\n",
              "      }\n",
              "      quickchartButtonEl.classList.remove('colab-df-spinner');\n",
              "      quickchartButtonEl.classList.add('colab-df-quickchart-complete');\n",
              "    }\n",
              "    (() => {\n",
              "      let quickchartButtonEl =\n",
              "        document.querySelector('#df-d5639542-5cce-4303-ab0a-0179e5c42c19 button');\n",
              "      quickchartButtonEl.style.display =\n",
              "        google.colab.kernel.accessAllowed ? 'block' : 'none';\n",
              "    })();\n",
              "  </script>\n",
              "</div>\n",
              "    </div>\n",
              "  </div>\n"
            ],
            "text/plain": [
              "   fold  mag    grp                                               path  \\\n",
              "0     1  100  train  BreaKHis_v1/histology_slides/breast/benign/SOB...   \n",
              "1     1  100  train  BreaKHis_v1/histology_slides/breast/benign/SOB...   \n",
              "2     1  100  train  BreaKHis_v1/histology_slides/breast/benign/SOB...   \n",
              "3     1  100  train  BreaKHis_v1/histology_slides/breast/benign/SOB...   \n",
              "4     1  100  train  BreaKHis_v1/histology_slides/breast/benign/SOB...   \n",
              "5     1  100  train  BreaKHis_v1/histology_slides/breast/benign/SOB...   \n",
              "\n",
              "    label  label_int                        filename  \n",
              "0  benign          1  SOB_B_A-14-22549AB-100-001.png  \n",
              "1  benign          1  SOB_B_A-14-22549AB-100-002.png  \n",
              "2  benign          1  SOB_B_A-14-22549AB-100-003.png  \n",
              "3  benign          1  SOB_B_A-14-22549AB-100-004.png  \n",
              "4  benign          1  SOB_B_A-14-22549AB-100-005.png  \n",
              "5  benign          1  SOB_B_A-14-22549AB-100-006.png  "
            ]
          },
          "execution_count": 9,
          "metadata": {},
          "output_type": "execute_result"
        }
      ],
      "source": [
        "# view first n rows of strucrured data\n",
        "data.head(6)"
      ],
      "id": "0euhOWrGNset"
    },
    {
      "cell_type": "code",
      "execution_count": null,
      "metadata": {
        "colab": {
          "base_uri": "https://localhost:8080/"
        },
        "id": "YEjNVgY2PvLp",
        "outputId": "94eef436-5075-4c6d-8243-2b948de23a6e"
      },
      "outputs": [
        {
          "data": {
            "text/plain": [
              "(39545, 7)"
            ]
          },
          "execution_count": 10,
          "metadata": {},
          "output_type": "execute_result"
        }
      ],
      "source": [
        "data.shape"
      ],
      "id": "YEjNVgY2PvLp"
    },
    {
      "cell_type": "markdown",
      "metadata": {
        "id": "p_Ei_JImPx3Z"
      },
      "source": [
        "### DATA ANALYSIS"
      ],
      "id": "p_Ei_JImPx3Z"
    },
    {
      "cell_type": "code",
      "execution_count": null,
      "metadata": {
        "colab": {
          "base_uri": "https://localhost:8080/",
          "height": 519
        },
        "id": "eXfQ75o6PwY8",
        "outputId": "73a98455-4f4b-4af6-902f-01e930de1268"
      },
      "outputs": [
        {
          "data": {
            "text/plain": [
              "<seaborn.axisgrid.FacetGrid at 0x7a96b0a86ce0>"
            ]
          },
          "execution_count": 11,
          "metadata": {},
          "output_type": "execute_result"
        },
        {
          "data": {
            "image/png": "[encoded data removed]",
            "text/plain": [
              "<Figure size 500x500 with 1 Axes>"
            ]
          },
          "metadata": {},
          "output_type": "display_data"
        }
      ],
      "source": [
        "# making a plot to see data distribution\n",
        "# sns.figure()\n",
        "sns.set_theme()\n",
        "sns.displot(x='label', data=data)"
      ],
      "id": "eXfQ75o6PwY8"
    },
    {
      "cell_type": "code",
      "execution_count": null,
      "metadata": {
        "colab": {
          "base_uri": "https://localhost:8080/",
          "height": 476
        },
        "id": "d5ZgdOQCQCx5",
        "outputId": "7feecf2a-d5a8-414a-838b-2ca9c4833356"
      },
      "outputs": [
        {
          "data": {
            "text/plain": [
              "<Axes: xlabel='label', ylabel='count'>"
            ]
          },
          "execution_count": 12,
          "metadata": {},
          "output_type": "execute_result"
        },
        {
          "data": {
            "image/png": "[encoded data removed]",
            "text/plain": [
              "<Figure size 640x480 with 1 Axes>"
            ]
          },
          "metadata": {},
          "output_type": "display_data"
        }
      ],
      "source": [
        "sns.countplot(x=data['label'], data=data)"
      ],
      "id": "d5ZgdOQCQCx5"
    },
    {
      "cell_type": "markdown",
      "metadata": {
        "id": "_B67NQM7QK_R"
      },
      "source": [
        "### Dataset Modelling for Deep Learning"
      ],
      "id": "_B67NQM7QK_R"
    },
    {
      "cell_type": "code",
      "execution_count": null,
      "metadata": {
        "id": "DQliWeviQMTd"
      },
      "outputs": [],
      "source": [
        "# sorting out training and testing images\n",
        "test_images = data.groupby(by='label').sample(3000)\n",
        "train_images = data.drop(test_images.index).reset_index(drop=True)\n",
        "test_images = test_images.reset_index(drop=True)"
      ],
      "id": "DQliWeviQMTd"
    },
    {
      "cell_type": "code",
      "execution_count": null,
      "metadata": {
        "id": "4B7fc6jXQSrH"
      },
      "outputs": [],
      "source": [
        "# making splits of training and testing datasets\n",
        "train_images = train_images.drop(test_images.index).reset_index(drop=True)\n",
        "test_images = test_images.reset_index(drop=True)"
      ],
      "id": "4B7fc6jXQSrH"
    },
    {
      "cell_type": "code",
      "execution_count": null,
      "metadata": {
        "colab": {
          "base_uri": "https://localhost:8080/"
        },
        "id": "5iZoFk-0QU8p",
        "outputId": "253f0390-d9ac-437d-8397-49449e5a6c40"
      },
      "outputs": [
        {
          "name": "stdout",
          "output_type": "stream",
          "text": [
            "Total training images: 27545\n",
            "Total testing images: 6000\n"
          ]
        }
      ],
      "source": [
        "print('Total training images: % s' % str(train_images.shape[0]))\n",
        "print('Total testing images: % s' % str(test_images.shape[0]))"
      ],
      "id": "5iZoFk-0QU8p"
    },
    {
      "cell_type": "code",
      "execution_count": null,
      "metadata": {
        "id": "IABuWQWYQXjW"
      },
      "outputs": [],
      "source": [
        "train_images['set'] = 'train'\n",
        "test_images['set'] = 'test'"
      ],
      "id": "IABuWQWYQXjW"
    },
    {
      "cell_type": "code",
      "execution_count": null,
      "metadata": {
        "colab": {
          "base_uri": "https://localhost:8080/",
          "height": 206
        },
        "id": "d73AEMjlQbYJ",
        "outputId": "0ae87463-4b7d-434c-c824-ba283e9bebaa"
      },
      "outputs": [
        {
          "data": {
            "text/html": [
              "\n",
              "  <div id=\"df-3caf1ea2-39e2-4e6e-a084-bdaf52300320\" class=\"colab-df-container\">\n",
              "    <div>\n",
              "<style scoped>\n",
              "    .dataframe tbody tr th:only-of-type {\n",
              "        vertical-align: middle;\n",
              "    }\n",
              "\n",
              "    .dataframe tbody tr th {\n",
              "        vertical-align: top;\n",
              "    }\n",
              "\n",
              "    .dataframe thead th {\n",
              "        text-align: right;\n",
              "    }\n",
              "</style>\n",
              "<table border=\"1\" class=\"dataframe\">\n",
              "  <thead>\n",
              "    <tr style=\"text-align: right;\">\n",
              "      <th></th>\n",
              "      <th>fold</th>\n",
              "      <th>mag</th>\n",
              "      <th>grp</th>\n",
              "      <th>path</th>\n",
              "      <th>label</th>\n",
              "      <th>label_int</th>\n",
              "      <th>filename</th>\n",
              "      <th>set</th>\n",
              "    </tr>\n",
              "  </thead>\n",
              "  <tbody>\n",
              "    <tr>\n",
              "      <th>0</th>\n",
              "      <td>1</td>\n",
              "      <td>200</td>\n",
              "      <td>test</td>\n",
              "      <td>BreaKHis_v1/histology_slides/breast/malignant/...</td>\n",
              "      <td>malignant</td>\n",
              "      <td>0</td>\n",
              "      <td>SOB_M_DC-14-6241-200-009.png</td>\n",
              "      <td>train</td>\n",
              "    </tr>\n",
              "    <tr>\n",
              "      <th>1</th>\n",
              "      <td>1</td>\n",
              "      <td>200</td>\n",
              "      <td>test</td>\n",
              "      <td>BreaKHis_v1/histology_slides/breast/malignant/...</td>\n",
              "      <td>malignant</td>\n",
              "      <td>0</td>\n",
              "      <td>SOB_M_DC-14-6241-200-010.png</td>\n",
              "      <td>train</td>\n",
              "    </tr>\n",
              "    <tr>\n",
              "      <th>2</th>\n",
              "      <td>1</td>\n",
              "      <td>200</td>\n",
              "      <td>test</td>\n",
              "      <td>BreaKHis_v1/histology_slides/breast/malignant/...</td>\n",
              "      <td>malignant</td>\n",
              "      <td>0</td>\n",
              "      <td>SOB_M_DC-14-6241-200-014.png</td>\n",
              "      <td>train</td>\n",
              "    </tr>\n",
              "    <tr>\n",
              "      <th>3</th>\n",
              "      <td>1</td>\n",
              "      <td>200</td>\n",
              "      <td>test</td>\n",
              "      <td>BreaKHis_v1/histology_slides/breast/malignant/...</td>\n",
              "      <td>malignant</td>\n",
              "      <td>0</td>\n",
              "      <td>SOB_M_DC-14-6241-200-016.png</td>\n",
              "      <td>train</td>\n",
              "    </tr>\n",
              "    <tr>\n",
              "      <th>4</th>\n",
              "      <td>1</td>\n",
              "      <td>200</td>\n",
              "      <td>test</td>\n",
              "      <td>BreaKHis_v1/histology_slides/breast/malignant/...</td>\n",
              "      <td>malignant</td>\n",
              "      <td>0</td>\n",
              "      <td>SOB_M_DC-14-6241-200-017.png</td>\n",
              "      <td>train</td>\n",
              "    </tr>\n",
              "  </tbody>\n",
              "</table>\n",
              "</div>\n",
              "    <div class=\"colab-df-buttons\">\n",
              "\n",
              "  <div class=\"colab-df-container\">\n",
              "    <button class=\"colab-df-convert\" onclick=\"convertToInteractive('df-3caf1ea2-39e2-4e6e-a084-bdaf52300320')\"\n",
              "            title=\"Convert this dataframe to an interactive table.\"\n",
              "            style=\"display:none;\">\n",
              "\n",
              "  <svg xmlns=\"http://www.w3.org/2000/svg\" height=\"24px\" viewBox=\"0 -960 960 960\">\n",
              "    <path d=\"M120-120v-720h720v720H120Zm60-500h600v-160H180v160Zm220 220h160v-160H400v160Zm0 220h160v-160H400v160ZM180-400h160v-160H180v160Zm440 0h160v-160H620v160ZM180-180h160v-160H180v160Zm440 0h160v-160H620v160Z\"/>\n",
              "  </svg>\n",
              "    </button>\n",
              "\n",
              "  <style>\n",
              "    .colab-df-container {\n",
              "      display:flex;\n",
              "      gap: 12px;\n",
              "    }\n",
              "\n",
              "    .colab-df-convert {\n",
              "      background-color: #E8F0FE;\n",
              "      border: none;\n",
              "      border-radius: 50%;\n",
              "      cursor: pointer;\n",
              "      display: none;\n",
              "      fill: #1967D2;\n",
              "      height: 32px;\n",
              "      padding: 0 0 0 0;\n",
              "      width: 32px;\n",
              "    }\n",
              "\n",
              "    .colab-df-convert:hover {\n",
              "      background-color: #E2EBFA;\n",
              "      box-shadow: 0px 1px 2px rgba(60, 64, 67, 0.3), 0px 1px 3px 1px rgba(60, 64, 67, 0.15);\n",
              "      fill: #174EA6;\n",
              "    }\n",
              "\n",
              "    .colab-df-buttons div {\n",
              "      margin-bottom: 4px;\n",
              "    }\n",
              "\n",
              "    [theme=dark] .colab-df-convert {\n",
              "      background-color: #3B4455;\n",
              "      fill: #D2E3FC;\n",
              "    }\n",
              "\n",
              "    [theme=dark] .colab-df-convert:hover {\n",
              "      background-color: #434B5C;\n",
              "      box-shadow: 0px 1px 3px 1px rgba(0, 0, 0, 0.15);\n",
              "      filter: drop-shadow(0px 1px 2px rgba(0, 0, 0, 0.3));\n",
              "      fill: #FFFFFF;\n",
              "    }\n",
              "  </style>\n",
              "\n",
              "    <script>\n",
              "      const buttonEl =\n",
              "        document.querySelector('#df-3caf1ea2-39e2-4e6e-a084-bdaf52300320 button.colab-df-convert');\n",
              "      buttonEl.style.display =\n",
              "        google.colab.kernel.accessAllowed ? 'block' : 'none';\n",
              "\n",
              "      async function convertToInteractive(key) {\n",
              "        const element = document.querySelector('#df-3caf1ea2-39e2-4e6e-a084-bdaf52300320');\n",
              "        const dataTable =\n",
              "          await google.colab.kernel.invokeFunction('convertToInteractive',\n",
              "                                                    [key], {});\n",
              "        if (!dataTable) return;\n",
              "\n",
              "        const docLinkHtml = 'Like what you see? Visit the ' +\n",
              "          '<a target=\"_blank\" href=https://colab.research.google.com/notebooks/data_table.ipynb>data table notebook</a>'\n",
              "          + ' to learn more about interactive tables.';\n",
              "        element.innerHTML = '';\n",
              "        dataTable['output_type'] = 'display_data';\n",
              "        await google.colab.output.renderOutput(dataTable, element);\n",
              "        const docLink = document.createElement('div');\n",
              "        docLink.innerHTML = docLinkHtml;\n",
              "        element.appendChild(docLink);\n",
              "      }\n",
              "    </script>\n",
              "  </div>\n",
              "\n",
              "\n",
              "<div id=\"df-198a3842-0462-41c4-af36-d64d946e30f8\">\n",
              "  <button class=\"colab-df-quickchart\" onclick=\"quickchart('df-198a3842-0462-41c4-af36-d64d946e30f8')\"\n",
              "            title=\"Suggest charts.\"\n",
              "            style=\"display:none;\">\n",
              "\n",
              "<svg xmlns=\"http://www.w3.org/2000/svg\" height=\"24px\"viewBox=\"0 0 24 24\"\n",
              "     width=\"24px\">\n",
              "    <g>\n",
              "        <path d=\"M19 3H5c-1.1 0-2 .9-2 2v14c0 1.1.9 2 2 2h14c1.1 0 2-.9 2-2V5c0-1.1-.9-2-2-2zM9 17H7v-7h2v7zm4 0h-2V7h2v10zm4 0h-2v-4h2v4z\"/>\n",
              "    </g>\n",
              "</svg>\n",
              "  </button>\n",
              "\n",
              "<style>\n",
              "  .colab-df-quickchart {\n",
              "      --bg-color: #E8F0FE;\n",
              "      --fill-color: #1967D2;\n",
              "      --hover-bg-color: #E2EBFA;\n",
              "      --hover-fill-color: #174EA6;\n",
              "      --disabled-fill-color: #AAA;\n",
              "      --disabled-bg-color: #DDD;\n",
              "  }\n",
              "\n",
              "  [theme=dark] .colab-df-quickchart {\n",
              "      --bg-color: #3B4455;\n",
              "      --fill-color: #D2E3FC;\n",
              "      --hover-bg-color: #434B5C;\n",
              "      --hover-fill-color: #FFFFFF;\n",
              "      --disabled-bg-color: #3B4455;\n",
              "      --disabled-fill-color: #666;\n",
              "  }\n",
              "\n",
              "  .colab-df-quickchart {\n",
              "    background-color: var(--bg-color);\n",
              "    border: none;\n",
              "    border-radius: 50%;\n",
              "    cursor: pointer;\n",
              "    display: none;\n",
              "    fill: var(--fill-color);\n",
              "    height: 32px;\n",
              "    padding: 0;\n",
              "    width: 32px;\n",
              "  }\n",
              "\n",
              "  .colab-df-quickchart:hover {\n",
              "    background-color: var(--hover-bg-color);\n",
              "    box-shadow: 0 1px 2px rgba(60, 64, 67, 0.3), 0 1px 3px 1px rgba(60, 64, 67, 0.15);\n",
              "    fill: var(--button-hover-fill-color);\n",
              "  }\n",
              "\n",
              "  .colab-df-quickchart-complete:disabled,\n",
              "  .colab-df-quickchart-complete:disabled:hover {\n",
              "    background-color: var(--disabled-bg-color);\n",
              "    fill: var(--disabled-fill-color);\n",
              "    box-shadow: none;\n",
              "  }\n",
              "\n",
              "  .colab-df-spinner {\n",
              "    border: 2px solid var(--fill-color);\n",
              "    border-color: transparent;\n",
              "    border-bottom-color: var(--fill-color);\n",
              "    animation:\n",
              "      spin 1s steps(1) infinite;\n",
              "  }\n",
              "\n",
              "  @keyframes spin {\n",
              "    0% {\n",
              "      border-color: transparent;\n",
              "      border-bottom-color: var(--fill-color);\n",
              "      border-left-color: var(--fill-color);\n",
              "    }\n",
              "    20% {\n",
              "      border-color: transparent;\n",
              "      border-left-color: var(--fill-color);\n",
              "      border-top-color: var(--fill-color);\n",
              "    }\n",
              "    30% {\n",
              "      border-color: transparent;\n",
              "      border-left-color: var(--fill-color);\n",
              "      border-top-color: var(--fill-color);\n",
              "      border-right-color: var(--fill-color);\n",
              "    }\n",
              "    40% {\n",
              "      border-color: transparent;\n",
              "      border-right-color: var(--fill-color);\n",
              "      border-top-color: var(--fill-color);\n",
              "    }\n",
              "    60% {\n",
              "      border-color: transparent;\n",
              "      border-right-color: var(--fill-color);\n",
              "    }\n",
              "    80% {\n",
              "      border-color: transparent;\n",
              "      border-right-color: var(--fill-color);\n",
              "      border-bottom-color: var(--fill-color);\n",
              "    }\n",
              "    90% {\n",
              "      border-color: transparent;\n",
              "      border-bottom-color: var(--fill-color);\n",
              "    }\n",
              "  }\n",
              "</style>\n",
              "\n",
              "  <script>\n",
              "    async function quickchart(key) {\n",
              "      const quickchartButtonEl =\n",
              "        document.querySelector('#' + key + ' button');\n",
              "      quickchartButtonEl.disabled = true;  // To prevent multiple clicks.\n",
              "      quickchartButtonEl.classList.add('colab-df-spinner');\n",
              "      try {\n",
              "        const charts = await google.colab.kernel.invokeFunction(\n",
              "            'suggestCharts', [key], {});\n",
              "      } catch (error) {\n",
              "        console.error('Error during call to suggestCharts:', error);\n",
              "      }\n",
              "      quickchartButtonEl.classList.remove('colab-df-spinner');\n",
              "      quickchartButtonEl.classList.add('colab-df-quickchart-complete');\n",
              "    }\n",
              "    (() => {\n",
              "      let quickchartButtonEl =\n",
              "        document.querySelector('#df-198a3842-0462-41c4-af36-d64d946e30f8 button');\n",
              "      quickchartButtonEl.style.display =\n",
              "        google.colab.kernel.accessAllowed ? 'block' : 'none';\n",
              "    })();\n",
              "  </script>\n",
              "</div>\n",
              "    </div>\n",
              "  </div>\n"
            ],
            "text/plain": [
              "   fold  mag   grp                                               path  \\\n",
              "0     1  200  test  BreaKHis_v1/histology_slides/breast/malignant/...   \n",
              "1     1  200  test  BreaKHis_v1/histology_slides/breast/malignant/...   \n",
              "2     1  200  test  BreaKHis_v1/histology_slides/breast/malignant/...   \n",
              "3     1  200  test  BreaKHis_v1/histology_slides/breast/malignant/...   \n",
              "4     1  200  test  BreaKHis_v1/histology_slides/breast/malignant/...   \n",
              "\n",
              "       label  label_int                      filename    set  \n",
              "0  malignant          0  SOB_M_DC-14-6241-200-009.png  train  \n",
              "1  malignant          0  SOB_M_DC-14-6241-200-010.png  train  \n",
              "2  malignant          0  SOB_M_DC-14-6241-200-014.png  train  \n",
              "3  malignant          0  SOB_M_DC-14-6241-200-016.png  train  \n",
              "4  malignant          0  SOB_M_DC-14-6241-200-017.png  train  "
            ]
          },
          "execution_count": 17,
          "metadata": {},
          "output_type": "execute_result"
        }
      ],
      "source": [
        "new_data = pd.concat([train_images, test_images])\n",
        "new_data.head(5)"
      ],
      "id": "d73AEMjlQbYJ"
    },
    {
      "cell_type": "markdown",
      "metadata": {
        "id": "DzY4GebTQgSW"
      },
      "source": [
        "### Visualizing Train & Test Splits"
      ],
      "id": "DzY4GebTQgSW"
    },
    {
      "cell_type": "code",
      "execution_count": null,
      "metadata": {
        "colab": {
          "base_uri": "https://localhost:8080/",
          "height": 522
        },
        "id": "57jWT2dDQceL",
        "outputId": "431f4b04-edd8-4208-d046-973b5c23ab73"
      },
      "outputs": [
        {
          "data": {
            "text/plain": [
              "<Axes: xlabel='label', ylabel='count'>"
            ]
          },
          "execution_count": 18,
          "metadata": {},
          "output_type": "execute_result"
        },
        {
          "data": {
            "image/png": "[encoded data removed]",
            "text/plain": [
              "<Figure size 1040x540 with 1 Axes>"
            ]
          },
          "metadata": {},
          "output_type": "display_data"
        }
      ],
      "source": [
        "sns.set(rc={'figure.figsize':(10.4, 5.4)})\n",
        "sns.countplot(x=new_data['label'], hue=new_data['set'])"
      ],
      "id": "57jWT2dDQceL"
    },
    {
      "cell_type": "markdown",
      "metadata": {
        "id": "RiLJtqhnRB_x"
      },
      "source": [
        "### Unsampling Data"
      ],
      "id": "RiLJtqhnRB_x"
    },
    {
      "cell_type": "code",
      "execution_count": null,
      "metadata": {
        "id": "HLA7B6pYRDpJ"
      },
      "outputs": [],
      "source": [
        "max_count = np.max(train_images.label.value_counts())\n",
        "min_count = np.min(train_images.label.value_counts())\n",
        "train_images = train_images.groupby('label').sample(n=max_count, replace=True)\n",
        "train_images = train_images.reset_index(drop=True)"
      ],
      "id": "HLA7B6pYRDpJ"
    },
    {
      "cell_type": "code",
      "execution_count": null,
      "metadata": {
        "colab": {
          "base_uri": "https://localhost:8080/",
          "height": 206
        },
        "id": "zjo3di07RF3L",
        "outputId": "57853e42-621a-4ee7-f8c9-53d4c9099e93"
      },
      "outputs": [
        {
          "data": {
            "text/html": [
              "\n",
              "  <div id=\"df-33b67a14-6759-4c06-92e8-8fdb3ee36ba4\" class=\"colab-df-container\">\n",
              "    <div>\n",
              "<style scoped>\n",
              "    .dataframe tbody tr th:only-of-type {\n",
              "        vertical-align: middle;\n",
              "    }\n",
              "\n",
              "    .dataframe tbody tr th {\n",
              "        vertical-align: top;\n",
              "    }\n",
              "\n",
              "    .dataframe thead th {\n",
              "        text-align: right;\n",
              "    }\n",
              "</style>\n",
              "<table border=\"1\" class=\"dataframe\">\n",
              "  <thead>\n",
              "    <tr style=\"text-align: right;\">\n",
              "      <th></th>\n",
              "      <th>fold</th>\n",
              "      <th>mag</th>\n",
              "      <th>grp</th>\n",
              "      <th>path</th>\n",
              "      <th>label</th>\n",
              "      <th>label_int</th>\n",
              "      <th>filename</th>\n",
              "      <th>set</th>\n",
              "    </tr>\n",
              "  </thead>\n",
              "  <tbody>\n",
              "    <tr>\n",
              "      <th>0</th>\n",
              "      <td>3</td>\n",
              "      <td>200</td>\n",
              "      <td>train</td>\n",
              "      <td>BreaKHis_v1/histology_slides/breast/benign/SOB...</td>\n",
              "      <td>benign</td>\n",
              "      <td>1</td>\n",
              "      <td>SOB_B_PT-14-21998AB-200-051.png</td>\n",
              "      <td>train</td>\n",
              "    </tr>\n",
              "    <tr>\n",
              "      <th>1</th>\n",
              "      <td>4</td>\n",
              "      <td>100</td>\n",
              "      <td>train</td>\n",
              "      <td>BreaKHis_v1/histology_slides/breast/benign/SOB...</td>\n",
              "      <td>benign</td>\n",
              "      <td>1</td>\n",
              "      <td>SOB_B_TA-14-16184-100-025.png</td>\n",
              "      <td>train</td>\n",
              "    </tr>\n",
              "    <tr>\n",
              "      <th>2</th>\n",
              "      <td>5</td>\n",
              "      <td>100</td>\n",
              "      <td>train</td>\n",
              "      <td>BreaKHis_v1/histology_slides/breast/benign/SOB...</td>\n",
              "      <td>benign</td>\n",
              "      <td>1</td>\n",
              "      <td>SOB_B_F-14-25197-100-029.png</td>\n",
              "      <td>train</td>\n",
              "    </tr>\n",
              "    <tr>\n",
              "      <th>3</th>\n",
              "      <td>4</td>\n",
              "      <td>200</td>\n",
              "      <td>train</td>\n",
              "      <td>BreaKHis_v1/histology_slides/breast/benign/SOB...</td>\n",
              "      <td>benign</td>\n",
              "      <td>1</td>\n",
              "      <td>SOB_B_F-14-14134E-200-014.png</td>\n",
              "      <td>train</td>\n",
              "    </tr>\n",
              "    <tr>\n",
              "      <th>4</th>\n",
              "      <td>5</td>\n",
              "      <td>400</td>\n",
              "      <td>train</td>\n",
              "      <td>BreaKHis_v1/histology_slides/breast/benign/SOB...</td>\n",
              "      <td>benign</td>\n",
              "      <td>1</td>\n",
              "      <td>SOB_B_PT-14-22704-400-023.png</td>\n",
              "      <td>train</td>\n",
              "    </tr>\n",
              "  </tbody>\n",
              "</table>\n",
              "</div>\n",
              "    <div class=\"colab-df-buttons\">\n",
              "\n",
              "  <div class=\"colab-df-container\">\n",
              "    <button class=\"colab-df-convert\" onclick=\"convertToInteractive('df-33b67a14-6759-4c06-92e8-8fdb3ee36ba4')\"\n",
              "            title=\"Convert this dataframe to an interactive table.\"\n",
              "            style=\"display:none;\">\n",
              "\n",
              "  <svg xmlns=\"http://www.w3.org/2000/svg\" height=\"24px\" viewBox=\"0 -960 960 960\">\n",
              "    <path d=\"M120-120v-720h720v720H120Zm60-500h600v-160H180v160Zm220 220h160v-160H400v160Zm0 220h160v-160H400v160ZM180-400h160v-160H180v160Zm440 0h160v-160H620v160ZM180-180h160v-160H180v160Zm440 0h160v-160H620v160Z\"/>\n",
              "  </svg>\n",
              "    </button>\n",
              "\n",
              "  <style>\n",
              "    .colab-df-container {\n",
              "      display:flex;\n",
              "      gap: 12px;\n",
              "    }\n",
              "\n",
              "    .colab-df-convert {\n",
              "      background-color: #E8F0FE;\n",
              "      border: none;\n",
              "      border-radius: 50%;\n",
              "      cursor: pointer;\n",
              "      display: none;\n",
              "      fill: #1967D2;\n",
              "      height: 32px;\n",
              "      padding: 0 0 0 0;\n",
              "      width: 32px;\n",
              "    }\n",
              "\n",
              "    .colab-df-convert:hover {\n",
              "      background-color: #E2EBFA;\n",
              "      box-shadow: 0px 1px 2px rgba(60, 64, 67, 0.3), 0px 1px 3px 1px rgba(60, 64, 67, 0.15);\n",
              "      fill: #174EA6;\n",
              "    }\n",
              "\n",
              "    .colab-df-buttons div {\n",
              "      margin-bottom: 4px;\n",
              "    }\n",
              "\n",
              "    [theme=dark] .colab-df-convert {\n",
              "      background-color: #3B4455;\n",
              "      fill: #D2E3FC;\n",
              "    }\n",
              "\n",
              "    [theme=dark] .colab-df-convert:hover {\n",
              "      background-color: #434B5C;\n",
              "      box-shadow: 0px 1px 3px 1px rgba(0, 0, 0, 0.15);\n",
              "      filter: drop-shadow(0px 1px 2px rgba(0, 0, 0, 0.3));\n",
              "      fill: #FFFFFF;\n",
              "    }\n",
              "  </style>\n",
              "\n",
              "    <script>\n",
              "      const buttonEl =\n",
              "        document.querySelector('#df-33b67a14-6759-4c06-92e8-8fdb3ee36ba4 button.colab-df-convert');\n",
              "      buttonEl.style.display =\n",
              "        google.colab.kernel.accessAllowed ? 'block' : 'none';\n",
              "\n",
              "      async function convertToInteractive(key) {\n",
              "        const element = document.querySelector('#df-33b67a14-6759-4c06-92e8-8fdb3ee36ba4');\n",
              "        const dataTable =\n",
              "          await google.colab.kernel.invokeFunction('convertToInteractive',\n",
              "                                                    [key], {});\n",
              "        if (!dataTable) return;\n",
              "\n",
              "        const docLinkHtml = 'Like what you see? Visit the ' +\n",
              "          '<a target=\"_blank\" href=https://colab.research.google.com/notebooks/data_table.ipynb>data table notebook</a>'\n",
              "          + ' to learn more about interactive tables.';\n",
              "        element.innerHTML = '';\n",
              "        dataTable['output_type'] = 'display_data';\n",
              "        await google.colab.output.renderOutput(dataTable, element);\n",
              "        const docLink = document.createElement('div');\n",
              "        docLink.innerHTML = docLinkHtml;\n",
              "        element.appendChild(docLink);\n",
              "      }\n",
              "    </script>\n",
              "  </div>\n",
              "\n",
              "\n",
              "<div id=\"df-41582570-9515-4cac-94c2-c12935413f2b\">\n",
              "  <button class=\"colab-df-quickchart\" onclick=\"quickchart('df-41582570-9515-4cac-94c2-c12935413f2b')\"\n",
              "            title=\"Suggest charts.\"\n",
              "            style=\"display:none;\">\n",
              "\n",
              "<svg xmlns=\"http://www.w3.org/2000/svg\" height=\"24px\"viewBox=\"0 0 24 24\"\n",
              "     width=\"24px\">\n",
              "    <g>\n",
              "        <path d=\"M19 3H5c-1.1 0-2 .9-2 2v14c0 1.1.9 2 2 2h14c1.1 0 2-.9 2-2V5c0-1.1-.9-2-2-2zM9 17H7v-7h2v7zm4 0h-2V7h2v10zm4 0h-2v-4h2v4z\"/>\n",
              "    </g>\n",
              "</svg>\n",
              "  </button>\n",
              "\n",
              "<style>\n",
              "  .colab-df-quickchart {\n",
              "      --bg-color: #E8F0FE;\n",
              "      --fill-color: #1967D2;\n",
              "      --hover-bg-color: #E2EBFA;\n",
              "      --hover-fill-color: #174EA6;\n",
              "      --disabled-fill-color: #AAA;\n",
              "      --disabled-bg-color: #DDD;\n",
              "  }\n",
              "\n",
              "  [theme=dark] .colab-df-quickchart {\n",
              "      --bg-color: #3B4455;\n",
              "      --fill-color: #D2E3FC;\n",
              "      --hover-bg-color: #434B5C;\n",
              "      --hover-fill-color: #FFFFFF;\n",
              "      --disabled-bg-color: #3B4455;\n",
              "      --disabled-fill-color: #666;\n",
              "  }\n",
              "\n",
              "  .colab-df-quickchart {\n",
              "    background-color: var(--bg-color);\n",
              "    border: none;\n",
              "    border-radius: 50%;\n",
              "    cursor: pointer;\n",
              "    display: none;\n",
              "    fill: var(--fill-color);\n",
              "    height: 32px;\n",
              "    padding: 0;\n",
              "    width: 32px;\n",
              "  }\n",
              "\n",
              "  .colab-df-quickchart:hover {\n",
              "    background-color: var(--hover-bg-color);\n",
              "    box-shadow: 0 1px 2px rgba(60, 64, 67, 0.3), 0 1px 3px 1px rgba(60, 64, 67, 0.15);\n",
              "    fill: var(--button-hover-fill-color);\n",
              "  }\n",
              "\n",
              "  .colab-df-quickchart-complete:disabled,\n",
              "  .colab-df-quickchart-complete:disabled:hover {\n",
              "    background-color: var(--disabled-bg-color);\n",
              "    fill: var(--disabled-fill-color);\n",
              "    box-shadow: none;\n",
              "  }\n",
              "\n",
              "  .colab-df-spinner {\n",
              "    border: 2px solid var(--fill-color);\n",
              "    border-color: transparent;\n",
              "    border-bottom-color: var(--fill-color);\n",
              "    animation:\n",
              "      spin 1s steps(1) infinite;\n",
              "  }\n",
              "\n",
              "  @keyframes spin {\n",
              "    0% {\n",
              "      border-color: transparent;\n",
              "      border-bottom-color: var(--fill-color);\n",
              "      border-left-color: var(--fill-color);\n",
              "    }\n",
              "    20% {\n",
              "      border-color: transparent;\n",
              "      border-left-color: var(--fill-color);\n",
              "      border-top-color: var(--fill-color);\n",
              "    }\n",
              "    30% {\n",
              "      border-color: transparent;\n",
              "      border-left-color: var(--fill-color);\n",
              "      border-top-color: var(--fill-color);\n",
              "      border-right-color: var(--fill-color);\n",
              "    }\n",
              "    40% {\n",
              "      border-color: transparent;\n",
              "      border-right-color: var(--fill-color);\n",
              "      border-top-color: var(--fill-color);\n",
              "    }\n",
              "    60% {\n",
              "      border-color: transparent;\n",
              "      border-right-color: var(--fill-color);\n",
              "    }\n",
              "    80% {\n",
              "      border-color: transparent;\n",
              "      border-right-color: var(--fill-color);\n",
              "      border-bottom-color: var(--fill-color);\n",
              "    }\n",
              "    90% {\n",
              "      border-color: transparent;\n",
              "      border-bottom-color: var(--fill-color);\n",
              "    }\n",
              "  }\n",
              "</style>\n",
              "\n",
              "  <script>\n",
              "    async function quickchart(key) {\n",
              "      const quickchartButtonEl =\n",
              "        document.querySelector('#' + key + ' button');\n",
              "      quickchartButtonEl.disabled = true;  // To prevent multiple clicks.\n",
              "      quickchartButtonEl.classList.add('colab-df-spinner');\n",
              "      try {\n",
              "        const charts = await google.colab.kernel.invokeFunction(\n",
              "            'suggestCharts', [key], {});\n",
              "      } catch (error) {\n",
              "        console.error('Error during call to suggestCharts:', error);\n",
              "      }\n",
              "      quickchartButtonEl.classList.remove('colab-df-spinner');\n",
              "      quickchartButtonEl.classList.add('colab-df-quickchart-complete');\n",
              "    }\n",
              "    (() => {\n",
              "      let quickchartButtonEl =\n",
              "        document.querySelector('#df-41582570-9515-4cac-94c2-c12935413f2b button');\n",
              "      quickchartButtonEl.style.display =\n",
              "        google.colab.kernel.accessAllowed ? 'block' : 'none';\n",
              "    })();\n",
              "  </script>\n",
              "</div>\n",
              "    </div>\n",
              "  </div>\n"
            ],
            "text/plain": [
              "   fold  mag    grp                                               path  \\\n",
              "0     3  200  train  BreaKHis_v1/histology_slides/breast/benign/SOB...   \n",
              "1     4  100  train  BreaKHis_v1/histology_slides/breast/benign/SOB...   \n",
              "2     5  100  train  BreaKHis_v1/histology_slides/breast/benign/SOB...   \n",
              "3     4  200  train  BreaKHis_v1/histology_slides/breast/benign/SOB...   \n",
              "4     5  400  train  BreaKHis_v1/histology_slides/breast/benign/SOB...   \n",
              "\n",
              "    label  label_int                         filename    set  \n",
              "0  benign          1  SOB_B_PT-14-21998AB-200-051.png  train  \n",
              "1  benign          1    SOB_B_TA-14-16184-100-025.png  train  \n",
              "2  benign          1     SOB_B_F-14-25197-100-029.png  train  \n",
              "3  benign          1    SOB_B_F-14-14134E-200-014.png  train  \n",
              "4  benign          1    SOB_B_PT-14-22704-400-023.png  train  "
            ]
          },
          "execution_count": 20,
          "metadata": {},
          "output_type": "execute_result"
        }
      ],
      "source": [
        "train_images.head(5)"
      ],
      "id": "zjo3di07RF3L"
    },
    {
      "cell_type": "code",
      "execution_count": null,
      "metadata": {
        "id": "j-gkJRtrNExT"
      },
      "outputs": [],
      "source": [
        "max_count = np.max(test_images.label.value_counts())\n",
        "min_count = np.min(test_images.label.value_counts())\n",
        "test_images = test_images.groupby('label').sample(n=max_count, replace=True)\n",
        "test_images = test_images.reset_index(drop=True)"
      ],
      "id": "j-gkJRtrNExT"
    },
    {
      "cell_type": "code",
      "execution_count": null,
      "metadata": {
        "colab": {
          "base_uri": "https://localhost:8080/",
          "height": 206
        },
        "id": "IQKGM_iLNHQ-",
        "outputId": "9a9aef00-0397-45a9-fc72-591a2c816f38"
      },
      "outputs": [
        {
          "data": {
            "text/html": [
              "\n",
              "  <div id=\"df-dc045c06-5a13-4236-9022-5256d675fbde\" class=\"colab-df-container\">\n",
              "    <div>\n",
              "<style scoped>\n",
              "    .dataframe tbody tr th:only-of-type {\n",
              "        vertical-align: middle;\n",
              "    }\n",
              "\n",
              "    .dataframe tbody tr th {\n",
              "        vertical-align: top;\n",
              "    }\n",
              "\n",
              "    .dataframe thead th {\n",
              "        text-align: right;\n",
              "    }\n",
              "</style>\n",
              "<table border=\"1\" class=\"dataframe\">\n",
              "  <thead>\n",
              "    <tr style=\"text-align: right;\">\n",
              "      <th></th>\n",
              "      <th>fold</th>\n",
              "      <th>mag</th>\n",
              "      <th>grp</th>\n",
              "      <th>path</th>\n",
              "      <th>label</th>\n",
              "      <th>label_int</th>\n",
              "      <th>filename</th>\n",
              "      <th>set</th>\n",
              "    </tr>\n",
              "  </thead>\n",
              "  <tbody>\n",
              "    <tr>\n",
              "      <th>0</th>\n",
              "      <td>1</td>\n",
              "      <td>200</td>\n",
              "      <td>test</td>\n",
              "      <td>BreaKHis_v1/histology_slides/breast/benign/SOB...</td>\n",
              "      <td>benign</td>\n",
              "      <td>1</td>\n",
              "      <td>SOB_B_PT-14-21998AB-200-037.png</td>\n",
              "      <td>test</td>\n",
              "    </tr>\n",
              "    <tr>\n",
              "      <th>1</th>\n",
              "      <td>2</td>\n",
              "      <td>40</td>\n",
              "      <td>train</td>\n",
              "      <td>BreaKHis_v1/histology_slides/breast/benign/SOB...</td>\n",
              "      <td>benign</td>\n",
              "      <td>1</td>\n",
              "      <td>SOB_B_PT-14-21998AB-40-037.png</td>\n",
              "      <td>test</td>\n",
              "    </tr>\n",
              "    <tr>\n",
              "      <th>2</th>\n",
              "      <td>3</td>\n",
              "      <td>200</td>\n",
              "      <td>train</td>\n",
              "      <td>BreaKHis_v1/histology_slides/breast/benign/SOB...</td>\n",
              "      <td>benign</td>\n",
              "      <td>1</td>\n",
              "      <td>SOB_B_F-14-21998EF-200-024.png</td>\n",
              "      <td>test</td>\n",
              "    </tr>\n",
              "    <tr>\n",
              "      <th>3</th>\n",
              "      <td>3</td>\n",
              "      <td>200</td>\n",
              "      <td>test</td>\n",
              "      <td>BreaKHis_v1/histology_slides/breast/benign/SOB...</td>\n",
              "      <td>benign</td>\n",
              "      <td>1</td>\n",
              "      <td>SOB_B_PT-14-22704-200-034.png</td>\n",
              "      <td>test</td>\n",
              "    </tr>\n",
              "    <tr>\n",
              "      <th>4</th>\n",
              "      <td>2</td>\n",
              "      <td>200</td>\n",
              "      <td>train</td>\n",
              "      <td>BreaKHis_v1/histology_slides/breast/benign/SOB...</td>\n",
              "      <td>benign</td>\n",
              "      <td>1</td>\n",
              "      <td>SOB_B_A-14-22549AB-200-012.png</td>\n",
              "      <td>test</td>\n",
              "    </tr>\n",
              "  </tbody>\n",
              "</table>\n",
              "</div>\n",
              "    <div class=\"colab-df-buttons\">\n",
              "\n",
              "  <div class=\"colab-df-container\">\n",
              "    <button class=\"colab-df-convert\" onclick=\"convertToInteractive('df-dc045c06-5a13-4236-9022-5256d675fbde')\"\n",
              "            title=\"Convert this dataframe to an interactive table.\"\n",
              "            style=\"display:none;\">\n",
              "\n",
              "  <svg xmlns=\"http://www.w3.org/2000/svg\" height=\"24px\" viewBox=\"0 -960 960 960\">\n",
              "    <path d=\"M120-120v-720h720v720H120Zm60-500h600v-160H180v160Zm220 220h160v-160H400v160Zm0 220h160v-160H400v160ZM180-400h160v-160H180v160Zm440 0h160v-160H620v160ZM180-180h160v-160H180v160Zm440 0h160v-160H620v160Z\"/>\n",
              "  </svg>\n",
              "    </button>\n",
              "\n",
              "  <style>\n",
              "    .colab-df-container {\n",
              "      display:flex;\n",
              "      gap: 12px;\n",
              "    }\n",
              "\n",
              "    .colab-df-convert {\n",
              "      background-color: #E8F0FE;\n",
              "      border: none;\n",
              "      border-radius: 50%;\n",
              "      cursor: pointer;\n",
              "      display: none;\n",
              "      fill: #1967D2;\n",
              "      height: 32px;\n",
              "      padding: 0 0 0 0;\n",
              "      width: 32px;\n",
              "    }\n",
              "\n",
              "    .colab-df-convert:hover {\n",
              "      background-color: #E2EBFA;\n",
              "      box-shadow: 0px 1px 2px rgba(60, 64, 67, 0.3), 0px 1px 3px 1px rgba(60, 64, 67, 0.15);\n",
              "      fill: #174EA6;\n",
              "    }\n",
              "\n",
              "    .colab-df-buttons div {\n",
              "      margin-bottom: 4px;\n",
              "    }\n",
              "\n",
              "    [theme=dark] .colab-df-convert {\n",
              "      background-color: #3B4455;\n",
              "      fill: #D2E3FC;\n",
              "    }\n",
              "\n",
              "    [theme=dark] .colab-df-convert:hover {\n",
              "      background-color: #434B5C;\n",
              "      box-shadow: 0px 1px 3px 1px rgba(0, 0, 0, 0.15);\n",
              "      filter: drop-shadow(0px 1px 2px rgba(0, 0, 0, 0.3));\n",
              "      fill: #FFFFFF;\n",
              "    }\n",
              "  </style>\n",
              "\n",
              "    <script>\n",
              "      const buttonEl =\n",
              "        document.querySelector('#df-dc045c06-5a13-4236-9022-5256d675fbde button.colab-df-convert');\n",
              "      buttonEl.style.display =\n",
              "        google.colab.kernel.accessAllowed ? 'block' : 'none';\n",
              "\n",
              "      async function convertToInteractive(key) {\n",
              "        const element = document.querySelector('#df-dc045c06-5a13-4236-9022-5256d675fbde');\n",
              "        const dataTable =\n",
              "          await google.colab.kernel.invokeFunction('convertToInteractive',\n",
              "                                                    [key], {});\n",
              "        if (!dataTable) return;\n",
              "\n",
              "        const docLinkHtml = 'Like what you see? Visit the ' +\n",
              "          '<a target=\"_blank\" href=https://colab.research.google.com/notebooks/data_table.ipynb>data table notebook</a>'\n",
              "          + ' to learn more about interactive tables.';\n",
              "        element.innerHTML = '';\n",
              "        dataTable['output_type'] = 'display_data';\n",
              "        await google.colab.output.renderOutput(dataTable, element);\n",
              "        const docLink = document.createElement('div');\n",
              "        docLink.innerHTML = docLinkHtml;\n",
              "        element.appendChild(docLink);\n",
              "      }\n",
              "    </script>\n",
              "  </div>\n",
              "\n",
              "\n",
              "<div id=\"df-f7a07673-3f19-42bf-971f-414dec4c2667\">\n",
              "  <button class=\"colab-df-quickchart\" onclick=\"quickchart('df-f7a07673-3f19-42bf-971f-414dec4c2667')\"\n",
              "            title=\"Suggest charts.\"\n",
              "            style=\"display:none;\">\n",
              "\n",
              "<svg xmlns=\"http://www.w3.org/2000/svg\" height=\"24px\"viewBox=\"0 0 24 24\"\n",
              "     width=\"24px\">\n",
              "    <g>\n",
              "        <path d=\"M19 3H5c-1.1 0-2 .9-2 2v14c0 1.1.9 2 2 2h14c1.1 0 2-.9 2-2V5c0-1.1-.9-2-2-2zM9 17H7v-7h2v7zm4 0h-2V7h2v10zm4 0h-2v-4h2v4z\"/>\n",
              "    </g>\n",
              "</svg>\n",
              "  </button>\n",
              "\n",
              "<style>\n",
              "  .colab-df-quickchart {\n",
              "      --bg-color: #E8F0FE;\n",
              "      --fill-color: #1967D2;\n",
              "      --hover-bg-color: #E2EBFA;\n",
              "      --hover-fill-color: #174EA6;\n",
              "      --disabled-fill-color: #AAA;\n",
              "      --disabled-bg-color: #DDD;\n",
              "  }\n",
              "\n",
              "  [theme=dark] .colab-df-quickchart {\n",
              "      --bg-color: #3B4455;\n",
              "      --fill-color: #D2E3FC;\n",
              "      --hover-bg-color: #434B5C;\n",
              "      --hover-fill-color: #FFFFFF;\n",
              "      --disabled-bg-color: #3B4455;\n",
              "      --disabled-fill-color: #666;\n",
              "  }\n",
              "\n",
              "  .colab-df-quickchart {\n",
              "    background-color: var(--bg-color);\n",
              "    border: none;\n",
              "    border-radius: 50%;\n",
              "    cursor: pointer;\n",
              "    display: none;\n",
              "    fill: var(--fill-color);\n",
              "    height: 32px;\n",
              "    padding: 0;\n",
              "    width: 32px;\n",
              "  }\n",
              "\n",
              "  .colab-df-quickchart:hover {\n",
              "    background-color: var(--hover-bg-color);\n",
              "    box-shadow: 0 1px 2px rgba(60, 64, 67, 0.3), 0 1px 3px 1px rgba(60, 64, 67, 0.15);\n",
              "    fill: var(--button-hover-fill-color);\n",
              "  }\n",
              "\n",
              "  .colab-df-quickchart-complete:disabled,\n",
              "  .colab-df-quickchart-complete:disabled:hover {\n",
              "    background-color: var(--disabled-bg-color);\n",
              "    fill: var(--disabled-fill-color);\n",
              "    box-shadow: none;\n",
              "  }\n",
              "\n",
              "  .colab-df-spinner {\n",
              "    border: 2px solid var(--fill-color);\n",
              "    border-color: transparent;\n",
              "    border-bottom-color: var(--fill-color);\n",
              "    animation:\n",
              "      spin 1s steps(1) infinite;\n",
              "  }\n",
              "\n",
              "  @keyframes spin {\n",
              "    0% {\n",
              "      border-color: transparent;\n",
              "      border-bottom-color: var(--fill-color);\n",
              "      border-left-color: var(--fill-color);\n",
              "    }\n",
              "    20% {\n",
              "      border-color: transparent;\n",
              "      border-left-color: var(--fill-color);\n",
              "      border-top-color: var(--fill-color);\n",
              "    }\n",
              "    30% {\n",
              "      border-color: transparent;\n",
              "      border-left-color: var(--fill-color);\n",
              "      border-top-color: var(--fill-color);\n",
              "      border-right-color: var(--fill-color);\n",
              "    }\n",
              "    40% {\n",
              "      border-color: transparent;\n",
              "      border-right-color: var(--fill-color);\n",
              "      border-top-color: var(--fill-color);\n",
              "    }\n",
              "    60% {\n",
              "      border-color: transparent;\n",
              "      border-right-color: var(--fill-color);\n",
              "    }\n",
              "    80% {\n",
              "      border-color: transparent;\n",
              "      border-right-color: var(--fill-color);\n",
              "      border-bottom-color: var(--fill-color);\n",
              "    }\n",
              "    90% {\n",
              "      border-color: transparent;\n",
              "      border-bottom-color: var(--fill-color);\n",
              "    }\n",
              "  }\n",
              "</style>\n",
              "\n",
              "  <script>\n",
              "    async function quickchart(key) {\n",
              "      const quickchartButtonEl =\n",
              "        document.querySelector('#' + key + ' button');\n",
              "      quickchartButtonEl.disabled = true;  // To prevent multiple clicks.\n",
              "      quickchartButtonEl.classList.add('colab-df-spinner');\n",
              "      try {\n",
              "        const charts = await google.colab.kernel.invokeFunction(\n",
              "            'suggestCharts', [key], {});\n",
              "      } catch (error) {\n",
              "        console.error('Error during call to suggestCharts:', error);\n",
              "      }\n",
              "      quickchartButtonEl.classList.remove('colab-df-spinner');\n",
              "      quickchartButtonEl.classList.add('colab-df-quickchart-complete');\n",
              "    }\n",
              "    (() => {\n",
              "      let quickchartButtonEl =\n",
              "        document.querySelector('#df-f7a07673-3f19-42bf-971f-414dec4c2667 button');\n",
              "      quickchartButtonEl.style.display =\n",
              "        google.colab.kernel.accessAllowed ? 'block' : 'none';\n",
              "    })();\n",
              "  </script>\n",
              "</div>\n",
              "    </div>\n",
              "  </div>\n"
            ],
            "text/plain": [
              "   fold  mag    grp                                               path  \\\n",
              "0     1  200   test  BreaKHis_v1/histology_slides/breast/benign/SOB...   \n",
              "1     2   40  train  BreaKHis_v1/histology_slides/breast/benign/SOB...   \n",
              "2     3  200  train  BreaKHis_v1/histology_slides/breast/benign/SOB...   \n",
              "3     3  200   test  BreaKHis_v1/histology_slides/breast/benign/SOB...   \n",
              "4     2  200  train  BreaKHis_v1/histology_slides/breast/benign/SOB...   \n",
              "\n",
              "    label  label_int                         filename   set  \n",
              "0  benign          1  SOB_B_PT-14-21998AB-200-037.png  test  \n",
              "1  benign          1   SOB_B_PT-14-21998AB-40-037.png  test  \n",
              "2  benign          1   SOB_B_F-14-21998EF-200-024.png  test  \n",
              "3  benign          1    SOB_B_PT-14-22704-200-034.png  test  \n",
              "4  benign          1   SOB_B_A-14-22549AB-200-012.png  test  "
            ]
          },
          "execution_count": 22,
          "metadata": {},
          "output_type": "execute_result"
        }
      ],
      "source": [
        "test_images.head(5)"
      ],
      "id": "IQKGM_iLNHQ-"
    },
    {
      "cell_type": "markdown",
      "metadata": {
        "id": "gvAykxPARLqh"
      },
      "source": [
        "## CNN Variables"
      ],
      "id": "gvAykxPARLqh"
    },
    {
      "cell_type": "code",
      "execution_count": null,
      "metadata": {
        "id": "ZGqKoHZRvri1"
      },
      "outputs": [],
      "source": [
        "# Model Libraries\n",
        "import tensorflow as tf\n",
        "from tensorflow.keras.models import Sequential\n",
        "from tensorflow.keras.layers import Input, Dropout, Flatten, Conv2D, MaxPooling2D, Dense, Activation\n",
        "from tensorflow.keras.optimizers import Adam\n",
        "from tensorflow.keras.callbacks import EarlyStopping, ReduceLROnPlateau\n",
        "\n",
        "# Variables\n",
        "\n",
        "#kernel_size     = (3,3)\n",
        "kernel_size      = 32\n",
        "pool_size       = (4,4)\n",
        "input_shape_bk  = (640, 640, 3) #9109 RGB\n",
        "input_shape_pc  = (96, 96, 3) #327680 RGB\n",
        "target_shape    = (224, 224)\n",
        "batch_size      = 32\n",
        "epochs          = 5\n",
        "seed            = 1337\n",
        "img_size        = 224\n",
        "num_filters     = 4\n",
        "\n",
        "first_filters   = 32\n",
        "second_filters  = 64\n",
        "third_filters   = 128\n",
        "fourth_filters   = 256\n",
        "\n",
        "dropout_conv = 0.3\n",
        "dropout_dense = 0.3\n",
        "\n",
        "early_stopping  = EarlyStopping(\n",
        "        monitor = 'val_acc',\n",
        "      min_delta = 0.001,\n",
        "       patience = 5,\n",
        "        verbose = 1,\n",
        "           mode = 'auto')\n",
        "\n",
        "reduce_lr    = ReduceLROnPlateau(\n",
        "    monitor  ='val_acc',\n",
        "    factor   = 0.5,\n",
        "    patience = 2,\n",
        "    verbose  = 1,\n",
        "    mode     = 'max',\n",
        "    min_lr   = 0.00001)\n",
        "\n",
        "optimizer       = tf.keras.optimizers.legacy.Adam(learning_rate=0.0001)                 # SGD(lr=0.001, momentum=0.9), Adam, RMSprop\n",
        "loss            = 'binary_crossentropy'                      # 'categorical_crossentropy', 'binary_crossentropy'\n",
        "metric          = 'accuracy'\n",
        "activation      = 'sigmoid'                                  # 'sigmoid'; 'softmax'\n",
        "split_size     = 0.2"
      ],
      "id": "ZGqKoHZRvri1"
    },
    {
      "cell_type": "markdown",
      "metadata": {
        "id": "5wxh11bITCmR"
      },
      "source": [
        "## Load Data"
      ],
      "id": "5wxh11bITCmR"
    },
    {
      "cell_type": "code",
      "execution_count": null,
      "metadata": {
        "colab": {
          "base_uri": "https://localhost:8080/"
        },
        "id": "q8VIy8qPTERk",
        "outputId": "ce77685e-cb0f-4c06-d9c5-670cbd79f461"
      },
      "outputs": [
        {
          "name": "stdout",
          "output_type": "stream",
          "text": [
            "0        BreaKHis_v1/histology_slides/breast/benign/SOB...\n",
            "1        BreaKHis_v1/histology_slides/breast/benign/SOB...\n",
            "2        BreaKHis_v1/histology_slides/breast/benign/SOB...\n",
            "3        BreaKHis_v1/histology_slides/breast/benign/SOB...\n",
            "4        BreaKHis_v1/histology_slides/breast/benign/SOB...\n",
            "                               ...                        \n",
            "40063    BreaKHis_v1/histology_slides/breast/malignant/...\n",
            "40064    BreaKHis_v1/histology_slides/breast/malignant/...\n",
            "40065    BreaKHis_v1/histology_slides/breast/malignant/...\n",
            "40066    BreaKHis_v1/histology_slides/breast/malignant/...\n",
            "40067    BreaKHis_v1/histology_slides/breast/malignant/...\n",
            "Name: path, Length: 40068, dtype: object\n",
            "/content/BH/\n"
          ]
        }
      ],
      "source": [
        "image_dir = \"/content/BH/\"\n",
        "(image_dir + train_images.path)[0]\n",
        "print(train_images.path)\n",
        "print(image_dir)"
      ],
      "id": "q8VIy8qPTERk"
    },
    {
      "cell_type": "code",
      "execution_count": null,
      "metadata": {
        "id": "Z0XgD3rTTG0Q"
      },
      "outputs": [],
      "source": [
        "# loading the train & validation datasets\n",
        "load_train = tf.data.Dataset.from_tensor_slices((image_dir + \"/\" + train_images.path,\n",
        "                                                train_images.label_int))\n",
        "\n",
        "load_test = tf.data.Dataset.from_tensor_slices((image_dir + \"/\" + test_images.path,\n",
        "                                                test_images.label_int))"
      ],
      "id": "Z0XgD3rTTG0Q"
    },
    {
      "cell_type": "code",
      "execution_count": null,
      "metadata": {
        "id": "us0-WvFhTULJ"
      },
      "outputs": [],
      "source": [
        "# function to decode a PNG image into a tf tensor\n",
        "def load_image(path, label):\n",
        "    image = tf.io.read_file(path)\n",
        "    image = tf.io.decode_png(image, channels=3)\n",
        "    return image, label\n",
        "\n",
        "# image argumentation for faster model training\n",
        "def argument_image(image):\n",
        "    transform = A.Compose([A.HorizontalFlip(p = 0.5),\n",
        "                          A.Rotate(p = 0.5, limit = 15),\n",
        "                          A.RandomBrightnessContrast(p=0.5, brightness_limit=(-0.2, 0.2), contrast_limit=(-0.1, 0.1),\n",
        "                                                    brightness_by_max=True),\n",
        "                           A.RandomResizedCrop(p=0.8, height=img_size, width=img_size,\n",
        "                                              scale=(0.9, 1.1), ratio=(0.05, 1.1), interpolation=0),\n",
        "                           A.Blur(blur_limit = (1, 1))\n",
        "\n",
        "                          ])\n",
        "\n",
        "    data = {\"image\": image}\n",
        "    argumented_data = transform(**data)\n",
        "    argumented_image = argumented_data[\"image\"]\n",
        "    argumented_image = tf.cast(argumented_image, tf.float32)\n",
        "    argumented_image = tf.image.resize(argumented_image, [img_size, img_size]) / 255\n",
        "\n",
        "    return argumented_image\n",
        "\n",
        "def argumentor_function(image, label):\n",
        "    argumented_image = tf.numpy_function(func = argument_image, inp=[image], Tout = tf.float32)\n",
        "    return argumented_image, label"
      ],
      "id": "us0-WvFhTULJ"
    },
    {
      "cell_type": "code",
      "execution_count": null,
      "metadata": {
        "colab": {
          "base_uri": "https://localhost:8080/"
        },
        "id": "-0KtKGMNTJj1",
        "outputId": "404e6be7-6e3a-4c24-f1a7-1f9de8c53991"
      },
      "outputs": [
        {
          "data": {
            "text/plain": [
              "<_PrefetchDataset element_spec=(TensorSpec(shape=<unknown>, dtype=tf.float32, name=None), TensorSpec(shape=(None,), dtype=tf.int64, name=None))>"
            ]
          },
          "execution_count": 27,
          "metadata": {},
          "output_type": "execute_result"
        }
      ],
      "source": [
        "train_dataset = (\n",
        "                load_train.shuffle(len(train_images))\n",
        "                .map(load_image, num_parallel_calls=tf.data.experimental.AUTOTUNE)\n",
        "                .map(partial(argumentor_function), num_parallel_calls=tf.data.experimental.AUTOTUNE)\n",
        "                .batch(batch_size)\n",
        "                .prefetch(tf.data.experimental.AUTOTUNE)\n",
        "                )\n",
        "test_dataset = (\n",
        "                load_test.shuffle(len(test_images))\n",
        "                .map(load_image, num_parallel_calls=tf.data.experimental.AUTOTUNE)\n",
        "                .map(partial(argumentor_function), num_parallel_calls=tf.data.experimental.AUTOTUNE)\n",
        "                .batch(batch_size)\n",
        "                .prefetch(tf.data.experimental.AUTOTUNE)\n",
        "                )\n",
        "\n",
        "train_dataset"
      ],
      "id": "-0KtKGMNTJj1"
    },
    {
      "cell_type": "code",
      "execution_count": null,
      "metadata": {
        "colab": {
          "base_uri": "https://localhost:8080/"
        },
        "id": "49GkUICIhUeG",
        "outputId": "53cb8023-5fe1-4098-ba4e-a20280e532d6"
      },
      "outputs": [
        {
          "data": {
            "text/plain": [
              "<_PrefetchDataset element_spec=(TensorSpec(shape=<unknown>, dtype=tf.float32, name=None), TensorSpec(shape=(None,), dtype=tf.int64, name=None))>"
            ]
          },
          "execution_count": 28,
          "metadata": {},
          "output_type": "execute_result"
        }
      ],
      "source": [
        "train_dataset"
      ],
      "id": "49GkUICIhUeG"
    },
    {
      "cell_type": "code",
      "execution_count": null,
      "metadata": {
        "colab": {
          "base_uri": "https://localhost:8080/"
        },
        "id": "SeHF3oiwhXI4",
        "outputId": "659f479f-3ff2-4f2e-93ce-fd1fa1785da5"
      },
      "outputs": [
        {
          "data": {
            "text/plain": [
              "<_PrefetchDataset element_spec=(TensorSpec(shape=<unknown>, dtype=tf.float32, name=None), TensorSpec(shape=(None,), dtype=tf.int64, name=None))>"
            ]
          },
          "execution_count": 29,
          "metadata": {},
          "output_type": "execute_result"
        }
      ],
      "source": [
        "test_dataset"
      ],
      "id": "SeHF3oiwhXI4"
    },
    {
      "cell_type": "markdown",
      "metadata": {
        "id": "9GDzeDTWLs7S"
      },
      "source": [
        "## Making the Custom Deep Learning Model"
      ],
      "id": "9GDzeDTWLs7S"
    },
    {
      "cell_type": "code",
      "execution_count": null,
      "metadata": {
        "colab": {
          "base_uri": "https://localhost:8080/"
        },
        "id": "B3cthhrHxXOZ",
        "outputId": "64194f8c-0e33-475d-8b85-195a253d7f42"
      },
      "outputs": [
        {
          "name": "stdout",
          "output_type": "stream",
          "text": [
            "Model: \"sequential\"\n",
            "_________________________________________________________________\n",
            " Layer (type)                Output Shape              Param #   \n",
            "=================================================================\n",
            " conv2d (Conv2D)             (None, 640, 640, 32)      98336     \n",
            "                                                                 \n",
            " conv2d_1 (Conv2D)           (None, 640, 640, 64)      2097216   \n",
            "                                                                 \n",
            " max_pooling2d (MaxPooling2  (None, 160, 160, 64)      0         \n",
            " D)                                                              \n",
            "                                                                 \n",
            " dropout (Dropout)           (None, 160, 160, 64)      0         \n",
            "                                                                 \n",
            " conv2d_2 (Conv2D)           (None, 160, 160, 32)      2097184   \n",
            "                                                                 \n",
            " conv2d_3 (Conv2D)           (None, 160, 160, 64)      2097216   \n",
            "                                                                 \n",
            " max_pooling2d_1 (MaxPoolin  (None, 40, 40, 64)        0         \n",
            " g2D)                                                            \n",
            "                                                                 \n",
            " dropout_1 (Dropout)         (None, 40, 40, 64)        0         \n",
            "                                                                 \n",
            " conv2d_4 (Conv2D)           (None, 40, 40, 32)        2097184   \n",
            "                                                                 \n",
            " conv2d_5 (Conv2D)           (None, 40, 40, 64)        2097216   \n",
            "                                                                 \n",
            " conv2d_6 (Conv2D)           (None, 40, 40, 128)       8388736   \n",
            "                                                                 \n",
            " max_pooling2d_2 (MaxPoolin  (None, 10, 10, 128)       0         \n",
            " g2D)                                                            \n",
            "                                                                 \n",
            " dropout_2 (Dropout)         (None, 10, 10, 128)       0         \n",
            "                                                                 \n",
            " conv2d_7 (Conv2D)           (None, 10, 10, 32)        4194336   \n",
            "                                                                 \n",
            " conv2d_8 (Conv2D)           (None, 10, 10, 64)        2097216   \n",
            "                                                                 \n",
            " conv2d_9 (Conv2D)           (None, 10, 10, 128)       8388736   \n",
            "                                                                 \n",
            " max_pooling2d_3 (MaxPoolin  (None, 2, 2, 128)         0         \n",
            " g2D)                                                            \n",
            "                                                                 \n",
            " dropout_3 (Dropout)         (None, 2, 2, 128)         0         \n",
            "                                                                 \n",
            " dense (Dense)               (None, 2, 2, 256)         33024     \n",
            "                                                                 \n",
            " global_average_pooling2d (  (None, 256)               0         \n",
            " GlobalAveragePooling2D)                                         \n",
            "                                                                 \n",
            " dense_1 (Dense)             (None, 1)                 257       \n",
            "                                                                 \n",
            "=================================================================\n",
            "Total params: 33686657 (128.50 MB)\n",
            "Trainable params: 0 (0.00 Byte)\n",
            "Non-trainable params: 33686657 (128.50 MB)\n",
            "_________________________________________________________________\n",
            "Input shape:  (640, 640, 3)\n"
          ]
        }
      ],
      "source": [
        "from keras.src.layers.pooling.global_average_pooling2d import GlobalAveragePooling2D\n",
        "import keras\n",
        "\n",
        "### Building the Base Model\n",
        "\n",
        "# train_steps = np.ceil(len(train_dataset) / batch_size)\n",
        "# test_steps = np.ceil(len(test_dataset) / batch_size)\n",
        "\n",
        "# print('Steps:')\n",
        "# print('Train: %d | Test: %d ' %(train_steps, test_steps))\n",
        "\n",
        "def model_custom(input_shape, activation):\n",
        "\n",
        "    model = Sequential()\n",
        "    model.add(Conv2D(first_filters, kernel_size, padding='same', activation = 'relu', input_shape = input_shape_bk))\n",
        "    model.add(Conv2D(second_filters, kernel_size, padding='same', activation = 'relu'))\n",
        "    model.add(MaxPooling2D(pool_size = pool_size))\n",
        "    model.add(Dropout(dropout_conv))\n",
        "\n",
        "    model.add(Conv2D(first_filters, kernel_size, padding='same', activation ='relu'))\n",
        "    model.add(Conv2D(second_filters, kernel_size, padding='same', activation ='relu'))\n",
        "    model.add(MaxPooling2D(pool_size = pool_size))\n",
        "    model.add(Dropout(dropout_conv))\n",
        "\n",
        "    model.add(Conv2D(first_filters, kernel_size, padding='same', activation ='relu'))\n",
        "    model.add(Conv2D(second_filters, kernel_size, padding='same', activation ='relu'))\n",
        "    model.add(Conv2D(third_filters, kernel_size, padding='same', activation ='relu'))\n",
        "    model.add(MaxPooling2D(pool_size = pool_size))\n",
        "    model.add(Dropout(dropout_conv))\n",
        "\n",
        "    model.add(Conv2D(first_filters, kernel_size, padding='same', activation ='relu'))\n",
        "    model.add(Conv2D(second_filters, kernel_size, padding='same', activation ='relu'))\n",
        "    model.add(Conv2D(third_filters, kernel_size, padding='same', activation ='relu'))\n",
        "    model.add(MaxPooling2D(pool_size = (pool_size)))\n",
        "    model.add(Dropout(dropout_dense))\n",
        "\n",
        "    model.add(Dense(256, activation = \"relu\"))\n",
        "    model.add(GlobalAveragePooling2D())\n",
        "    model.add(Dense(1, activation = activation))\n",
        "\n",
        "    model.trainable = False\n",
        "    model.set_weights = \"imagenet\"\n",
        "    model.include_top = True\n",
        "\n",
        "    return model\n",
        "\n",
        "if __name__ == \"__main__\":\n",
        "    model = model_custom(input_shape_bk, activation = activation)\n",
        "    model.summary()\n",
        "    print('Input shape: ', input_shape_bk)"
      ],
      "id": "B3cthhrHxXOZ"
    },
    {
      "cell_type": "code",
      "execution_count": null,
      "metadata": {
        "id": "Iq8f5HTpyugF"
      },
      "outputs": [],
      "source": [
        "#####################  Plot Loss Curves  #####################\n",
        "\n",
        "def Plot_Train(hlist, start=1):\n",
        "\n",
        "    history = {}\n",
        "    for k in hlist[0].history.keys():\n",
        "        history[k] = sum([h.history[k] for h in hlist], [])\n",
        "\n",
        "    epoch_range = range(start, len(history['loss']) +1)\n",
        "    s           = slice(start-1, None)\n",
        "    n           = int(len(history.keys()) / 2)\n",
        "\n",
        "    plt.figure(figsize=[14,4])\n",
        "    for i in range(n):\n",
        "        k = list(history.keys())[i]\n",
        "        plt.subplot(1, n, i+1)\n",
        "        plt.plot(epoch_range, history[k][s], label='Training')\n",
        "        plt.plot(epoch_range, history['val_' + k][s], label='Test')\n",
        "        plt.xlabel('Epoch'); plt.ylabel(k); plt.title(k)\n",
        "        plt.grid()\n",
        "        plt.legend()\n",
        "\n",
        "    plt.tight_layout()\n",
        "    plt.show()"
      ],
      "id": "Iq8f5HTpyugF"
    },
    {
      "cell_type": "markdown",
      "metadata": {
        "id": "4VtdlE1BuY8D"
      },
      "source": [
        "# 1st Train - CustomNet + Transfer Learning ImageNet - BreakHis"
      ],
      "id": "4VtdlE1BuY8D"
    },
    {
      "cell_type": "code",
      "execution_count": null,
      "metadata": {
        "colab": {
          "background_save": true,
          "base_uri": "https://localhost:8080/"
        },
        "id": "4y3zvtKAYUZy",
        "outputId": "81c90f37-32dc-4363-b093-c5e19a4b3a11"
      },
      "outputs": [
        {
          "name": "stdout",
          "output_type": "stream",
          "text": [
            "Epoch 1/5\n",
            "1253/1253 [==============================] - 938s 748ms/step - loss: nan - accuracy: 0.5000 - Precision: 0.0000e+00 - Recall: 0.0000e+00 - val_loss: nan - val_accuracy: 0.5000 - val_Precision: 0.0000e+00 - val_Recall: 0.0000e+00\n",
            "Epoch 2/5\n",
            "1253/1253 [==============================] - ETA: 0s - loss: nan - accuracy: 0.5000 - Precision: 0.0000e+00 - Recall: 0.0000e+00"
          ]
        }
      ],
      "source": [
        "start = time.time()\n",
        "# starting a new sesion for TF\n",
        "from keras import backend as K\n",
        "\n",
        "tf.keras.backend.clear_session()\n",
        "\n",
        "# making model checkpoints\n",
        "model_checkpoint = tf.keras.callbacks.ModelCheckpoint('1st_customnet_model.h5', save_best_only=True)\n",
        "\n",
        "# model logs\n",
        "csv_logger = CSVLogger('cnn_customnet_1strain_model_logs.csv', append=True)\n",
        "\n",
        "metrics = ['accuracy', Precision(name='Precision'), Recall(name='Recall')]\n",
        "\n",
        "# compiling the model\n",
        "model.compile(loss='binary_crossentropy', optimizer='adam', metrics=metrics)\n",
        "\n",
        "# fit the model\n",
        "train_history = model.fit(train_dataset, epochs=epochs, batch_size=batch_size, verbose=1,\n",
        "                             callbacks=[model_checkpoint, csv_logger], validation_data=test_dataset)\n",
        "\n",
        "model.save_weights('1st_customnet_model.h5')\n",
        "end = time.time()\n",
        "print('Time Taken: %.3f seconds' % (end-start))"
      ],
      "id": "4y3zvtKAYUZy"
    },
    {
      "cell_type": "markdown",
      "metadata": {
        "id": "fHu86kNjRiuI"
      },
      "source": [
        "### 1st Train CustomNet Results"
      ],
      "id": "fHu86kNjRiuI"
    },
    {
      "cell_type": "code",
      "execution_count": null,
      "metadata": {
        "id": "BLJw0GoXRac_"
      },
      "outputs": [],
      "source": [
        "Plot_Train([train_history])"
      ],
      "id": "BLJw0GoXRac_"
    },
    {
      "cell_type": "markdown",
      "metadata": {
        "id": "F83zMTH4RBdK"
      },
      "source": [
        "## Conf Matrix"
      ],
      "id": "F83zMTH4RBdK"
    },
    {
      "cell_type": "code",
      "execution_count": null,
      "metadata": {
        "id": "JSEtnsLIL6XN"
      },
      "outputs": [],
      "source": [
        "test_images"
      ],
      "id": "JSEtnsLIL6XN"
    },
    {
      "cell_type": "code",
      "execution_count": null,
      "metadata": {
        "id": "BzFR-rM1Mpel"
      },
      "outputs": [],
      "source": [
        "test_data = load_test\n",
        "test_dataset = (\n",
        "                test_data\n",
        "                .map(load_image, num_parallel_calls=tf.data.experimental.AUTOTUNE)\n",
        "                .map(partial(argumentor_function), num_parallel_calls=tf.data.experimental.AUTOTUNE)\n",
        "                .batch(batch_size)\n",
        "                .prefetch(tf.data.experimental.AUTOTUNE)\n",
        "                )"
      ],
      "id": "BzFR-rM1Mpel"
    },
    {
      "cell_type": "code",
      "execution_count": null,
      "metadata": {
        "id": "OyothWuYRDFk"
      },
      "outputs": [],
      "source": [
        "import matplotlib.pyplot as plt\n",
        "import seaborn as sns\n",
        "import pandas as pd\n",
        "from sklearn.metrics import ConfusionMatrixDisplay\n",
        "import matplotlib.pyplot as plt\n",
        "\n",
        "# get field by concatenating batches\n",
        "ytrue = test_images['label_int']\n",
        "pred = model.predict_generator(test_dataset, verbose=1)\n",
        "ypred = np.where(pred > 0.5, 1, 0)"
      ],
      "id": "OyothWuYRDFk"
    },
    {
      "cell_type": "code",
      "execution_count": null,
      "metadata": {
        "id": "YLpl1U4bStB1"
      },
      "outputs": [],
      "source": [
        "print('len ytrue: ', len(ytrue))\n",
        "print('len ypred: ', len(ypred))"
      ],
      "id": "YLpl1U4bStB1"
    },
    {
      "cell_type": "code",
      "execution_count": null,
      "metadata": {
        "id": "cMe6X8PfJ-V8"
      },
      "outputs": [],
      "source": [
        "df_preds = pd.DataFrame(ypred, ytrue)\n",
        "df_preds.head()"
      ],
      "id": "cMe6X8PfJ-V8"
    },
    {
      "cell_type": "code",
      "execution_count": null,
      "metadata": {
        "id": "5VUlH9f2KCLb"
      },
      "outputs": [],
      "source": [
        "cm = confusion_matrix(y_true=ytrue, y_pred=ypred)\n",
        "\n",
        "from mlxtend.plotting import plot_confusion_matrix\n",
        "fig, ax = plot_confusion_matrix(conf_mat=cm,\n",
        "                                show_absolute=True,\n",
        "                                show_normed=True,\n",
        "                                colorbar=True,\n",
        "                               cmap = 'Dark2')\n",
        "plt.show()"
      ],
      "id": "5VUlH9f2KCLb"
    },
    {
      "cell_type": "code",
      "execution_count": null,
      "metadata": {
        "id": "aI7VfTbCD1xY"
      },
      "outputs": [],
      "source": [
        "from sklearn.metrics import classification_report\n",
        "# Generate a classification report\n",
        "\n",
        "report = classification_report(ytrue, ypred, target_names = ['benign', 'malignant'])\n",
        "print(report)"
      ],
      "id": "aI7VfTbCD1xY"
    },
    {
      "cell_type": "markdown",
      "metadata": {
        "id": "ImKRObc3OjkC"
      },
      "source": [
        "## 2nd Phase - CustomNet + Transfer Learning ImageNet - BreakHis - PathCam"
      ],
      "id": "ImKRObc3OjkC"
    },
    {
      "cell_type": "markdown",
      "metadata": {
        "id": "HKpiAXCqIEyF"
      },
      "source": [
        "## Checking environment"
      ],
      "id": "HKpiAXCqIEyF"
    },
    {
      "cell_type": "code",
      "execution_count": null,
      "metadata": {
        "id": "mh9ib-ToH7M0"
      },
      "outputs": [],
      "source": [
        "os.environ[\"CUDA_VISIBLE_DEVICES\"] = \"0\"         # Set for GPU use\n",
        "# os.environ[\"CUDA_VISIBLE_DEVICES\"] = \"-1\"          # Set for CPU use\n",
        "# os.environ[\"CUDA_DEVICE_ORDER\"] = \"PCI_BUS_ID\"     # Set for CPU use\n",
        "\n",
        "device_name = tf.test.gpu_device_name()\n",
        "\n",
        "if device_name != '/device:GPU:0':\n",
        "    print('GPU device not found')\n",
        "    workers = multiprocessing.cpu_count()\n",
        "    print('You have %d Cores' % workers)\n",
        "else:\n",
        "    print('Found GPU at: {}'.format(device_name))\n",
        "    physical_devices = tf.config.list_physical_devices('GPU')\n",
        "    print(\"Num GPUs Available: \", len(physical_devices))\n",
        "#    tf.config.experimental.set_memory_growth(physical_devices[0], True)\n",
        "#    tf.debugging.set_log_device_placement(False)"
      ],
      "id": "mh9ib-ToH7M0"
    },
    {
      "cell_type": "markdown",
      "metadata": {
        "id": "XZd5QPhbIH_9"
      },
      "source": [
        "## Setting environment variables"
      ],
      "id": "XZd5QPhbIH_9"
    },
    {
      "cell_type": "code",
      "execution_count": null,
      "metadata": {
        "id": "IaadCAH-H-7Y"
      },
      "outputs": [],
      "source": [
        "# Setting Variables\n",
        "warnings.filterwarnings('ignore')\n",
        "pd.options.display.max_rows = 30\n",
        "pd.options.display.float_format = \"{:.2f}\".format\n",
        "%matplotlib inline\n",
        "mpl.style.use('ggplot')"
      ],
      "id": "IaadCAH-H-7Y"
    },
    {
      "cell_type": "markdown",
      "metadata": {
        "id": "ovgVnmcNOqXW"
      },
      "source": [
        "## Load Data"
      ],
      "id": "ovgVnmcNOqXW"
    },
    {
      "cell_type": "code",
      "execution_count": null,
      "metadata": {
        "id": "OcTFJcE2IOhI"
      },
      "outputs": [],
      "source": [
        "# PCam Dataset\n",
        "!mkdir '/content/train-pcam'\n",
        "!mkdir '/content/test-pcam'\n",
        "!unzip -qq '/content/gdrive/MyDrive/train-pcam' -d '/content/train-pcam'\n",
        "!unzip -qq '/content/gdrive/MyDrive/test-pcam'  -d '/content/test-pcam'"
      ],
      "id": "OcTFJcE2IOhI"
    },
    {
      "cell_type": "code",
      "execution_count": null,
      "metadata": {
        "id": "ZfJJHdojIQFR"
      },
      "outputs": [],
      "source": [
        "DB_PATH   = '/content/'\n",
        "TRAIN_DIR = DB_PATH +'train-pcam/'\n",
        "TEST_DIR  = DB_PATH + 'test-pcam/'\n",
        "DIR       = ['train-pcam/', 'test-pcam/']"
      ],
      "id": "ZfJJHdojIQFR"
    },
    {
      "cell_type": "code",
      "execution_count": null,
      "metadata": {
        "id": "a8oUbiYbOr0r"
      },
      "outputs": [],
      "source": [
        "data = pd.read_csv('/content/gdrive/MyDrive/pcam_train_labels.csv', dtype=str)\n",
        "data = data.astype(\"string\")\n",
        "data.id = data.id + '.tif'"
      ],
      "id": "a8oUbiYbOr0r"
    },
    {
      "cell_type": "code",
      "execution_count": null,
      "metadata": {
        "id": "e_GQvHjiVcAh"
      },
      "outputs": [],
      "source": [
        "data.info()"
      ],
      "id": "e_GQvHjiVcAh"
    },
    {
      "cell_type": "code",
      "execution_count": null,
      "metadata": {
        "id": "c5y__GnPIVp4"
      },
      "outputs": [],
      "source": [
        "print('Train Shape: ' , data.shape)\n",
        "data.head()"
      ],
      "id": "c5y__GnPIVp4"
    },
    {
      "cell_type": "code",
      "execution_count": null,
      "metadata": {
        "id": "ze-thD18IXJd"
      },
      "outputs": [],
      "source": [
        "(data.label.value_counts() / len(data)).to_frame().sort_index().T"
      ],
      "id": "ze-thD18IXJd"
    },
    {
      "cell_type": "code",
      "execution_count": null,
      "metadata": {
        "id": "YM-x2Iz2IkCy"
      },
      "outputs": [],
      "source": [
        "data.dtypes"
      ],
      "id": "YM-x2Iz2IkCy"
    },
    {
      "cell_type": "markdown",
      "metadata": {
        "id": "YyvANF5WIu3A"
      },
      "source": [
        "## Preprocessing"
      ],
      "id": "YyvANF5WIu3A"
    },
    {
      "cell_type": "code",
      "execution_count": null,
      "metadata": {
        "id": "3W0gquh6Im8-"
      },
      "outputs": [],
      "source": [
        "#Check for image string\n",
        "\n",
        "img = TRAIN_DIR + data.id[5]\n",
        "fobj = open(img, \"rb\")\n",
        "fobj.peek(10)"
      ],
      "id": "3W0gquh6Im8-"
    },
    {
      "cell_type": "code",
      "execution_count": null,
      "metadata": {
        "id": "Dk-8PvzWI3fb"
      },
      "outputs": [],
      "source": [
        "data.head()"
      ],
      "id": "Dk-8PvzWI3fb"
    },
    {
      "cell_type": "code",
      "execution_count": null,
      "metadata": {
        "id": "EFnPjOJxIzRK"
      },
      "outputs": [],
      "source": [
        "num_skipped = 0\n",
        "for folder_name in DIR:\n",
        "    folder_path = os.path.join(DB_PATH, folder_name)\n",
        "    for fname in os.listdir(folder_path):\n",
        "        fpath = os.path.join(folder_path, fname)\n",
        "        try:\n",
        "            fobj = open(fpath, \"rb\")\n",
        "            is_jfif = tf.compat.as_bytes('tif') in fobj.peek(10)   # check for 'tif' string\n",
        "        finally:\n",
        "            fobj.close()\n",
        "\n",
        "        if not is_jfif:\n",
        "            num_skipped += 1\n",
        "            # Delete corrupted image\n",
        "            print (fpath)\n",
        "            # os.remove(fpath)\n",
        "\n",
        "print(\"%d Corrupted images\" % num_skipped)"
      ],
      "id": "EFnPjOJxIzRK"
    },
    {
      "cell_type": "code",
      "execution_count": null,
      "metadata": {
        "id": "rDX9QXCDI2OM"
      },
      "outputs": [],
      "source": [
        "fig, ax = plt.subplots(2,5, figsize=(20,8))\n",
        "fig.suptitle('Histopathologic scans of lymph node sections',fontsize=20)\n",
        "\n",
        "\n",
        "# Negatives\n",
        "for i, idx in enumerate(data[data['label'] == '0']['id'][:5]):\n",
        "    path = os.path.join(TRAIN_DIR, idx)\n",
        "    img = imread(path)\n",
        "    ax[0,i].imshow(img)\n",
        "ax[0,0].set_ylabel('Negative samples', size='large')\n",
        "\n",
        "\n",
        "# # Positives\n",
        "for i, idx in enumerate(data[data['label'] == '1']['id'][:5]):\n",
        "    path = os.path.join(TRAIN_DIR, idx)\n",
        "    img = imread(path)\n",
        "    ax[1,i].imshow(img)\n",
        "ax[1,0].set_ylabel('Positive samples', size='large');"
      ],
      "id": "rDX9QXCDI2OM"
    },
    {
      "cell_type": "code",
      "execution_count": null,
      "metadata": {
        "id": "0kxCgFA6I0kS"
      },
      "outputs": [],
      "source": [
        "# plot few Train images\n",
        "\n",
        "sample = data.sample(n=18).reset_index()\n",
        "plt.figure(figsize=(10,10))\n",
        "plt.suptitle('Histopathologic scans of lymph node sections',fontsize=16)\n",
        "for i, row in sample.iterrows():\n",
        "    img = imread(TRAIN_DIR + f'{row.id}')\n",
        "    label = row.label\n",
        "\n",
        "    plt.subplot(6,6,i+1)\n",
        "    plt.imshow(img)\n",
        "    plt.text(0, -5, f'Class {label}', color='k')\n",
        "    plt.axis('off')\n",
        "\n",
        "plt.tight_layout()\n",
        "plt.show()"
      ],
      "id": "0kxCgFA6I0kS"
    },
    {
      "cell_type": "code",
      "execution_count": null,
      "metadata": {
        "id": "YxaoUzeMI6xV"
      },
      "outputs": [],
      "source": [
        "datagen = ImageDataGenerator(rescale=1./255., validation_split=split_size)\n",
        "\n",
        "train_gen = datagen.flow_from_dataframe(\n",
        "    dataframe  = data,\n",
        "    directory  = TRAIN_DIR,\n",
        "    color_mode = 'rgb',\n",
        "    x_col      = 'id',\n",
        "    y_col      = 'label',\n",
        "    subset     = 'training',\n",
        "    batch_size = batch_size,\n",
        "    seed       = seed,\n",
        "    shuffle    = True,\n",
        "    class_mode = 'binary',\n",
        "    target_size = target_shape)\n",
        "\n",
        "valid_gen = datagen.flow_from_dataframe(\n",
        "    dataframe  = data,\n",
        "    directory  = TRAIN_DIR,\n",
        "    color_mode = 'rgb',\n",
        "    x_col      = 'id',\n",
        "    y_col      = 'label',\n",
        "    subset     = 'validation',\n",
        "    batch_size = batch_size,\n",
        "    seed       = seed,\n",
        "    shuffle    = True,\n",
        "    class_mode = 'binary',\n",
        "    target_size = target_shape)"
      ],
      "id": "YxaoUzeMI6xV"
    },
    {
      "cell_type": "code",
      "execution_count": null,
      "metadata": {
        "id": "MQiR3hhzV4yH"
      },
      "outputs": [],
      "source": [
        "train_steps = np.ceil(len(train_gen) / batch_size)\n",
        "val_steps = np.ceil(len(valid_gen) / batch_size)\n",
        "\n",
        "print('Steps:')\n",
        "print('Train: %d | Validation: %d ' %(train_steps, val_steps))"
      ],
      "id": "MQiR3hhzV4yH"
    },
    {
      "cell_type": "markdown",
      "metadata": {
        "id": "29DRYcSePKQB"
      },
      "source": [
        "## DTL Train"
      ],
      "id": "29DRYcSePKQB"
    },
    {
      "cell_type": "code",
      "execution_count": null,
      "metadata": {
        "id": "CgNKYli7PLse"
      },
      "outputs": [],
      "source": [
        "start = time.time()\n",
        "from tensorflow.keras.callbacks import ReduceLROnPlateau, EarlyStopping, ModelCheckpoint, LearningRateScheduler\n",
        "from keras import backend as K\n",
        "\n",
        "model.load_weights(\"1st_customnet_model.h5\")\n",
        "\n",
        "model.compile(optimizer = 'adam',\n",
        "                  loss = 'binary_crossentropy',\n",
        "                  metrics = ['accuracy', Precision(name='Precision'), Recall(name='Recall')]\n",
        "                 )\n",
        "# model logs\n",
        "csv_logger = CSVLogger('cnn_customnet_DTL_model_logs.csv', append=True)\n",
        "\n",
        "# making model checkpoints\n",
        "model_checkpoint = tf.keras.callbacks.ModelCheckpoint('DTL_customnet_model.h5', save_best_only=True)\n",
        "\n",
        "history = model.fit(train_gen,\n",
        "                  epochs = epochs,\n",
        "                  validation_data = valid_gen,\n",
        "                  validation_steps = val_steps,\n",
        "                  callbacks = [model_checkpoint, csv_logger]\n",
        "                 )\n",
        "\n",
        "end = time.time()\n",
        "print('Time Taken: %.3f seconds' % (end-start))"
      ],
      "id": "CgNKYli7PLse"
    },
    {
      "cell_type": "code",
      "execution_count": null,
      "metadata": {
        "id": "O0cG93Z5uIqc"
      },
      "outputs": [],
      "source": [
        "Plot_Train([train_history])"
      ],
      "id": "O0cG93Z5uIqc"
    },
    {
      "cell_type": "markdown",
      "metadata": {
        "id": "FRwUQrYcQX9X"
      },
      "source": [
        "## Conf Matrix"
      ],
      "id": "FRwUQrYcQX9X"
    },
    {
      "cell_type": "code",
      "execution_count": null,
      "metadata": {
        "id": "9zfxSZw8lQ4S"
      },
      "outputs": [],
      "source": [
        "test_dataset = data.sample(n=30000)\n",
        "test_dataset['label'] = test_dataset['label'].astype('string')"
      ],
      "id": "9zfxSZw8lQ4S"
    },
    {
      "cell_type": "code",
      "execution_count": null,
      "metadata": {
        "id": "xUOFVAdFkzAd"
      },
      "outputs": [],
      "source": [
        "datagen = ImageDataGenerator(rescale=1./255, validation_split=split_size)\n",
        "\n",
        "test_gen = datagen.flow_from_dataframe(\n",
        "    dataframe  = test_dataset,\n",
        "    directory  = TRAIN_DIR,\n",
        "    color_mode = 'rgb',\n",
        "    x_col      = 'id',\n",
        "    y_col      = 'label',\n",
        "    subset     = 'validation',\n",
        "    batch_size = 1,\n",
        "    seed       = seed,\n",
        "    shuffle    = False,\n",
        "    class_mode = 'binary',\n",
        "    target_size = target_shape)"
      ],
      "id": "xUOFVAdFkzAd"
    },
    {
      "cell_type": "code",
      "execution_count": null,
      "metadata": {
        "id": "ptkbSpuJnYwn"
      },
      "outputs": [],
      "source": [
        "test_dataset['label'] = test_dataset['label'].astype('int')"
      ],
      "id": "ptkbSpuJnYwn"
    },
    {
      "cell_type": "code",
      "execution_count": null,
      "metadata": {
        "id": "o96-fb1ck_g0"
      },
      "outputs": [],
      "source": [
        "test_steps = np.ceil(len(test_gen) / batch_size)\n",
        "\n",
        "print('Steps:', test_steps)\n",
        "print('Test: %d ' %(test_steps))"
      ],
      "id": "o96-fb1ck_g0"
    },
    {
      "cell_type": "code",
      "execution_count": null,
      "metadata": {
        "id": "GmfLoDa5f0zf"
      },
      "outputs": [],
      "source": [
        "import matplotlib.pyplot as plt\n",
        "import seaborn as sns\n",
        "import pandas as pd\n",
        "from sklearn.metrics import ConfusionMatrixDisplay\n",
        "import matplotlib.pyplot as plt\n",
        "\n",
        "# get field by concatenating batches\n",
        "ytrue = test_gen.labels\n",
        "pred = model.predict(test_gen, verbose = 1)\n",
        "ypred = np.where(pred > 0.5, 1, 0)"
      ],
      "id": "GmfLoDa5f0zf"
    },
    {
      "cell_type": "code",
      "execution_count": null,
      "metadata": {
        "id": "RfDzkQQnVCXC"
      },
      "outputs": [],
      "source": [
        "df_preds = pd.DataFrame(ypred, ytrue)\n",
        "df_preds.head()"
      ],
      "id": "RfDzkQQnVCXC"
    },
    {
      "cell_type": "code",
      "execution_count": null,
      "metadata": {
        "id": "PsWl3s8jVCwA"
      },
      "outputs": [],
      "source": [
        "df_preds = pd.DataFrame(ypred, ytrue)\n",
        "df_preds.head()"
      ],
      "id": "PsWl3s8jVCwA"
    },
    {
      "cell_type": "code",
      "execution_count": null,
      "metadata": {
        "id": "T8ehd4XAVJfJ"
      },
      "outputs": [],
      "source": [
        "cm = confusion_matrix(y_true=ytrue, y_pred=ypred)\n",
        "\n",
        "from mlxtend.plotting import plot_confusion_matrix\n",
        "fig, ax = plot_confusion_matrix(conf_mat=cm,\n",
        "                                show_absolute=True,\n",
        "                                show_normed=True,\n",
        "                                colorbar=True,\n",
        "                               cmap = 'Dark2')\n",
        "plt.show()"
      ],
      "id": "T8ehd4XAVJfJ"
    },
    {
      "cell_type": "code",
      "execution_count": null,
      "metadata": {
        "id": "WL6RQ_1B3ZIG"
      },
      "outputs": [],
      "source": [
        "from sklearn.metrics import classification_report\n",
        "# Generate a classification report\n",
        "\n",
        "report = classification_report(ytrue, ypred, target_names = ['benign', 'malignant'])\n",
        "print(report)"
      ],
      "id": "WL6RQ_1B3ZIG"
    }
  ],
  "metadata": {
    "accelerator": "GPU",
    "colab": {
      "machine_shape": "hm",
      "provenance": []
    },
    "kernelspec": {
      "display_name": "Python 3",
      "name": "python3"
    },
    "language_info": {
      "codemirror_mode": {
        "name": "ipython",
        "version": 3
      },
      "file_extension": ".py",
      "mimetype": "text/x-python",
      "name": "python",
      "nbconvert_exporter": "python",
      "pygments_lexer": "ipython3",
      "version": "3.7.12"
    },
    "papermill": {
      "default_parameters": {},
      "duration": 2768.655766,
      "end_time": "2022-05-27T01:30:14.408865",
      "environment_variables": {},
      "exception": null,
      "input_path": "__notebook__.ipynb",
      "output_path": "__notebook__.ipynb",
      "parameters": {},
      "start_time": "2022-05-27T00:44:05.753099",
      "version": "2.3.4"
    }
  },
  "nbformat": 4,
  "nbformat_minor": 5
}